{
 "cells": [
  {
   "cell_type": "markdown",
   "metadata": {},
   "source": [
    "# Исследование объявлений о продаже квартир\n",
    "\n",
    "В вашем распоряжении данные сервиса Яндекс.Недвижимость — архив объявлений о продаже квартир в Санкт-Петербурге и соседних населённых пунктов за несколько лет. Нужно научиться определять рыночную стоимость объектов недвижимости. Ваша задача — установить параметры. Это позволит построить автоматизированную систему: она отследит аномалии и мошенническую деятельность. \n",
    "\n",
    "По каждой квартире на продажу доступны два вида данных. Первые вписаны пользователем, вторые — получены автоматически на основе картографических данных. Например, расстояние до центра, аэропорта, ближайшего парка и водоёма. "
   ]
  },
  {
   "cell_type": "markdown",
   "metadata": {},
   "source": [
    "Цель исследования: изучить данные и найти особенности и зависимости, существующие на рынке недвижимости и влияющие на ценообразование.\n",
    "\n",
    "Ход исследования:\n",
    "1. изучение общей информации;\n",
    "2. базовая предобработка данных: \n",
    "- подсчет пропущенных значений, \n",
    "- проверка и удаление явных дубликатов,\n",
    "- изменение типов и названий колонок;\n",
    "3. дальнейшая предобработка данных:\n",
    "- заполнение пропущенных значений,\n",
    "- поиск и удаление аномалий;\n",
    "4. добавление новых значений и колонок:\n",
    "- подсчет стоимости квадратного метра,\n",
    "- выделение в отдельную колонку даты (год, месяц, день недели);\n",
    "5. исследовательский анализ данных и поиск закономерностей, влияющих на ценообразование;\n",
    "6. изучение времени продажи квартир;\n",
    "7. поиск населённых пунктов с самой высокой и низкой стоимостью квадратного метра;\n",
    "8. поиск квартир в Санкт-Петербурге и вычисление средней цены каждого километра;\n",
    "9. общий вывод."
   ]
  },
  {
   "cell_type": "markdown",
   "metadata": {},
   "source": [
    "### Откройте файл с данными и изучите общую информацию. "
   ]
  },
  {
   "cell_type": "code",
   "execution_count": 1,
   "metadata": {},
   "outputs": [],
   "source": [
    "import pandas as pd \n",
    "import matplotlib.pyplot as plt"
   ]
  },
  {
   "cell_type": "code",
   "execution_count": 2,
   "metadata": {},
   "outputs": [],
   "source": [
    "data = pd.read_csv('/datasets/real_estate_data.csv', sep='\\t')"
   ]
  },
  {
   "cell_type": "code",
   "execution_count": 3,
   "metadata": {},
   "outputs": [
    {
     "name": "stdout",
     "output_type": "stream",
     "text": [
      "<class 'pandas.core.frame.DataFrame'>\n",
      "RangeIndex: 23699 entries, 0 to 23698\n",
      "Data columns (total 22 columns):\n",
      " #   Column                Non-Null Count  Dtype  \n",
      "---  ------                --------------  -----  \n",
      " 0   total_images          23699 non-null  int64  \n",
      " 1   last_price            23699 non-null  float64\n",
      " 2   total_area            23699 non-null  float64\n",
      " 3   first_day_exposition  23699 non-null  object \n",
      " 4   rooms                 23699 non-null  int64  \n",
      " 5   ceiling_height        14504 non-null  float64\n",
      " 6   floors_total          23613 non-null  float64\n",
      " 7   living_area           21796 non-null  float64\n",
      " 8   floor                 23699 non-null  int64  \n",
      " 9   is_apartment          2775 non-null   object \n",
      " 10  studio                23699 non-null  bool   \n",
      " 11  open_plan             23699 non-null  bool   \n",
      " 12  kitchen_area          21421 non-null  float64\n",
      " 13  balcony               12180 non-null  float64\n",
      " 14  locality_name         23650 non-null  object \n",
      " 15  airports_nearest      18157 non-null  float64\n",
      " 16  cityCenters_nearest   18180 non-null  float64\n",
      " 17  parks_around3000      18181 non-null  float64\n",
      " 18  parks_nearest         8079 non-null   float64\n",
      " 19  ponds_around3000      18181 non-null  float64\n",
      " 20  ponds_nearest         9110 non-null   float64\n",
      " 21  days_exposition       20518 non-null  float64\n",
      "dtypes: bool(2), float64(14), int64(3), object(3)\n",
      "memory usage: 3.7+ MB\n"
     ]
    }
   ],
   "source": [
    "data.info()"
   ]
  },
  {
   "cell_type": "markdown",
   "metadata": {},
   "source": [
    "В датасете 23699 строки. \n",
    "\n",
    "Столбцу cityCenters_nearest необходимо изменить название: перевести из стиля camel case в snake case.\n",
    "\n",
    "Некоторым столбцам нужно изменить тип данных:\n",
    "- floors_total - int64,\n",
    "- is_apartment - bool (согласно описанию данных),\n",
    "- balcony - int64."
   ]
  },
  {
   "cell_type": "code",
   "execution_count": 4,
   "metadata": {},
   "outputs": [
    {
     "data": {
      "text/html": [
       "<div>\n",
       "<style scoped>\n",
       "    .dataframe tbody tr th:only-of-type {\n",
       "        vertical-align: middle;\n",
       "    }\n",
       "\n",
       "    .dataframe tbody tr th {\n",
       "        vertical-align: top;\n",
       "    }\n",
       "\n",
       "    .dataframe thead th {\n",
       "        text-align: right;\n",
       "    }\n",
       "</style>\n",
       "<table border=\"1\" class=\"dataframe\">\n",
       "  <thead>\n",
       "    <tr style=\"text-align: right;\">\n",
       "      <th></th>\n",
       "      <th>total_images</th>\n",
       "      <th>last_price</th>\n",
       "      <th>total_area</th>\n",
       "      <th>rooms</th>\n",
       "      <th>ceiling_height</th>\n",
       "      <th>floors_total</th>\n",
       "      <th>living_area</th>\n",
       "      <th>floor</th>\n",
       "      <th>kitchen_area</th>\n",
       "      <th>balcony</th>\n",
       "      <th>airports_nearest</th>\n",
       "      <th>cityCenters_nearest</th>\n",
       "      <th>parks_around3000</th>\n",
       "      <th>parks_nearest</th>\n",
       "      <th>ponds_around3000</th>\n",
       "      <th>ponds_nearest</th>\n",
       "      <th>days_exposition</th>\n",
       "    </tr>\n",
       "  </thead>\n",
       "  <tbody>\n",
       "    <tr>\n",
       "      <th>count</th>\n",
       "      <td>23699.000000</td>\n",
       "      <td>2.369900e+04</td>\n",
       "      <td>23699.000000</td>\n",
       "      <td>23699.000000</td>\n",
       "      <td>14504.000000</td>\n",
       "      <td>23613.000000</td>\n",
       "      <td>21796.000000</td>\n",
       "      <td>23699.000000</td>\n",
       "      <td>21421.000000</td>\n",
       "      <td>12180.000000</td>\n",
       "      <td>18157.000000</td>\n",
       "      <td>18180.000000</td>\n",
       "      <td>18181.000000</td>\n",
       "      <td>8079.000000</td>\n",
       "      <td>18181.000000</td>\n",
       "      <td>9110.000000</td>\n",
       "      <td>20518.000000</td>\n",
       "    </tr>\n",
       "    <tr>\n",
       "      <th>mean</th>\n",
       "      <td>9.858475</td>\n",
       "      <td>6.541549e+06</td>\n",
       "      <td>60.348651</td>\n",
       "      <td>2.070636</td>\n",
       "      <td>2.771499</td>\n",
       "      <td>10.673824</td>\n",
       "      <td>34.457852</td>\n",
       "      <td>5.892358</td>\n",
       "      <td>10.569807</td>\n",
       "      <td>1.150082</td>\n",
       "      <td>28793.672193</td>\n",
       "      <td>14191.277833</td>\n",
       "      <td>0.611408</td>\n",
       "      <td>490.804555</td>\n",
       "      <td>0.770255</td>\n",
       "      <td>517.980900</td>\n",
       "      <td>180.888634</td>\n",
       "    </tr>\n",
       "    <tr>\n",
       "      <th>std</th>\n",
       "      <td>5.682529</td>\n",
       "      <td>1.088701e+07</td>\n",
       "      <td>35.654083</td>\n",
       "      <td>1.078405</td>\n",
       "      <td>1.261056</td>\n",
       "      <td>6.597173</td>\n",
       "      <td>22.030445</td>\n",
       "      <td>4.885249</td>\n",
       "      <td>5.905438</td>\n",
       "      <td>1.071300</td>\n",
       "      <td>12630.880622</td>\n",
       "      <td>8608.386210</td>\n",
       "      <td>0.802074</td>\n",
       "      <td>342.317995</td>\n",
       "      <td>0.938346</td>\n",
       "      <td>277.720643</td>\n",
       "      <td>219.727988</td>\n",
       "    </tr>\n",
       "    <tr>\n",
       "      <th>min</th>\n",
       "      <td>0.000000</td>\n",
       "      <td>1.219000e+04</td>\n",
       "      <td>12.000000</td>\n",
       "      <td>0.000000</td>\n",
       "      <td>1.000000</td>\n",
       "      <td>1.000000</td>\n",
       "      <td>2.000000</td>\n",
       "      <td>1.000000</td>\n",
       "      <td>1.300000</td>\n",
       "      <td>0.000000</td>\n",
       "      <td>0.000000</td>\n",
       "      <td>181.000000</td>\n",
       "      <td>0.000000</td>\n",
       "      <td>1.000000</td>\n",
       "      <td>0.000000</td>\n",
       "      <td>13.000000</td>\n",
       "      <td>1.000000</td>\n",
       "    </tr>\n",
       "    <tr>\n",
       "      <th>25%</th>\n",
       "      <td>6.000000</td>\n",
       "      <td>3.400000e+06</td>\n",
       "      <td>40.000000</td>\n",
       "      <td>1.000000</td>\n",
       "      <td>2.520000</td>\n",
       "      <td>5.000000</td>\n",
       "      <td>18.600000</td>\n",
       "      <td>2.000000</td>\n",
       "      <td>7.000000</td>\n",
       "      <td>0.000000</td>\n",
       "      <td>18585.000000</td>\n",
       "      <td>9238.000000</td>\n",
       "      <td>0.000000</td>\n",
       "      <td>288.000000</td>\n",
       "      <td>0.000000</td>\n",
       "      <td>294.000000</td>\n",
       "      <td>45.000000</td>\n",
       "    </tr>\n",
       "    <tr>\n",
       "      <th>50%</th>\n",
       "      <td>9.000000</td>\n",
       "      <td>4.650000e+06</td>\n",
       "      <td>52.000000</td>\n",
       "      <td>2.000000</td>\n",
       "      <td>2.650000</td>\n",
       "      <td>9.000000</td>\n",
       "      <td>30.000000</td>\n",
       "      <td>4.000000</td>\n",
       "      <td>9.100000</td>\n",
       "      <td>1.000000</td>\n",
       "      <td>26726.000000</td>\n",
       "      <td>13098.500000</td>\n",
       "      <td>0.000000</td>\n",
       "      <td>455.000000</td>\n",
       "      <td>1.000000</td>\n",
       "      <td>502.000000</td>\n",
       "      <td>95.000000</td>\n",
       "    </tr>\n",
       "    <tr>\n",
       "      <th>75%</th>\n",
       "      <td>14.000000</td>\n",
       "      <td>6.800000e+06</td>\n",
       "      <td>69.900000</td>\n",
       "      <td>3.000000</td>\n",
       "      <td>2.800000</td>\n",
       "      <td>16.000000</td>\n",
       "      <td>42.300000</td>\n",
       "      <td>8.000000</td>\n",
       "      <td>12.000000</td>\n",
       "      <td>2.000000</td>\n",
       "      <td>37273.000000</td>\n",
       "      <td>16293.000000</td>\n",
       "      <td>1.000000</td>\n",
       "      <td>612.000000</td>\n",
       "      <td>1.000000</td>\n",
       "      <td>729.000000</td>\n",
       "      <td>232.000000</td>\n",
       "    </tr>\n",
       "    <tr>\n",
       "      <th>max</th>\n",
       "      <td>50.000000</td>\n",
       "      <td>7.630000e+08</td>\n",
       "      <td>900.000000</td>\n",
       "      <td>19.000000</td>\n",
       "      <td>100.000000</td>\n",
       "      <td>60.000000</td>\n",
       "      <td>409.700000</td>\n",
       "      <td>33.000000</td>\n",
       "      <td>112.000000</td>\n",
       "      <td>5.000000</td>\n",
       "      <td>84869.000000</td>\n",
       "      <td>65968.000000</td>\n",
       "      <td>3.000000</td>\n",
       "      <td>3190.000000</td>\n",
       "      <td>3.000000</td>\n",
       "      <td>1344.000000</td>\n",
       "      <td>1580.000000</td>\n",
       "    </tr>\n",
       "  </tbody>\n",
       "</table>\n",
       "</div>"
      ],
      "text/plain": [
       "       total_images    last_price    total_area         rooms  ceiling_height  \\\n",
       "count  23699.000000  2.369900e+04  23699.000000  23699.000000    14504.000000   \n",
       "mean       9.858475  6.541549e+06     60.348651      2.070636        2.771499   \n",
       "std        5.682529  1.088701e+07     35.654083      1.078405        1.261056   \n",
       "min        0.000000  1.219000e+04     12.000000      0.000000        1.000000   \n",
       "25%        6.000000  3.400000e+06     40.000000      1.000000        2.520000   \n",
       "50%        9.000000  4.650000e+06     52.000000      2.000000        2.650000   \n",
       "75%       14.000000  6.800000e+06     69.900000      3.000000        2.800000   \n",
       "max       50.000000  7.630000e+08    900.000000     19.000000      100.000000   \n",
       "\n",
       "       floors_total   living_area         floor  kitchen_area       balcony  \\\n",
       "count  23613.000000  21796.000000  23699.000000  21421.000000  12180.000000   \n",
       "mean      10.673824     34.457852      5.892358     10.569807      1.150082   \n",
       "std        6.597173     22.030445      4.885249      5.905438      1.071300   \n",
       "min        1.000000      2.000000      1.000000      1.300000      0.000000   \n",
       "25%        5.000000     18.600000      2.000000      7.000000      0.000000   \n",
       "50%        9.000000     30.000000      4.000000      9.100000      1.000000   \n",
       "75%       16.000000     42.300000      8.000000     12.000000      2.000000   \n",
       "max       60.000000    409.700000     33.000000    112.000000      5.000000   \n",
       "\n",
       "       airports_nearest  cityCenters_nearest  parks_around3000  parks_nearest  \\\n",
       "count      18157.000000         18180.000000      18181.000000    8079.000000   \n",
       "mean       28793.672193         14191.277833          0.611408     490.804555   \n",
       "std        12630.880622          8608.386210          0.802074     342.317995   \n",
       "min            0.000000           181.000000          0.000000       1.000000   \n",
       "25%        18585.000000          9238.000000          0.000000     288.000000   \n",
       "50%        26726.000000         13098.500000          0.000000     455.000000   \n",
       "75%        37273.000000         16293.000000          1.000000     612.000000   \n",
       "max        84869.000000         65968.000000          3.000000    3190.000000   \n",
       "\n",
       "       ponds_around3000  ponds_nearest  days_exposition  \n",
       "count      18181.000000    9110.000000     20518.000000  \n",
       "mean           0.770255     517.980900       180.888634  \n",
       "std            0.938346     277.720643       219.727988  \n",
       "min            0.000000      13.000000         1.000000  \n",
       "25%            0.000000     294.000000        45.000000  \n",
       "50%            1.000000     502.000000        95.000000  \n",
       "75%            1.000000     729.000000       232.000000  \n",
       "max            3.000000    1344.000000      1580.000000  "
      ]
     },
     "execution_count": 4,
     "metadata": {},
     "output_type": "execute_result"
    }
   ],
   "source": [
    "data.describe()"
   ]
  },
  {
   "cell_type": "markdown",
   "metadata": {},
   "source": [
    "При первом взгляде на значения min и max в разных колонках заметны выбросы:\n",
    "- total_area (12 и 900 м кв. - слишком мало и слишком много);\n",
    "- rooms (0 и 19 комнат);\n",
    "- ceiling_height (1 и 100 м);\n",
    "- living_area (2 и 409.7 м кв.);\n",
    "- kitchen_area (1.3 и 112 м кв.)."
   ]
  },
  {
   "cell_type": "code",
   "execution_count": 5,
   "metadata": {},
   "outputs": [
    {
     "data": {
      "text/plain": [
       "1         81\n",
       "2        558\n",
       "3        424\n",
       "4        121\n",
       "5         55\n",
       "        ... \n",
       "23691    519\n",
       "23692    413\n",
       "23693    239\n",
       "23695     45\n",
       "23697    602\n",
       "Name: days_exposition, Length: 20518, dtype: int64"
      ]
     },
     "execution_count": 5,
     "metadata": {},
     "output_type": "execute_result"
    }
   ],
   "source": [
    "# Изменить типы колонкам is_apartment, balcony, floors_total, days_exposition.\n",
    "\n",
    "data['is_apartment'] = data['is_apartment'].astype(bool)\n",
    "data.query('balcony.isna() == False')['balcony'].astype('int64')\n",
    "data.query('floors_total.isna() == False')['floors_total'].astype('int64')\n",
    "data.query('days_exposition.isna() == False')['days_exposition'].astype('int64')"
   ]
  },
  {
   "cell_type": "code",
   "execution_count": 6,
   "metadata": {},
   "outputs": [],
   "source": [
    "# Изменим имя колонке cityCenters_nearest.\n",
    "\n",
    "data.rename(columns={'cityCenters_nearest': 'city_centers_nearest'}, inplace=True)"
   ]
  },
  {
   "cell_type": "code",
   "execution_count": 7,
   "metadata": {},
   "outputs": [],
   "source": [
    "# Округлим значение колонки 'last_price' до целого\n",
    "\n",
    "data['last_price'] = data['last_price'].round(0)"
   ]
  },
  {
   "cell_type": "code",
   "execution_count": 8,
   "metadata": {},
   "outputs": [
    {
     "data": {
      "image/png": "[encoded data removed]",
      "text/plain": [
       "<Figure size 1080x1440 with 20 Axes>"
      ]
     },
     "metadata": {
      "needs_background": "light"
     },
     "output_type": "display_data"
    }
   ],
   "source": [
    "# Построим общую гистограмму для всех столбцов таблицы.\n",
    "\n",
    "data.hist(figsize=(15, 20));"
   ]
  },
  {
   "cell_type": "markdown",
   "metadata": {},
   "source": [
    "Как и предположили выше, в колонках total_area, rooms, ceiling_height, living_area и kitchen_area заметны выбросы.\n",
    "\n",
    "Длинный правый хвост гистограммы days_exposition нельзя однозначно классифицировать как выброс. Он мог появиться по нескольким причинам:\n",
    "1. недвижимость могут еще не продать (неудачное расположение, завышенная цена, проблем с документами и/или собственниками и пр.);\n",
    "2. квартиру продали, но объявление не закрыли."
   ]
  },
  {
   "cell_type": "markdown",
   "metadata": {},
   "source": [
    "### Предобработка данных"
   ]
  },
  {
   "cell_type": "code",
   "execution_count": 9,
   "metadata": {
    "scrolled": false
   },
   "outputs": [
    {
     "data": {
      "text/plain": [
       "total_images                0\n",
       "last_price                  0\n",
       "total_area                  0\n",
       "first_day_exposition        0\n",
       "rooms                       0\n",
       "ceiling_height           9195\n",
       "floors_total               86\n",
       "living_area              1903\n",
       "floor                       0\n",
       "is_apartment                0\n",
       "studio                      0\n",
       "open_plan                   0\n",
       "kitchen_area             2278\n",
       "balcony                 11519\n",
       "locality_name              49\n",
       "airports_nearest         5542\n",
       "city_centers_nearest     5519\n",
       "parks_around3000         5518\n",
       "parks_nearest           15620\n",
       "ponds_around3000         5518\n",
       "ponds_nearest           14589\n",
       "days_exposition          3181\n",
       "dtype: int64"
      ]
     },
     "execution_count": 9,
     "metadata": {},
     "output_type": "execute_result"
    }
   ],
   "source": [
    "# Посчитаем количество пропущенных значений в data.\n",
    "\n",
    "data.isna().sum()"
   ]
  },
  {
   "cell_type": "code",
   "execution_count": 10,
   "metadata": {},
   "outputs": [
    {
     "data": {
      "text/html": [
       "<style  type=\"text/css\" >\n",
       "#T_7c64d_row0_col0,#T_7c64d_row1_col0,#T_7c64d_row2_col0,#T_7c64d_row3_col0,#T_7c64d_row4_col0,#T_7c64d_row6_col0,#T_7c64d_row8_col0,#T_7c64d_row9_col0,#T_7c64d_row10_col0,#T_7c64d_row11_col0,#T_7c64d_row14_col0{\n",
       "            background-color:  #3b4cc0;\n",
       "            color:  #f1f1f1;\n",
       "        }#T_7c64d_row5_col0{\n",
       "            background-color:  #f1cdba;\n",
       "            color:  #000000;\n",
       "        }#T_7c64d_row7_col0{\n",
       "            background-color:  #6180e9;\n",
       "            color:  #000000;\n",
       "        }#T_7c64d_row12_col0{\n",
       "            background-color:  #6a8bef;\n",
       "            color:  #000000;\n",
       "        }#T_7c64d_row13_col0{\n",
       "            background-color:  #f59c7d;\n",
       "            color:  #000000;\n",
       "        }#T_7c64d_row15_col0,#T_7c64d_row16_col0,#T_7c64d_row17_col0,#T_7c64d_row19_col0{\n",
       "            background-color:  #afcafc;\n",
       "            color:  #000000;\n",
       "        }#T_7c64d_row18_col0{\n",
       "            background-color:  #b40426;\n",
       "            color:  #f1f1f1;\n",
       "        }#T_7c64d_row20_col0{\n",
       "            background-color:  #ca3b37;\n",
       "            color:  #f1f1f1;\n",
       "        }#T_7c64d_row21_col0{\n",
       "            background-color:  #7a9df8;\n",
       "            color:  #000000;\n",
       "        }</style><table id=\"T_7c64d_\" ><thead>    <tr>        <th class=\"blank level0\" ></th>        <th class=\"col_heading level0 col0\" >0</th>    </tr></thead><tbody>\n",
       "                <tr>\n",
       "                        <th id=\"T_7c64d_level0_row0\" class=\"row_heading level0 row0\" >total_images</th>\n",
       "                        <td id=\"T_7c64d_row0_col0\" class=\"data row0 col0\" >0.000000</td>\n",
       "            </tr>\n",
       "            <tr>\n",
       "                        <th id=\"T_7c64d_level0_row1\" class=\"row_heading level0 row1\" >last_price</th>\n",
       "                        <td id=\"T_7c64d_row1_col0\" class=\"data row1 col0\" >0.000000</td>\n",
       "            </tr>\n",
       "            <tr>\n",
       "                        <th id=\"T_7c64d_level0_row2\" class=\"row_heading level0 row2\" >total_area</th>\n",
       "                        <td id=\"T_7c64d_row2_col0\" class=\"data row2 col0\" >0.000000</td>\n",
       "            </tr>\n",
       "            <tr>\n",
       "                        <th id=\"T_7c64d_level0_row3\" class=\"row_heading level0 row3\" >first_day_exposition</th>\n",
       "                        <td id=\"T_7c64d_row3_col0\" class=\"data row3 col0\" >0.000000</td>\n",
       "            </tr>\n",
       "            <tr>\n",
       "                        <th id=\"T_7c64d_level0_row4\" class=\"row_heading level0 row4\" >rooms</th>\n",
       "                        <td id=\"T_7c64d_row4_col0\" class=\"data row4 col0\" >0.000000</td>\n",
       "            </tr>\n",
       "            <tr>\n",
       "                        <th id=\"T_7c64d_level0_row5\" class=\"row_heading level0 row5\" >ceiling_height</th>\n",
       "                        <td id=\"T_7c64d_row5_col0\" class=\"data row5 col0\" >39.000000</td>\n",
       "            </tr>\n",
       "            <tr>\n",
       "                        <th id=\"T_7c64d_level0_row6\" class=\"row_heading level0 row6\" >floors_total</th>\n",
       "                        <td id=\"T_7c64d_row6_col0\" class=\"data row6 col0\" >0.000000</td>\n",
       "            </tr>\n",
       "            <tr>\n",
       "                        <th id=\"T_7c64d_level0_row7\" class=\"row_heading level0 row7\" >living_area</th>\n",
       "                        <td id=\"T_7c64d_row7_col0\" class=\"data row7 col0\" >8.000000</td>\n",
       "            </tr>\n",
       "            <tr>\n",
       "                        <th id=\"T_7c64d_level0_row8\" class=\"row_heading level0 row8\" >floor</th>\n",
       "                        <td id=\"T_7c64d_row8_col0\" class=\"data row8 col0\" >0.000000</td>\n",
       "            </tr>\n",
       "            <tr>\n",
       "                        <th id=\"T_7c64d_level0_row9\" class=\"row_heading level0 row9\" >is_apartment</th>\n",
       "                        <td id=\"T_7c64d_row9_col0\" class=\"data row9 col0\" >0.000000</td>\n",
       "            </tr>\n",
       "            <tr>\n",
       "                        <th id=\"T_7c64d_level0_row10\" class=\"row_heading level0 row10\" >studio</th>\n",
       "                        <td id=\"T_7c64d_row10_col0\" class=\"data row10 col0\" >0.000000</td>\n",
       "            </tr>\n",
       "            <tr>\n",
       "                        <th id=\"T_7c64d_level0_row11\" class=\"row_heading level0 row11\" >open_plan</th>\n",
       "                        <td id=\"T_7c64d_row11_col0\" class=\"data row11 col0\" >0.000000</td>\n",
       "            </tr>\n",
       "            <tr>\n",
       "                        <th id=\"T_7c64d_level0_row12\" class=\"row_heading level0 row12\" >kitchen_area</th>\n",
       "                        <td id=\"T_7c64d_row12_col0\" class=\"data row12 col0\" >10.000000</td>\n",
       "            </tr>\n",
       "            <tr>\n",
       "                        <th id=\"T_7c64d_level0_row13\" class=\"row_heading level0 row13\" >balcony</th>\n",
       "                        <td id=\"T_7c64d_row13_col0\" class=\"data row13 col0\" >49.000000</td>\n",
       "            </tr>\n",
       "            <tr>\n",
       "                        <th id=\"T_7c64d_level0_row14\" class=\"row_heading level0 row14\" >locality_name</th>\n",
       "                        <td id=\"T_7c64d_row14_col0\" class=\"data row14 col0\" >0.000000</td>\n",
       "            </tr>\n",
       "            <tr>\n",
       "                        <th id=\"T_7c64d_level0_row15\" class=\"row_heading level0 row15\" >airports_nearest</th>\n",
       "                        <td id=\"T_7c64d_row15_col0\" class=\"data row15 col0\" >23.000000</td>\n",
       "            </tr>\n",
       "            <tr>\n",
       "                        <th id=\"T_7c64d_level0_row16\" class=\"row_heading level0 row16\" >city_centers_nearest</th>\n",
       "                        <td id=\"T_7c64d_row16_col0\" class=\"data row16 col0\" >23.000000</td>\n",
       "            </tr>\n",
       "            <tr>\n",
       "                        <th id=\"T_7c64d_level0_row17\" class=\"row_heading level0 row17\" >parks_around3000</th>\n",
       "                        <td id=\"T_7c64d_row17_col0\" class=\"data row17 col0\" >23.000000</td>\n",
       "            </tr>\n",
       "            <tr>\n",
       "                        <th id=\"T_7c64d_level0_row18\" class=\"row_heading level0 row18\" >parks_nearest</th>\n",
       "                        <td id=\"T_7c64d_row18_col0\" class=\"data row18 col0\" >66.000000</td>\n",
       "            </tr>\n",
       "            <tr>\n",
       "                        <th id=\"T_7c64d_level0_row19\" class=\"row_heading level0 row19\" >ponds_around3000</th>\n",
       "                        <td id=\"T_7c64d_row19_col0\" class=\"data row19 col0\" >23.000000</td>\n",
       "            </tr>\n",
       "            <tr>\n",
       "                        <th id=\"T_7c64d_level0_row20\" class=\"row_heading level0 row20\" >ponds_nearest</th>\n",
       "                        <td id=\"T_7c64d_row20_col0\" class=\"data row20 col0\" >62.000000</td>\n",
       "            </tr>\n",
       "            <tr>\n",
       "                        <th id=\"T_7c64d_level0_row21\" class=\"row_heading level0 row21\" >days_exposition</th>\n",
       "                        <td id=\"T_7c64d_row21_col0\" class=\"data row21 col0\" >13.000000</td>\n",
       "            </tr>\n",
       "    </tbody></table>"
      ],
      "text/plain": [
       "<pandas.io.formats.style.Styler at 0x7fe067222be0>"
      ]
     },
     "execution_count": 10,
     "metadata": {},
     "output_type": "execute_result"
    }
   ],
   "source": [
    "# Проверим колличество пропусков в процентах.\n",
    "\n",
    "pd.DataFrame(round(data.isna().mean()*100,)).style.background_gradient('coolwarm')"
   ]
  },
  {
   "cell_type": "markdown",
   "metadata": {},
   "source": [
    "Пропусков нет в 9 колонках: \n",
    "total_images, last_price, total_area, first_day_exposition, rooms, floor, is_apartment, studio, open_plan.\n",
    "\n",
    "В колонках parks_nearest и ponds_nearest более 50% пропусков: пропусков слишком много, не получится заполнить их логически, необходимо заполнить дополнительные данные.\n",
    "\n",
    "Данные в колонках airports_nearest, city_centers_nearest, parks_around3000, parks_nearest, ponds_around3000 и ponds_nearest возможно заполнить медианным значением только для небольших населенных пунктов. Для крупных (таких как Санкт-Петербург) такой способ заполнения не подойдет, необходимо запросить точное местоположение объекта.  "
   ]
  },
  {
   "cell_type": "code",
   "execution_count": 75,
   "metadata": {},
   "outputs": [
    {
     "name": "stdout",
     "output_type": "stream",
     "text": [
      "0\n"
     ]
    }
   ],
   "source": [
    "# Проведем подсчет и удаление явных дубликатов\n",
    "\n",
    "print(data.duplicated().sum())\n",
    "data = data.drop_duplicates()"
   ]
  },
  {
   "cell_type": "markdown",
   "metadata": {},
   "source": [
    "Если продавец не указал число балконов, то, скорее всего, в его квартире их нет."
   ]
  },
  {
   "cell_type": "code",
   "execution_count": 12,
   "metadata": {},
   "outputs": [],
   "source": [
    "# Заполним пропущенные значения колонки 'balcony' 0.\n",
    "\n",
    "data['balcony'] = data['balcony'].fillna(0)"
   ]
  },
  {
   "cell_type": "code",
   "execution_count": 13,
   "metadata": {},
   "outputs": [
    {
     "data": {
      "text/plain": [
       "Санкт-Петербург           15721\n",
       "посёлок Мурино              522\n",
       "посёлок Шушары              440\n",
       "Всеволожск                  398\n",
       "Пушкин                      369\n",
       "                          ...  \n",
       "поселок Кирпичное             1\n",
       "посёлок Левашово              1\n",
       "деревня Котлы                 1\n",
       "посёлок Высокоключевой        1\n",
       "деревня Тойворово             1\n",
       "Name: locality_name, Length: 364, dtype: int64"
      ]
     },
     "execution_count": 13,
     "metadata": {},
     "output_type": "execute_result"
    }
   ],
   "source": [
    "# Посчитаем количество уникальных значений колонки 'locality_name'.\n",
    "\n",
    "data['locality_name'].value_counts()"
   ]
  },
  {
   "cell_type": "code",
   "execution_count": 14,
   "metadata": {},
   "outputs": [
    {
     "data": {
      "text/plain": [
       "array(['Санкт-Петербург', 'посёлок Шушары', 'городской посёлок Янино-1',\n",
       "       'посёлок Парголово', 'посёлок Мурино', 'Ломоносов', 'Сертолово',\n",
       "       'Петергоф', 'Пушкин', 'деревня Кудрово', 'Коммунар', 'Колпино',\n",
       "       'поселок городского типа Красный Бор', 'Гатчина', 'поселок Мурино',\n",
       "       'деревня Фёдоровское', 'Выборг', 'Кронштадт', 'Кировск',\n",
       "       'деревня Новое Девяткино', 'посёлок Металлострой',\n",
       "       'посёлок городского типа Лебяжье',\n",
       "       'посёлок городского типа Сиверский', 'поселок Молодцово',\n",
       "       'поселок городского типа Кузьмоловский',\n",
       "       'садовое товарищество Новая Ропша', 'Павловск',\n",
       "       'деревня Пикколово', 'Всеволожск', 'Волхов', 'Кингисепп',\n",
       "       'Приозерск', 'Сестрорецк', 'деревня Куттузи', 'посёлок Аннино',\n",
       "       'поселок городского типа Ефимовский', 'посёлок Плодовое',\n",
       "       'деревня Заклинье', 'поселок Торковичи', 'поселок Первомайское',\n",
       "       'Красное Село', 'посёлок Понтонный', 'Сясьстрой', 'деревня Старая',\n",
       "       'деревня Лесколово', 'посёлок Новый Свет', 'Сланцы',\n",
       "       'село Путилово', 'Ивангород', 'Мурино', 'Шлиссельбург',\n",
       "       'Никольское', 'Зеленогорск', 'Сосновый Бор', 'поселок Новый Свет',\n",
       "       'деревня Оржицы', 'деревня Кальтино', 'Кудрово',\n",
       "       'поселок Романовка', 'посёлок Бугры', 'поселок Бугры',\n",
       "       'поселок городского типа Рощино', 'Кириши', 'Луга', 'Волосово',\n",
       "       'Отрадное', 'село Павлово', 'поселок Оредеж', 'село Копорье',\n",
       "       'посёлок городского типа Красный Бор', 'посёлок Молодёжное',\n",
       "       'Тихвин', 'посёлок Победа', 'деревня Нурма',\n",
       "       'поселок городского типа Синявино', 'Тосно',\n",
       "       'посёлок городского типа Кузьмоловский', 'посёлок Стрельна',\n",
       "       'Бокситогорск', 'посёлок Александровская', 'деревня Лопухинка',\n",
       "       'Пикалёво', 'поселок Терволово',\n",
       "       'поселок городского типа Советский', 'Подпорожье',\n",
       "       'посёлок Петровское', 'посёлок городского типа Токсово',\n",
       "       'поселок Сельцо', 'посёлок городского типа Вырица',\n",
       "       'деревня Кипень', 'деревня Келози', 'деревня Вартемяги',\n",
       "       'посёлок Тельмана', 'поселок Севастьяново',\n",
       "       'городской поселок Большая Ижора', nan,\n",
       "       'городской посёлок Павлово', 'деревня Агалатово',\n",
       "       'посёлок Новогорелово', 'городской посёлок Лесогорский',\n",
       "       'деревня Лаголово', 'поселок Цвелодубово',\n",
       "       'поселок городского типа Рахья', 'поселок городского типа Вырица',\n",
       "       'деревня Белогорка', 'поселок Заводской',\n",
       "       'городской посёлок Новоселье', 'деревня Большие Колпаны',\n",
       "       'деревня Горбунки', 'деревня Батово', 'деревня Заневка',\n",
       "       'деревня Иссад', 'Приморск', 'городской посёлок Фёдоровское',\n",
       "       'деревня Мистолово', 'Новая Ладога', 'поселок Зимитицы',\n",
       "       'поселок Барышево', 'деревня Разметелево',\n",
       "       'поселок городского типа имени Свердлова', 'деревня Пеники',\n",
       "       'поселок Рябово', 'деревня Пудомяги', 'поселок станции Корнево',\n",
       "       'деревня Низино', 'деревня Бегуницы', 'посёлок Поляны',\n",
       "       'городской посёлок Мга', 'поселок Елизаветино',\n",
       "       'посёлок городского типа Кузнечное', 'деревня Колтуши',\n",
       "       'поселок Запорожское', 'посёлок городского типа Рощино',\n",
       "       'деревня Гостилицы', 'деревня Малое Карлино',\n",
       "       'посёлок Мичуринское', 'посёлок городского типа имени Морозова',\n",
       "       'посёлок Песочный', 'посёлок Сосново', 'деревня Аро',\n",
       "       'поселок Ильичёво', 'посёлок городского типа Тайцы',\n",
       "       'деревня Малое Верево', 'деревня Извара', 'поселок станции Вещево',\n",
       "       'село Паша', 'деревня Калитино',\n",
       "       'посёлок городского типа Ульяновка', 'деревня Чудской Бор',\n",
       "       'поселок городского типа Дубровка', 'деревня Мины',\n",
       "       'поселок Войсковицы', 'посёлок городского типа имени Свердлова',\n",
       "       'деревня Коркино', 'посёлок Ропша',\n",
       "       'поселок городского типа Приладожский', 'посёлок Щеглово',\n",
       "       'посёлок Гаврилово', 'Лодейное Поле', 'деревня Рабитицы',\n",
       "       'поселок городского типа Никольский', 'деревня Кузьмолово',\n",
       "       'деревня Малые Колпаны', 'поселок Тельмана',\n",
       "       'посёлок Петро-Славянка', 'городской посёлок Назия',\n",
       "       'посёлок Репино', 'посёлок Ильичёво', 'поселок Углово',\n",
       "       'поселок Старая Малукса', 'садовое товарищество Рахья',\n",
       "       'поселок Аннино', 'поселок Победа', 'деревня Меньково',\n",
       "       'деревня Старые Бегуницы', 'посёлок Сапёрный', 'поселок Семрино',\n",
       "       'поселок Гаврилово', 'поселок Глажево', 'поселок Кобринское',\n",
       "       'деревня Гарболово', 'деревня Юкки',\n",
       "       'поселок станции Приветнинское', 'деревня Мануйлово',\n",
       "       'деревня Пчева', 'поселок Поляны', 'поселок Цвылёво',\n",
       "       'поселок Мельниково', 'посёлок Пудость', 'посёлок Усть-Луга',\n",
       "       'Светогорск', 'Любань', 'поселок Селезнёво',\n",
       "       'поселок городского типа Рябово', 'Каменногорск', 'деревня Кривко',\n",
       "       'поселок Глебычево', 'деревня Парицы', 'поселок Жилпосёлок',\n",
       "       'посёлок городского типа Мга', 'городской поселок Янино-1',\n",
       "       'посёлок Войскорово', 'село Никольское', 'посёлок Терволово',\n",
       "       'поселок Стеклянный', 'посёлок городского типа Важины',\n",
       "       'посёлок Мыза-Ивановка', 'село Русско-Высоцкое',\n",
       "       'поселок городского типа Лебяжье',\n",
       "       'поселок городского типа Форносово', 'село Старая Ладога',\n",
       "       'поселок Житково', 'городской посёлок Виллози', 'деревня Лампово',\n",
       "       'деревня Шпаньково', 'деревня Лаврики', 'посёлок Сумино',\n",
       "       'посёлок Возрождение', 'деревня Старосиверская',\n",
       "       'посёлок Кикерино', 'поселок Возрождение',\n",
       "       'деревня Старое Хинколово', 'посёлок Пригородный',\n",
       "       'посёлок Торфяное', 'городской посёлок Будогощь',\n",
       "       'поселок Суходолье', 'поселок Красная Долина', 'деревня Хапо-Ое',\n",
       "       'поселок городского типа Дружная Горка', 'поселок Лисий Нос',\n",
       "       'деревня Яльгелево', 'посёлок Стеклянный', 'село Рождествено',\n",
       "       'деревня Старополье', 'посёлок Левашово', 'деревня Сяськелево',\n",
       "       'деревня Камышовка',\n",
       "       'садоводческое некоммерческое товарищество Лесная Поляна',\n",
       "       'деревня Хязельки', 'поселок Жилгородок',\n",
       "       'посёлок городского типа Павлово', 'деревня Ялгино',\n",
       "       'поселок Новый Учхоз', 'городской посёлок Рощино',\n",
       "       'поселок Гончарово', 'поселок Почап', 'посёлок Сапёрное',\n",
       "       'посёлок Платформа 69-й километр', 'поселок Каложицы',\n",
       "       'деревня Фалилеево', 'деревня Пельгора',\n",
       "       'поселок городского типа Лесогорский', 'деревня Торошковичи',\n",
       "       'посёлок Белоостров', 'посёлок Алексеевка', 'поселок Серебрянский',\n",
       "       'поселок Лукаши', 'поселок Петровское', 'деревня Щеглово',\n",
       "       'поселок Мичуринское', 'деревня Тарасово', 'поселок Кингисеппский',\n",
       "       'посёлок при железнодорожной станции Вещево', 'поселок Ушаки',\n",
       "       'деревня Котлы', 'деревня Сижно', 'деревня Торосово',\n",
       "       'посёлок Форт Красная Горка', 'поселок городского типа Токсово',\n",
       "       'деревня Новолисино', 'посёлок станции Громово', 'деревня Глинка',\n",
       "       'посёлок Мельниково', 'поселок городского типа Назия',\n",
       "       'деревня Старая Пустошь', 'поселок Коммунары', 'поселок Починок',\n",
       "       'посёлок городского типа Вознесенье', 'деревня Разбегаево',\n",
       "       'посёлок городского типа Рябово', 'поселок Гладкое',\n",
       "       'посёлок при железнодорожной станции Приветнинское',\n",
       "       'поселок Тёсово-4', 'посёлок Жилгородок', 'деревня Бор',\n",
       "       'посёлок Коробицыно', 'деревня Большая Вруда', 'деревня Курковицы',\n",
       "       'посёлок Лисий Нос', 'городской посёлок Советский',\n",
       "       'посёлок Кобралово', 'деревня Суоранда', 'поселок Кобралово',\n",
       "       'поселок городского типа Кондратьево',\n",
       "       'коттеджный поселок Счастье', 'поселок Любань', 'деревня Реброво',\n",
       "       'деревня Зимитицы', 'деревня Тойворово', 'поселок Семиозерье',\n",
       "       'поселок Лесное', 'поселок Совхозный', 'поселок Усть-Луга',\n",
       "       'посёлок Ленинское', 'посёлок Суйда',\n",
       "       'посёлок городского типа Форносово', 'деревня Нижние Осельки',\n",
       "       'посёлок станции Свирь', 'поселок Перово', 'Высоцк',\n",
       "       'поселок Гарболово', 'село Шум', 'поселок Котельский',\n",
       "       'поселок станции Лужайка', 'деревня Большая Пустомержа',\n",
       "       'поселок Красносельское', 'деревня Вахнова Кара', 'деревня Пижма',\n",
       "       'коттеджный поселок Кивеннапа Север', 'поселок Коробицыно',\n",
       "       'поселок Ромашки', 'посёлок Перово', 'деревня Каськово',\n",
       "       'деревня Куровицы', 'посёлок Плоское', 'поселок Сумино',\n",
       "       'поселок городского типа Большая Ижора', 'поселок Кирпичное',\n",
       "       'деревня Ям-Тесово', 'деревня Раздолье', 'деревня Терпилицы',\n",
       "       'посёлок Шугозеро', 'деревня Ваганово', 'поселок Пушное',\n",
       "       'садовое товарищество Садко', 'посёлок Усть-Ижора',\n",
       "       'деревня Выскатка', 'городской посёлок Свирьстрой',\n",
       "       'поселок Громово', 'деревня Кисельня', 'посёлок Старая Малукса',\n",
       "       'деревня Трубников Бор', 'поселок Калитино',\n",
       "       'посёлок Высокоключевой', 'садовое товарищество Приладожский',\n",
       "       'посёлок Пансионат Зелёный Бор', 'деревня Ненимяки',\n",
       "       'поселок Пансионат Зелёный Бор', 'деревня Снегирёвка',\n",
       "       'деревня Рапполово', 'деревня Пустынка', 'поселок Рабитицы',\n",
       "       'деревня Большой Сабск', 'деревня Русско', 'деревня Лупполово',\n",
       "       'деревня Большое Рейзино', 'деревня Малая Романовка',\n",
       "       'поселок Дружноселье', 'поселок Пчевжа', 'поселок Володарское',\n",
       "       'деревня Нижняя', 'коттеджный посёлок Лесное', 'деревня Тихковицы',\n",
       "       'деревня Борисова Грива', 'посёлок Дзержинского'], dtype=object)"
      ]
     },
     "execution_count": 14,
     "metadata": {},
     "output_type": "execute_result"
    }
   ],
   "source": [
    "# и выведем их на экран.\n",
    "\n",
    "data['locality_name'].unique()"
   ]
  },
  {
   "cell_type": "markdown",
   "metadata": {},
   "source": [
    "Среди значений колонки 'locality_name' были замечены два вида неявных дубликатов:\n",
    "1. \"очевидные\" неявные дубликаты - замены букв Ё на Е (например, \"поселок Тельмана\" и \"посёлок Тельмана\");\n",
    "2. и \"неочевидные\" неявные дубликаты - перестановка или отсутсвие слов в названии (\"городской посёлок Павлово\" и \"посёлок городского типа Павлово\").\n",
    "\n",
    "Было несколько вариантов избавления от этих пропусков:\n",
    "1. долгое - провести быструю замену (replace) слов \"поселок\" на \"посёлок\" и вручную найди и заменить названия \"неочевидных\" дубликатов;\n",
    "2. быстрое - вынести в отдельную колонку названия населенных пунктов без указания его типа.\n",
    "Я решила остановиться на втором варианте. Используя его, оставалась вероятность, что разные типы населенных пунктов имеют общее название, данные, относящиеся к разным нас. пунктам \"сольются\" и не будут точными, но учитывая общее количество данных, этой вероятности было решено пренебречь."
   ]
  },
  {
   "cell_type": "markdown",
   "metadata": {},
   "source": [
    "Для заполнения пропусков был выбран следующий алгоритм:\n",
    "1. 'locality_name' - привести к единому стилю названия населенных пунктов, удалить строки с пропусками в колонке (49 строк), т.к. заполнить вручную их не удастся;\n",
    "2. 'ceiling_height' - найди и изменить выбивающиеся значения в колонке, удалить выбросы, заполнить пропуски в колонке медианным значением, сгруппированным по названию населенного пункта;\n",
    "3. 'kitchen_area' и 'living_area' - заполнить пропуски в колонке медианным значением, сгруппированным по общей площади ('total_area);\n",
    "\n",
    "4. борьба с выбросами."
   ]
  },
  {
   "cell_type": "code",
   "execution_count": 15,
   "metadata": {},
   "outputs": [],
   "source": [
    "# Веделяем название населенного пункта в отдельную колонку.\n",
    "\n",
    "data['locality_name'] = data['locality_name'].str.replace('поселок', 'посёлок')\n",
    "data['locality_name_strip'] = data['locality_name'] \\\n",
    "    .str.replace('посёлок', '') \\\n",
    "    .str.replace('село', '') \\\n",
    "    .str.replace('деревня', '') \\\n",
    "    .str.replace('городского типа', '') \\\n",
    "    .str.replace('городской', '') \\\n",
    "    .str.replace('садовое товарищество', '') \\\n",
    "    .str.replace('садоводческое некоммерческое товарищество', '')"
   ]
  },
  {
   "cell_type": "code",
   "execution_count": 16,
   "metadata": {},
   "outputs": [],
   "source": [
    "# Удаляем пропущенные значения в колонке 'locality_name'.\n",
    "\n",
    "data.dropna(subset=['locality_name'], inplace=True)"
   ]
  },
  {
   "cell_type": "code",
   "execution_count": 17,
   "metadata": {},
   "outputs": [
    {
     "data": {
      "text/plain": [
       "array([  2.7 ,    nan,   3.03,   2.5 ,   2.67,   2.56,   3.05,   2.75,\n",
       "         2.6 ,   2.9 ,   2.8 ,   2.55,   3.  ,   2.65,   3.2 ,   2.61,\n",
       "         3.25,   3.45,   2.77,   2.85,   2.64,   2.57,   4.15,   3.5 ,\n",
       "         3.3 ,   2.71,   4.  ,   2.47,   2.73,   2.84,   3.1 ,   2.34,\n",
       "         3.4 ,   3.06,   2.72,   2.54,   2.51,   2.78,   2.76,  25.  ,\n",
       "         2.58,   3.7 ,   2.52,   5.2 ,   2.87,   2.66,   2.59,   2.  ,\n",
       "         2.45,   3.6 ,   2.92,   3.11,   3.13,   3.8 ,   3.15,   3.55,\n",
       "         3.16,   3.62,   3.12,   2.53,   2.74,   2.96,   2.46,   5.3 ,\n",
       "         5.  ,   2.79,   2.95,   4.06,   2.94,   3.82,   3.54,   3.53,\n",
       "         2.83,   4.7 ,   2.4 ,   3.38,   3.01,   5.6 ,   3.65,   3.9 ,\n",
       "         3.18,   3.35,   2.3 ,   3.57,   2.48,   2.62,   2.82,   3.98,\n",
       "         2.63,   3.83,   3.52,   3.95,   3.75,   2.88,   3.67,   3.87,\n",
       "         3.66,   3.85,   3.86,   4.19,   3.24,   4.8 ,   4.5 ,   4.2 ,\n",
       "         3.36,  32.  ,   3.08,   3.68,   3.07,   3.37,   3.09,   8.  ,\n",
       "         3.26,   3.34,   2.81,   3.44,   2.97,   3.14,   4.37,   2.68,\n",
       "         3.22,   3.27,  27.  ,   4.1 ,   2.93,   3.46,  24.  ,   3.47,\n",
       "         3.33,   3.63,   3.32,  26.  ,   1.2 ,   8.3 ,   2.98,   2.86,\n",
       "         3.17,   4.4 ,   3.28,   3.04,   4.45,   5.5 ,   3.84,   3.23,\n",
       "         3.02,   3.21,   3.43,   3.78,   4.3 ,   3.39,   2.69,   3.31,\n",
       "         4.65,   3.56,   2.2 ,   3.51,   3.93,   3.42,   2.99,   3.49,\n",
       "        14.  ,   4.14,   2.91,   3.88,   1.75,   4.25,   3.29,  20.  ,\n",
       "         2.25,   3.76,   3.69,   6.  ,  22.6 ,   2.89,   3.58,   5.8 ,\n",
       "        27.5 ,   2.49,   4.9 ,   3.48,  10.3 ,   1.  , 100.  ,   3.59])"
      ]
     },
     "execution_count": 17,
     "metadata": {},
     "output_type": "execute_result"
    }
   ],
   "source": [
    "# Выведем уникальные значения колонки 'ceiling_height'.\n",
    "\n",
    "data['ceiling_height'].unique()"
   ]
  },
  {
   "cell_type": "code",
   "execution_count": 18,
   "metadata": {},
   "outputs": [],
   "source": [
    "# Проведем замену очевидных аномалий, которые могли быть вызваны человеческим фактором.\n",
    "\n",
    "data.loc[data['ceiling_height']==25.0, 'ceiling_height'] = 2.5\n",
    "data.loc[data['ceiling_height']==32.0, 'ceiling_height'] = 3.2\n",
    "\n",
    "data.loc[data['ceiling_height']==27.0, 'ceiling_height'] = 2.7\n",
    "data.loc[data['ceiling_height']==24.0, 'ceiling_height'] = 2.4\n",
    "\n",
    "data.loc[data['ceiling_height']==26.0, 'ceiling_height'] = 2.6\n",
    "data.loc[data['ceiling_height']==22.6, 'ceiling_height'] = 2.26\n",
    "\n",
    "data.loc[data['ceiling_height']==20.0, 'ceiling_height'] = 2.0\n",
    "data.loc[data['ceiling_height']==27.5, 'ceiling_height'] = 2.75"
   ]
  },
  {
   "cell_type": "code",
   "execution_count": 19,
   "metadata": {},
   "outputs": [
    {
     "data": {
      "text/plain": [
       "array([  2.7 ,    nan,   3.03,   2.5 ,   2.67,   2.56,   3.05,   2.75,\n",
       "         2.6 ,   2.9 ,   2.8 ,   2.55,   3.  ,   2.65,   3.2 ,   2.61,\n",
       "         3.25,   3.45,   2.77,   2.85,   2.64,   2.57,   4.15,   3.5 ,\n",
       "         3.3 ,   2.71,   4.  ,   2.47,   2.73,   2.84,   3.1 ,   2.34,\n",
       "         3.4 ,   3.06,   2.72,   2.54,   2.51,   2.78,   2.76,   2.58,\n",
       "         3.7 ,   2.52,   5.2 ,   2.87,   2.66,   2.59,   2.  ,   2.45,\n",
       "         3.6 ,   2.92,   3.11,   3.13,   3.8 ,   3.15,   3.55,   3.16,\n",
       "         3.62,   3.12,   2.53,   2.74,   2.96,   2.46,   5.3 ,   5.  ,\n",
       "         2.79,   2.95,   4.06,   2.94,   3.82,   3.54,   3.53,   2.83,\n",
       "         4.7 ,   2.4 ,   3.38,   3.01,   5.6 ,   3.65,   3.9 ,   3.18,\n",
       "         3.35,   2.3 ,   3.57,   2.48,   2.62,   2.82,   3.98,   2.63,\n",
       "         3.83,   3.52,   3.95,   3.75,   2.88,   3.67,   3.87,   3.66,\n",
       "         3.85,   3.86,   4.19,   3.24,   4.8 ,   4.5 ,   4.2 ,   3.36,\n",
       "         3.08,   3.68,   3.07,   3.37,   3.09,   8.  ,   3.26,   3.34,\n",
       "         2.81,   3.44,   2.97,   3.14,   4.37,   2.68,   3.22,   3.27,\n",
       "         4.1 ,   2.93,   3.46,   3.47,   3.33,   3.63,   3.32,   1.2 ,\n",
       "         8.3 ,   2.98,   2.86,   3.17,   4.4 ,   3.28,   3.04,   4.45,\n",
       "         5.5 ,   3.84,   3.23,   3.02,   3.21,   3.43,   3.78,   4.3 ,\n",
       "         3.39,   2.69,   3.31,   4.65,   3.56,   2.2 ,   3.51,   3.93,\n",
       "         3.42,   2.99,   3.49,  14.  ,   4.14,   2.91,   3.88,   1.75,\n",
       "         4.25,   3.29,   2.25,   3.76,   3.69,   6.  ,   2.26,   2.89,\n",
       "         3.58,   5.8 ,   2.49,   4.9 ,   3.48,  10.3 ,   1.  , 100.  ,\n",
       "         3.59])"
      ]
     },
     "execution_count": 19,
     "metadata": {},
     "output_type": "execute_result"
    }
   ],
   "source": [
    "data['ceiling_height'].unique()"
   ]
  },
  {
   "cell_type": "code",
   "execution_count": 20,
   "metadata": {},
   "outputs": [],
   "source": [
    "# Заполним пропущенные значения колонки 'ceiling_height', сгруппированным по колонке 'locality_name_strip'.\n",
    "\n",
    "ceiling_height_median = data.groupby('locality_name_strip')['ceiling_height'].transform('median')\n",
    "data['ceiling_height'] = data['ceiling_height'].fillna(ceiling_height_median)"
   ]
  },
  {
   "cell_type": "code",
   "execution_count": 21,
   "metadata": {},
   "outputs": [],
   "source": [
    "# Заполним пропущенные значения колонки 'kitchen_area', сгруппированным по колонке 'total_area'.\n",
    "\n",
    "kitchen_area_median = data.groupby('total_area')['kitchen_area'].transform('median')\n",
    "data['kitchen_area'] = data['kitchen_area'].fillna(kitchen_area_median)"
   ]
  },
  {
   "cell_type": "code",
   "execution_count": 22,
   "metadata": {},
   "outputs": [],
   "source": [
    "# Заполним пропущенные значения колонки 'living_area', сгруппированным по колонке 'total_area'.\n",
    "\n",
    "living_area_median = data.groupby('total_area')['living_area'].transform('median')\n",
    "data['living_area'] = data['living_area'].fillna(living_area_median)"
   ]
  },
  {
   "cell_type": "markdown",
   "metadata": {},
   "source": [
    "Мы предполагаем, что есть прямая взаимосвязь между общей площадью и площадью кухни. Чем больше общая площадь, тем больше жилая площадь и тем больше площадь кухни. И наоборот."
   ]
  },
  {
   "cell_type": "code",
   "execution_count": 23,
   "metadata": {
    "scrolled": true
   },
   "outputs": [
    {
     "data": {
      "image/png": "[encoded data removed]",
      "text/plain": [
       "<Figure size 432x288 with 1 Axes>"
      ]
     },
     "metadata": {
      "needs_background": "light"
     },
     "output_type": "display_data"
    }
   ],
   "source": [
    "# Выведем диаграму размаха по колонке 'ceiling_height'. \n",
    "# Ограничим высоту по оси y до 10 метров для удобства. Помним о том, что есть выбросы более 10 метров.\n",
    "\n",
    "plt.ylim(0, 10)\n",
    "data.boxplot(column='ceiling_height');"
   ]
  },
  {
   "cell_type": "markdown",
   "metadata": {},
   "source": [
    "Минимальное значение для коноки 'ceiling_height' - 1.0.\n",
    "Медианное значение - 2.65.\n",
    "Максимальное значение - 100.0.\n",
    "\n",
    "Сегодня минимальной нормой в России считается высота потолка 2,4 метра. Предпологаем, что в элитной недвижимости или квартирах из старых районов Санкт-Петербурга высота потолков может доходить до 5 метров.\n",
    "Эти значения мы возьмем в качестве ограничений для среза."
   ]
  },
  {
   "cell_type": "code",
   "execution_count": 24,
   "metadata": {},
   "outputs": [],
   "source": [
    "data = data.query('2.4 < ceiling_height < 5')"
   ]
  },
  {
   "cell_type": "code",
   "execution_count": 25,
   "metadata": {
    "scrolled": true
   },
   "outputs": [
    {
     "data": {
      "image/png": "[encoded data removed]",
      "text/plain": [
       "<Figure size 432x288 with 1 Axes>"
      ]
     },
     "metadata": {
      "needs_background": "light"
     },
     "output_type": "display_data"
    }
   ],
   "source": [
    "# Выведем диаграму размаха по колонке 'total_area'. \n",
    "# Ограничим высоту по оси y до 10 метров для удобства. Помним о том, что есть выбросы более 10 метров.\n",
    "\n",
    "plt.ylim(0, 950)\n",
    "data.boxplot(column='total_area');"
   ]
  },
  {
   "cell_type": "markdown",
   "metadata": {},
   "source": [
    "Минимальное значение для коноки 'total_area' - 12.0. Медианное значение - 53.3. Максимальное значение - 900.0.\n",
    "\n",
    "Площадь однокомнатной квартиры ~ 30-40 квадратных метров. В домах современной постройки могут быть заложены однокомнатные квартиры или студии площадь ~25 квадратных метров. Возможность появляения в продаже мини-квартир (менее 25 метров) возможна, но маловероятно. Эти наблюдения подтверждает сайт по продажи недвижимости Циан.\n",
    "Согласно Циан, квартиры площадью более 250 квадратных метров тоже не редкость для продажи в Санкт-Петербурге - это элитная недвижимость и бывшие питерские коммуналки.\n",
    "Взглянув внимательнее на график boxplot было решено взять в качестве ограничений для среза значения 25 и 400 квадратных метров."
   ]
  },
  {
   "cell_type": "code",
   "execution_count": 26,
   "metadata": {},
   "outputs": [],
   "source": [
    "data = data.query('25 < total_area < 400')"
   ]
  },
  {
   "cell_type": "code",
   "execution_count": 27,
   "metadata": {},
   "outputs": [
    {
     "data": {
      "text/plain": [
       "count    23232.000000\n",
       "mean         2.079890\n",
       "std          1.061894\n",
       "min          0.000000\n",
       "25%          1.000000\n",
       "50%          2.000000\n",
       "75%          3.000000\n",
       "max         19.000000\n",
       "Name: rooms, dtype: float64"
      ]
     },
     "execution_count": 27,
     "metadata": {},
     "output_type": "execute_result"
    }
   ],
   "source": [
    "data['rooms'].describe()"
   ]
  },
  {
   "cell_type": "markdown",
   "metadata": {},
   "source": [
    "Взгнянем подробнее на обновленную статистику. Максимальное значение изменилось из-за предыдущих срезов с 19 на 16 комнат. Минимальное значение - 0, что является явным выбросом.\n",
    "Максимальное значение нельзя считать однозначным выбросом. Воспользовавшись поиском, мы находим статью на сайте lenta.ru от 15 декабря 2018 под заголовком \"В Петербурге нашли квартиру из 58 комнат\". Учитывая особенности застройки Санкт-Петербурга и окрестностей, мы не можем исключать возможность, что 16-комнатная квартира - это бывшее общежитие. Воспользуемся срезом для проверки"
   ]
  },
  {
   "cell_type": "code",
   "execution_count": 28,
   "metadata": {},
   "outputs": [
    {
     "data": {
      "text/html": [
       "<div>\n",
       "<style scoped>\n",
       "    .dataframe tbody tr th:only-of-type {\n",
       "        vertical-align: middle;\n",
       "    }\n",
       "\n",
       "    .dataframe tbody tr th {\n",
       "        vertical-align: top;\n",
       "    }\n",
       "\n",
       "    .dataframe thead th {\n",
       "        text-align: right;\n",
       "    }\n",
       "</style>\n",
       "<table border=\"1\" class=\"dataframe\">\n",
       "  <thead>\n",
       "    <tr style=\"text-align: right;\">\n",
       "      <th></th>\n",
       "      <th>total_images</th>\n",
       "      <th>last_price</th>\n",
       "      <th>total_area</th>\n",
       "      <th>first_day_exposition</th>\n",
       "      <th>rooms</th>\n",
       "      <th>ceiling_height</th>\n",
       "      <th>floors_total</th>\n",
       "      <th>living_area</th>\n",
       "      <th>floor</th>\n",
       "      <th>is_apartment</th>\n",
       "      <th>...</th>\n",
       "      <th>balcony</th>\n",
       "      <th>locality_name</th>\n",
       "      <th>airports_nearest</th>\n",
       "      <th>city_centers_nearest</th>\n",
       "      <th>parks_around3000</th>\n",
       "      <th>parks_nearest</th>\n",
       "      <th>ponds_around3000</th>\n",
       "      <th>ponds_nearest</th>\n",
       "      <th>days_exposition</th>\n",
       "      <th>locality_name_strip</th>\n",
       "    </tr>\n",
       "  </thead>\n",
       "  <tbody>\n",
       "    <tr>\n",
       "      <th>648</th>\n",
       "      <td>3</td>\n",
       "      <td>17500000.0</td>\n",
       "      <td>183.7</td>\n",
       "      <td>2018-07-01T00:00:00</td>\n",
       "      <td>11</td>\n",
       "      <td>3.40</td>\n",
       "      <td>7.0</td>\n",
       "      <td>138.8</td>\n",
       "      <td>7</td>\n",
       "      <td>True</td>\n",
       "      <td>...</td>\n",
       "      <td>0.0</td>\n",
       "      <td>Санкт-Петербург</td>\n",
       "      <td>23606.0</td>\n",
       "      <td>3148.0</td>\n",
       "      <td>0.0</td>\n",
       "      <td>NaN</td>\n",
       "      <td>0.0</td>\n",
       "      <td>NaN</td>\n",
       "      <td>NaN</td>\n",
       "      <td>Санкт-Петербург</td>\n",
       "    </tr>\n",
       "    <tr>\n",
       "      <th>866</th>\n",
       "      <td>5</td>\n",
       "      <td>25000000.0</td>\n",
       "      <td>363.0</td>\n",
       "      <td>2017-12-23T00:00:00</td>\n",
       "      <td>14</td>\n",
       "      <td>3.16</td>\n",
       "      <td>5.0</td>\n",
       "      <td>222.0</td>\n",
       "      <td>4</td>\n",
       "      <td>True</td>\n",
       "      <td>...</td>\n",
       "      <td>0.0</td>\n",
       "      <td>Санкт-Петербург</td>\n",
       "      <td>38076.0</td>\n",
       "      <td>7950.0</td>\n",
       "      <td>0.0</td>\n",
       "      <td>NaN</td>\n",
       "      <td>2.0</td>\n",
       "      <td>435.0</td>\n",
       "      <td>418.0</td>\n",
       "      <td>Санкт-Петербург</td>\n",
       "    </tr>\n",
       "    <tr>\n",
       "      <th>9688</th>\n",
       "      <td>8</td>\n",
       "      <td>33000000.0</td>\n",
       "      <td>194.1</td>\n",
       "      <td>2017-02-07T00:00:00</td>\n",
       "      <td>11</td>\n",
       "      <td>3.43</td>\n",
       "      <td>5.0</td>\n",
       "      <td>129.0</td>\n",
       "      <td>2</td>\n",
       "      <td>True</td>\n",
       "      <td>...</td>\n",
       "      <td>0.0</td>\n",
       "      <td>Санкт-Петербург</td>\n",
       "      <td>21469.0</td>\n",
       "      <td>1015.0</td>\n",
       "      <td>1.0</td>\n",
       "      <td>686.0</td>\n",
       "      <td>2.0</td>\n",
       "      <td>66.0</td>\n",
       "      <td>813.0</td>\n",
       "      <td>Санкт-Петербург</td>\n",
       "    </tr>\n",
       "    <tr>\n",
       "      <th>14498</th>\n",
       "      <td>6</td>\n",
       "      <td>32250000.0</td>\n",
       "      <td>374.6</td>\n",
       "      <td>2018-06-09T00:00:00</td>\n",
       "      <td>19</td>\n",
       "      <td>2.70</td>\n",
       "      <td>5.0</td>\n",
       "      <td>264.5</td>\n",
       "      <td>2</td>\n",
       "      <td>True</td>\n",
       "      <td>...</td>\n",
       "      <td>0.0</td>\n",
       "      <td>Санкт-Петербург</td>\n",
       "      <td>19497.0</td>\n",
       "      <td>3574.0</td>\n",
       "      <td>0.0</td>\n",
       "      <td>NaN</td>\n",
       "      <td>2.0</td>\n",
       "      <td>548.0</td>\n",
       "      <td>114.0</td>\n",
       "      <td>Санкт-Петербург</td>\n",
       "    </tr>\n",
       "    <tr>\n",
       "      <th>18848</th>\n",
       "      <td>6</td>\n",
       "      <td>28500000.0</td>\n",
       "      <td>270.0</td>\n",
       "      <td>2015-03-02T00:00:00</td>\n",
       "      <td>16</td>\n",
       "      <td>3.00</td>\n",
       "      <td>4.0</td>\n",
       "      <td>180.0</td>\n",
       "      <td>4</td>\n",
       "      <td>True</td>\n",
       "      <td>...</td>\n",
       "      <td>1.0</td>\n",
       "      <td>Санкт-Петербург</td>\n",
       "      <td>23575.0</td>\n",
       "      <td>4142.0</td>\n",
       "      <td>1.0</td>\n",
       "      <td>516.0</td>\n",
       "      <td>0.0</td>\n",
       "      <td>NaN</td>\n",
       "      <td>1365.0</td>\n",
       "      <td>Санкт-Петербург</td>\n",
       "    </tr>\n",
       "    <tr>\n",
       "      <th>20829</th>\n",
       "      <td>6</td>\n",
       "      <td>28659000.0</td>\n",
       "      <td>245.4</td>\n",
       "      <td>2016-03-31T00:00:00</td>\n",
       "      <td>14</td>\n",
       "      <td>2.70</td>\n",
       "      <td>4.0</td>\n",
       "      <td>168.3</td>\n",
       "      <td>2</td>\n",
       "      <td>True</td>\n",
       "      <td>...</td>\n",
       "      <td>0.0</td>\n",
       "      <td>Санкт-Петербург</td>\n",
       "      <td>21104.0</td>\n",
       "      <td>2054.0</td>\n",
       "      <td>3.0</td>\n",
       "      <td>541.0</td>\n",
       "      <td>2.0</td>\n",
       "      <td>118.0</td>\n",
       "      <td>95.0</td>\n",
       "      <td>Санкт-Петербург</td>\n",
       "    </tr>\n",
       "  </tbody>\n",
       "</table>\n",
       "<p>6 rows × 23 columns</p>\n",
       "</div>"
      ],
      "text/plain": [
       "       total_images  last_price  total_area first_day_exposition  rooms  \\\n",
       "648               3  17500000.0       183.7  2018-07-01T00:00:00     11   \n",
       "866               5  25000000.0       363.0  2017-12-23T00:00:00     14   \n",
       "9688              8  33000000.0       194.1  2017-02-07T00:00:00     11   \n",
       "14498             6  32250000.0       374.6  2018-06-09T00:00:00     19   \n",
       "18848             6  28500000.0       270.0  2015-03-02T00:00:00     16   \n",
       "20829             6  28659000.0       245.4  2016-03-31T00:00:00     14   \n",
       "\n",
       "       ceiling_height  floors_total  living_area  floor  is_apartment  ...  \\\n",
       "648              3.40           7.0        138.8      7          True  ...   \n",
       "866              3.16           5.0        222.0      4          True  ...   \n",
       "9688             3.43           5.0        129.0      2          True  ...   \n",
       "14498            2.70           5.0        264.5      2          True  ...   \n",
       "18848            3.00           4.0        180.0      4          True  ...   \n",
       "20829            2.70           4.0        168.3      2          True  ...   \n",
       "\n",
       "       balcony    locality_name  airports_nearest  city_centers_nearest  \\\n",
       "648        0.0  Санкт-Петербург           23606.0                3148.0   \n",
       "866        0.0  Санкт-Петербург           38076.0                7950.0   \n",
       "9688       0.0  Санкт-Петербург           21469.0                1015.0   \n",
       "14498      0.0  Санкт-Петербург           19497.0                3574.0   \n",
       "18848      1.0  Санкт-Петербург           23575.0                4142.0   \n",
       "20829      0.0  Санкт-Петербург           21104.0                2054.0   \n",
       "\n",
       "      parks_around3000  parks_nearest  ponds_around3000  ponds_nearest  \\\n",
       "648                0.0            NaN               0.0            NaN   \n",
       "866                0.0            NaN               2.0          435.0   \n",
       "9688               1.0          686.0               2.0           66.0   \n",
       "14498              0.0            NaN               2.0          548.0   \n",
       "18848              1.0          516.0               0.0            NaN   \n",
       "20829              3.0          541.0               2.0          118.0   \n",
       "\n",
       "       days_exposition  locality_name_strip  \n",
       "648                NaN      Санкт-Петербург  \n",
       "866              418.0      Санкт-Петербург  \n",
       "9688             813.0      Санкт-Петербург  \n",
       "14498            114.0      Санкт-Петербург  \n",
       "18848           1365.0      Санкт-Петербург  \n",
       "20829             95.0      Санкт-Петербург  \n",
       "\n",
       "[6 rows x 23 columns]"
      ]
     },
     "execution_count": 28,
     "metadata": {},
     "output_type": "execute_result"
    }
   ],
   "source": [
    "data.query('rooms > 10')"
   ]
  },
  {
   "cell_type": "markdown",
   "metadata": {},
   "source": [
    "Оставшиеся строки выглядят адекватно - большая общая площадь и жилая площадь."
   ]
  },
  {
   "cell_type": "code",
   "execution_count": 29,
   "metadata": {},
   "outputs": [],
   "source": [
    "# Выполним срез по колонке 'rooms'\n",
    "\n",
    "data = data.query('rooms >= 1')"
   ]
  },
  {
   "cell_type": "code",
   "execution_count": 30,
   "metadata": {},
   "outputs": [
    {
     "data": {
      "image/png": "[encoded data removed]",
      "text/plain": [
       "<Figure size 432x288 with 1 Axes>"
      ]
     },
     "metadata": {
      "needs_background": "light"
     },
     "output_type": "display_data"
    }
   ],
   "source": [
    "plt.ylim(0, 280)\n",
    "data.boxplot(column='living_area');"
   ]
  },
  {
   "cell_type": "code",
   "execution_count": 31,
   "metadata": {},
   "outputs": [
    {
     "data": {
      "text/plain": [
       "count    22989.000000\n",
       "mean        34.522989\n",
       "std         20.617085\n",
       "min          2.000000\n",
       "25%         19.000000\n",
       "50%         30.100000\n",
       "75%         42.500000\n",
       "max        264.500000\n",
       "Name: living_area, dtype: float64"
      ]
     },
     "execution_count": 31,
     "metadata": {},
     "output_type": "execute_result"
    }
   ],
   "source": [
    "data['living_area'].describe()"
   ]
  },
  {
   "cell_type": "markdown",
   "metadata": {},
   "source": [
    "Согласно нормативным документам, соотношение жилой площади к общей составляет 0.5-0.7. На предыдущих шагах мы выбрали минимум общей площади 25 квадратных метров, следовательно минимум жилой площади - 12.5-17.5 квадратных метров. Помня о наличии в датафрейме квартир до 400 квадратных метров, максимум - 200-280 квадратных метров.\n",
    "Взглянув внимательнее на график boxplot было решено взять в качестве ограничений для среза значения 12.5 и 200 квадратных метров жилой площади."
   ]
  },
  {
   "cell_type": "code",
   "execution_count": 32,
   "metadata": {},
   "outputs": [],
   "source": [
    "# Выполним срез по колонке 'living_area'\n",
    "\n",
    "data = data.query('12.5 <= living_area <= 200')"
   ]
  },
  {
   "cell_type": "code",
   "execution_count": 33,
   "metadata": {},
   "outputs": [
    {
     "data": {
      "text/plain": [
       "count    22766.000000\n",
       "mean        10.423496\n",
       "std          5.563636\n",
       "min          1.300000\n",
       "25%          7.000000\n",
       "50%          9.000000\n",
       "75%         11.800000\n",
       "max        107.000000\n",
       "Name: kitchen_area, dtype: float64"
      ]
     },
     "execution_count": 33,
     "metadata": {},
     "output_type": "execute_result"
    }
   ],
   "source": [
    "data['kitchen_area'].describe()"
   ]
  },
  {
   "cell_type": "code",
   "execution_count": 34,
   "metadata": {},
   "outputs": [
    {
     "data": {
      "image/png": "[encoded data removed]",
      "text/plain": [
       "<Figure size 432x288 with 1 Axes>"
      ]
     },
     "metadata": {
      "needs_background": "light"
     },
     "output_type": "display_data"
    }
   ],
   "source": [
    "plt.ylim(0, 80)\n",
    "data.boxplot(column='kitchen_area');"
   ]
  },
  {
   "cell_type": "code",
   "execution_count": 35,
   "metadata": {},
   "outputs": [
    {
     "data": {
      "image/png": "[encoded data removed]",
      "text/plain": [
       "<Figure size 720x360 with 1 Axes>"
      ]
     },
     "metadata": {
      "needs_background": "light"
     },
     "output_type": "display_data"
    }
   ],
   "source": [
    "data['kitchen_area'].hist(bins = 70, figsize=(10,5));"
   ]
  },
  {
   "cell_type": "markdown",
   "metadata": {},
   "source": [
    "В качестве ограничений для среза были выбраны значения 5 (минимальный размер кухни-нихни согласно нормативным документам) и 38 метров (данные гистограммы и графика boxplot)."
   ]
  },
  {
   "cell_type": "code",
   "execution_count": 36,
   "metadata": {},
   "outputs": [],
   "source": [
    "data = data.query('5<=kitchen_area<=38')"
   ]
  },
  {
   "cell_type": "code",
   "execution_count": 37,
   "metadata": {},
   "outputs": [
    {
     "data": {
      "text/plain": [
       "22531"
      ]
     },
     "execution_count": 37,
     "metadata": {},
     "output_type": "execute_result"
    }
   ],
   "source": [
    "# Проверка количества строк, оставшихся после удаления выбросов\n",
    "\n",
    "data.shape[0]"
   ]
  },
  {
   "cell_type": "markdown",
   "metadata": {},
   "source": [
    "### Посчитайте и добавьте в таблицу новые столбцы"
   ]
  },
  {
   "cell_type": "code",
   "execution_count": 38,
   "metadata": {},
   "outputs": [],
   "source": [
    "data['price_per_square_meter'] = (data['last_price'] / data['total_area']).round(2)"
   ]
  },
  {
   "cell_type": "code",
   "execution_count": 39,
   "metadata": {},
   "outputs": [],
   "source": [
    "# Первоначальный вариант:\n",
    "# data['month_exposition'] = pd.DatetimeIndex(data['first_day_exposition']).month"
   ]
  },
  {
   "cell_type": "code",
   "execution_count": 40,
   "metadata": {},
   "outputs": [],
   "source": [
    "data['year_exposition'] = pd.DatetimeIndex(data['first_day_exposition']).year\n",
    "data['day_of_week_exposition'] = pd.DatetimeIndex(data['first_day_exposition']).day_of_week"
   ]
  },
  {
   "cell_type": "code",
   "execution_count": 41,
   "metadata": {},
   "outputs": [],
   "source": [
    "data['month_exposition'] = data['first_day_exposition'].astype('datetime64[M]')"
   ]
  },
  {
   "cell_type": "code",
   "execution_count": 42,
   "metadata": {},
   "outputs": [
    {
     "data": {
      "text/html": [
       "<div>\n",
       "<style scoped>\n",
       "    .dataframe tbody tr th:only-of-type {\n",
       "        vertical-align: middle;\n",
       "    }\n",
       "\n",
       "    .dataframe tbody tr th {\n",
       "        vertical-align: top;\n",
       "    }\n",
       "\n",
       "    .dataframe thead th {\n",
       "        text-align: right;\n",
       "    }\n",
       "</style>\n",
       "<table border=\"1\" class=\"dataframe\">\n",
       "  <thead>\n",
       "    <tr style=\"text-align: right;\">\n",
       "      <th></th>\n",
       "      <th>total_images</th>\n",
       "      <th>last_price</th>\n",
       "      <th>total_area</th>\n",
       "      <th>first_day_exposition</th>\n",
       "      <th>rooms</th>\n",
       "      <th>ceiling_height</th>\n",
       "      <th>floors_total</th>\n",
       "      <th>living_area</th>\n",
       "      <th>floor</th>\n",
       "      <th>is_apartment</th>\n",
       "      <th>...</th>\n",
       "      <th>parks_around3000</th>\n",
       "      <th>parks_nearest</th>\n",
       "      <th>ponds_around3000</th>\n",
       "      <th>ponds_nearest</th>\n",
       "      <th>days_exposition</th>\n",
       "      <th>locality_name_strip</th>\n",
       "      <th>price_per_square_meter</th>\n",
       "      <th>year_exposition</th>\n",
       "      <th>day_of_week_exposition</th>\n",
       "      <th>month_exposition</th>\n",
       "    </tr>\n",
       "  </thead>\n",
       "  <tbody>\n",
       "    <tr>\n",
       "      <th>0</th>\n",
       "      <td>20</td>\n",
       "      <td>13000000.0</td>\n",
       "      <td>108.0</td>\n",
       "      <td>2019-03-07T00:00:00</td>\n",
       "      <td>3</td>\n",
       "      <td>2.70</td>\n",
       "      <td>16.0</td>\n",
       "      <td>51.0</td>\n",
       "      <td>8</td>\n",
       "      <td>True</td>\n",
       "      <td>...</td>\n",
       "      <td>1.0</td>\n",
       "      <td>482.0</td>\n",
       "      <td>2.0</td>\n",
       "      <td>755.0</td>\n",
       "      <td>NaN</td>\n",
       "      <td>Санкт-Петербург</td>\n",
       "      <td>120370.37</td>\n",
       "      <td>2019</td>\n",
       "      <td>3</td>\n",
       "      <td>2019-03-01</td>\n",
       "    </tr>\n",
       "    <tr>\n",
       "      <th>1</th>\n",
       "      <td>7</td>\n",
       "      <td>3350000.0</td>\n",
       "      <td>40.4</td>\n",
       "      <td>2018-12-04T00:00:00</td>\n",
       "      <td>1</td>\n",
       "      <td>2.63</td>\n",
       "      <td>11.0</td>\n",
       "      <td>18.6</td>\n",
       "      <td>1</td>\n",
       "      <td>True</td>\n",
       "      <td>...</td>\n",
       "      <td>0.0</td>\n",
       "      <td>NaN</td>\n",
       "      <td>0.0</td>\n",
       "      <td>NaN</td>\n",
       "      <td>81.0</td>\n",
       "      <td>Шушары</td>\n",
       "      <td>82920.79</td>\n",
       "      <td>2018</td>\n",
       "      <td>1</td>\n",
       "      <td>2018-12-01</td>\n",
       "    </tr>\n",
       "    <tr>\n",
       "      <th>2</th>\n",
       "      <td>10</td>\n",
       "      <td>5196000.0</td>\n",
       "      <td>56.0</td>\n",
       "      <td>2015-08-20T00:00:00</td>\n",
       "      <td>2</td>\n",
       "      <td>2.70</td>\n",
       "      <td>5.0</td>\n",
       "      <td>34.3</td>\n",
       "      <td>4</td>\n",
       "      <td>True</td>\n",
       "      <td>...</td>\n",
       "      <td>1.0</td>\n",
       "      <td>90.0</td>\n",
       "      <td>2.0</td>\n",
       "      <td>574.0</td>\n",
       "      <td>558.0</td>\n",
       "      <td>Санкт-Петербург</td>\n",
       "      <td>92785.71</td>\n",
       "      <td>2015</td>\n",
       "      <td>3</td>\n",
       "      <td>2015-08-01</td>\n",
       "    </tr>\n",
       "    <tr>\n",
       "      <th>3</th>\n",
       "      <td>0</td>\n",
       "      <td>64900000.0</td>\n",
       "      <td>159.0</td>\n",
       "      <td>2015-07-24T00:00:00</td>\n",
       "      <td>3</td>\n",
       "      <td>2.70</td>\n",
       "      <td>14.0</td>\n",
       "      <td>95.0</td>\n",
       "      <td>9</td>\n",
       "      <td>True</td>\n",
       "      <td>...</td>\n",
       "      <td>2.0</td>\n",
       "      <td>84.0</td>\n",
       "      <td>3.0</td>\n",
       "      <td>234.0</td>\n",
       "      <td>424.0</td>\n",
       "      <td>Санкт-Петербург</td>\n",
       "      <td>408176.10</td>\n",
       "      <td>2015</td>\n",
       "      <td>4</td>\n",
       "      <td>2015-07-01</td>\n",
       "    </tr>\n",
       "    <tr>\n",
       "      <th>5</th>\n",
       "      <td>10</td>\n",
       "      <td>2890000.0</td>\n",
       "      <td>30.4</td>\n",
       "      <td>2018-09-10T00:00:00</td>\n",
       "      <td>1</td>\n",
       "      <td>2.65</td>\n",
       "      <td>12.0</td>\n",
       "      <td>14.4</td>\n",
       "      <td>5</td>\n",
       "      <td>True</td>\n",
       "      <td>...</td>\n",
       "      <td>NaN</td>\n",
       "      <td>NaN</td>\n",
       "      <td>NaN</td>\n",
       "      <td>NaN</td>\n",
       "      <td>55.0</td>\n",
       "      <td>Янино-1</td>\n",
       "      <td>95065.79</td>\n",
       "      <td>2018</td>\n",
       "      <td>0</td>\n",
       "      <td>2018-09-01</td>\n",
       "    </tr>\n",
       "  </tbody>\n",
       "</table>\n",
       "<p>5 rows × 27 columns</p>\n",
       "</div>"
      ],
      "text/plain": [
       "   total_images  last_price  total_area first_day_exposition  rooms  \\\n",
       "0            20  13000000.0       108.0  2019-03-07T00:00:00      3   \n",
       "1             7   3350000.0        40.4  2018-12-04T00:00:00      1   \n",
       "2            10   5196000.0        56.0  2015-08-20T00:00:00      2   \n",
       "3             0  64900000.0       159.0  2015-07-24T00:00:00      3   \n",
       "5            10   2890000.0        30.4  2018-09-10T00:00:00      1   \n",
       "\n",
       "   ceiling_height  floors_total  living_area  floor  is_apartment  ...  \\\n",
       "0            2.70          16.0         51.0      8          True  ...   \n",
       "1            2.63          11.0         18.6      1          True  ...   \n",
       "2            2.70           5.0         34.3      4          True  ...   \n",
       "3            2.70          14.0         95.0      9          True  ...   \n",
       "5            2.65          12.0         14.4      5          True  ...   \n",
       "\n",
       "   parks_around3000  parks_nearest  ponds_around3000  ponds_nearest  \\\n",
       "0               1.0          482.0               2.0          755.0   \n",
       "1               0.0            NaN               0.0            NaN   \n",
       "2               1.0           90.0               2.0          574.0   \n",
       "3               2.0           84.0               3.0          234.0   \n",
       "5               NaN            NaN               NaN            NaN   \n",
       "\n",
       "  days_exposition  locality_name_strip  price_per_square_meter  \\\n",
       "0             NaN      Санкт-Петербург               120370.37   \n",
       "1            81.0               Шушары                82920.79   \n",
       "2           558.0      Санкт-Петербург                92785.71   \n",
       "3           424.0      Санкт-Петербург               408176.10   \n",
       "5            55.0              Янино-1                95065.79   \n",
       "\n",
       "   year_exposition  day_of_week_exposition  month_exposition  \n",
       "0             2019                       3        2019-03-01  \n",
       "1             2018                       1        2018-12-01  \n",
       "2             2015                       3        2015-08-01  \n",
       "3             2015                       4        2015-07-01  \n",
       "5             2018                       0        2018-09-01  \n",
       "\n",
       "[5 rows x 27 columns]"
      ]
     },
     "execution_count": 42,
     "metadata": {},
     "output_type": "execute_result"
    }
   ],
   "source": [
    "data.head(5)"
   ]
  },
  {
   "cell_type": "code",
   "execution_count": 43,
   "metadata": {},
   "outputs": [],
   "source": [
    "def apartment_floor_type(row):\n",
    "    floor = row['floor']\n",
    "    floors_total = row['floors_total']\n",
    "    \n",
    "    if floor==1:\n",
    "        return 'первый'\n",
    "    if floor == floors_total:\n",
    "        return 'последний'\n",
    "    else:\n",
    "        return 'другой'\n",
    "    \n",
    "data['apartment_floor_type'] = data.apply(apartment_floor_type, axis=1)"
   ]
  },
  {
   "cell_type": "code",
   "execution_count": 44,
   "metadata": {},
   "outputs": [],
   "source": [
    "data['city_centers_nearest_km'] = round(data['city_centers_nearest'] / 1000)"
   ]
  },
  {
   "cell_type": "code",
   "execution_count": 45,
   "metadata": {},
   "outputs": [
    {
     "data": {
      "text/html": [
       "<div>\n",
       "<style scoped>\n",
       "    .dataframe tbody tr th:only-of-type {\n",
       "        vertical-align: middle;\n",
       "    }\n",
       "\n",
       "    .dataframe tbody tr th {\n",
       "        vertical-align: top;\n",
       "    }\n",
       "\n",
       "    .dataframe thead th {\n",
       "        text-align: right;\n",
       "    }\n",
       "</style>\n",
       "<table border=\"1\" class=\"dataframe\">\n",
       "  <thead>\n",
       "    <tr style=\"text-align: right;\">\n",
       "      <th></th>\n",
       "      <th>total_images</th>\n",
       "      <th>last_price</th>\n",
       "      <th>total_area</th>\n",
       "      <th>first_day_exposition</th>\n",
       "      <th>rooms</th>\n",
       "      <th>ceiling_height</th>\n",
       "      <th>floors_total</th>\n",
       "      <th>living_area</th>\n",
       "      <th>floor</th>\n",
       "      <th>is_apartment</th>\n",
       "      <th>...</th>\n",
       "      <th>ponds_around3000</th>\n",
       "      <th>ponds_nearest</th>\n",
       "      <th>days_exposition</th>\n",
       "      <th>locality_name_strip</th>\n",
       "      <th>price_per_square_meter</th>\n",
       "      <th>year_exposition</th>\n",
       "      <th>day_of_week_exposition</th>\n",
       "      <th>month_exposition</th>\n",
       "      <th>apartment_floor_type</th>\n",
       "      <th>city_centers_nearest_km</th>\n",
       "    </tr>\n",
       "  </thead>\n",
       "  <tbody>\n",
       "    <tr>\n",
       "      <th>0</th>\n",
       "      <td>20</td>\n",
       "      <td>13000000.0</td>\n",
       "      <td>108.0</td>\n",
       "      <td>2019-03-07T00:00:00</td>\n",
       "      <td>3</td>\n",
       "      <td>2.70</td>\n",
       "      <td>16.0</td>\n",
       "      <td>51.0</td>\n",
       "      <td>8</td>\n",
       "      <td>True</td>\n",
       "      <td>...</td>\n",
       "      <td>2.0</td>\n",
       "      <td>755.0</td>\n",
       "      <td>NaN</td>\n",
       "      <td>Санкт-Петербург</td>\n",
       "      <td>120370.37</td>\n",
       "      <td>2019</td>\n",
       "      <td>3</td>\n",
       "      <td>2019-03-01</td>\n",
       "      <td>другой</td>\n",
       "      <td>16.0</td>\n",
       "    </tr>\n",
       "    <tr>\n",
       "      <th>1</th>\n",
       "      <td>7</td>\n",
       "      <td>3350000.0</td>\n",
       "      <td>40.4</td>\n",
       "      <td>2018-12-04T00:00:00</td>\n",
       "      <td>1</td>\n",
       "      <td>2.63</td>\n",
       "      <td>11.0</td>\n",
       "      <td>18.6</td>\n",
       "      <td>1</td>\n",
       "      <td>True</td>\n",
       "      <td>...</td>\n",
       "      <td>0.0</td>\n",
       "      <td>NaN</td>\n",
       "      <td>81.0</td>\n",
       "      <td>Шушары</td>\n",
       "      <td>82920.79</td>\n",
       "      <td>2018</td>\n",
       "      <td>1</td>\n",
       "      <td>2018-12-01</td>\n",
       "      <td>первый</td>\n",
       "      <td>19.0</td>\n",
       "    </tr>\n",
       "    <tr>\n",
       "      <th>2</th>\n",
       "      <td>10</td>\n",
       "      <td>5196000.0</td>\n",
       "      <td>56.0</td>\n",
       "      <td>2015-08-20T00:00:00</td>\n",
       "      <td>2</td>\n",
       "      <td>2.70</td>\n",
       "      <td>5.0</td>\n",
       "      <td>34.3</td>\n",
       "      <td>4</td>\n",
       "      <td>True</td>\n",
       "      <td>...</td>\n",
       "      <td>2.0</td>\n",
       "      <td>574.0</td>\n",
       "      <td>558.0</td>\n",
       "      <td>Санкт-Петербург</td>\n",
       "      <td>92785.71</td>\n",
       "      <td>2015</td>\n",
       "      <td>3</td>\n",
       "      <td>2015-08-01</td>\n",
       "      <td>другой</td>\n",
       "      <td>14.0</td>\n",
       "    </tr>\n",
       "    <tr>\n",
       "      <th>3</th>\n",
       "      <td>0</td>\n",
       "      <td>64900000.0</td>\n",
       "      <td>159.0</td>\n",
       "      <td>2015-07-24T00:00:00</td>\n",
       "      <td>3</td>\n",
       "      <td>2.70</td>\n",
       "      <td>14.0</td>\n",
       "      <td>95.0</td>\n",
       "      <td>9</td>\n",
       "      <td>True</td>\n",
       "      <td>...</td>\n",
       "      <td>3.0</td>\n",
       "      <td>234.0</td>\n",
       "      <td>424.0</td>\n",
       "      <td>Санкт-Петербург</td>\n",
       "      <td>408176.10</td>\n",
       "      <td>2015</td>\n",
       "      <td>4</td>\n",
       "      <td>2015-07-01</td>\n",
       "      <td>другой</td>\n",
       "      <td>7.0</td>\n",
       "    </tr>\n",
       "    <tr>\n",
       "      <th>5</th>\n",
       "      <td>10</td>\n",
       "      <td>2890000.0</td>\n",
       "      <td>30.4</td>\n",
       "      <td>2018-09-10T00:00:00</td>\n",
       "      <td>1</td>\n",
       "      <td>2.65</td>\n",
       "      <td>12.0</td>\n",
       "      <td>14.4</td>\n",
       "      <td>5</td>\n",
       "      <td>True</td>\n",
       "      <td>...</td>\n",
       "      <td>NaN</td>\n",
       "      <td>NaN</td>\n",
       "      <td>55.0</td>\n",
       "      <td>Янино-1</td>\n",
       "      <td>95065.79</td>\n",
       "      <td>2018</td>\n",
       "      <td>0</td>\n",
       "      <td>2018-09-01</td>\n",
       "      <td>другой</td>\n",
       "      <td>NaN</td>\n",
       "    </tr>\n",
       "  </tbody>\n",
       "</table>\n",
       "<p>5 rows × 29 columns</p>\n",
       "</div>"
      ],
      "text/plain": [
       "   total_images  last_price  total_area first_day_exposition  rooms  \\\n",
       "0            20  13000000.0       108.0  2019-03-07T00:00:00      3   \n",
       "1             7   3350000.0        40.4  2018-12-04T00:00:00      1   \n",
       "2            10   5196000.0        56.0  2015-08-20T00:00:00      2   \n",
       "3             0  64900000.0       159.0  2015-07-24T00:00:00      3   \n",
       "5            10   2890000.0        30.4  2018-09-10T00:00:00      1   \n",
       "\n",
       "   ceiling_height  floors_total  living_area  floor  is_apartment  ...  \\\n",
       "0            2.70          16.0         51.0      8          True  ...   \n",
       "1            2.63          11.0         18.6      1          True  ...   \n",
       "2            2.70           5.0         34.3      4          True  ...   \n",
       "3            2.70          14.0         95.0      9          True  ...   \n",
       "5            2.65          12.0         14.4      5          True  ...   \n",
       "\n",
       "   ponds_around3000  ponds_nearest  days_exposition  locality_name_strip  \\\n",
       "0               2.0          755.0              NaN      Санкт-Петербург   \n",
       "1               0.0            NaN             81.0               Шушары   \n",
       "2               2.0          574.0            558.0      Санкт-Петербург   \n",
       "3               3.0          234.0            424.0      Санкт-Петербург   \n",
       "5               NaN            NaN             55.0              Янино-1   \n",
       "\n",
       "  price_per_square_meter  year_exposition  day_of_week_exposition  \\\n",
       "0              120370.37             2019                       3   \n",
       "1               82920.79             2018                       1   \n",
       "2               92785.71             2015                       3   \n",
       "3              408176.10             2015                       4   \n",
       "5               95065.79             2018                       0   \n",
       "\n",
       "   month_exposition  apartment_floor_type  city_centers_nearest_km  \n",
       "0        2019-03-01                другой                     16.0  \n",
       "1        2018-12-01                первый                     19.0  \n",
       "2        2015-08-01                другой                     14.0  \n",
       "3        2015-07-01                другой                      7.0  \n",
       "5        2018-09-01                другой                      NaN  \n",
       "\n",
       "[5 rows x 29 columns]"
      ]
     },
     "execution_count": 45,
     "metadata": {},
     "output_type": "execute_result"
    }
   ],
   "source": [
    "data.head(5)"
   ]
  },
  {
   "cell_type": "markdown",
   "metadata": {},
   "source": [
    "### Проведите исследовательский анализ данных"
   ]
  },
  {
   "cell_type": "code",
   "execution_count": 46,
   "metadata": {},
   "outputs": [
    {
     "data": {
      "image/png": "[encoded data removed]",
      "text/plain": [
       "<Figure size 504x504 with 1 Axes>"
      ]
     },
     "metadata": {
      "needs_background": "light"
     },
     "output_type": "display_data"
    }
   ],
   "source": [
    "data['total_area'].hist(figsize=(7, 7), bins=50, range=(20,300));"
   ]
  },
  {
   "cell_type": "markdown",
   "metadata": {},
   "source": [
    "Основная масса квартир в продаже площадью до ~60 квадратных метров."
   ]
  },
  {
   "cell_type": "code",
   "execution_count": 47,
   "metadata": {},
   "outputs": [
    {
     "data": {
      "image/png": "[encoded data removed]",
      "text/plain": [
       "<Figure size 504x504 with 1 Axes>"
      ]
     },
     "metadata": {
      "needs_background": "light"
     },
     "output_type": "display_data"
    }
   ],
   "source": [
    "data['living_area'].hist(figsize=(7, 7), bins=50, range=(15,175));"
   ]
  },
  {
   "cell_type": "markdown",
   "metadata": {},
   "source": [
    "Мы наблюдает спад на графике жилой площади на уровне ~40 квадратных метров. Это соотноситься с предположением о соотношение жилой площади к общей и предыдущим графиком (графиком общей площади). "
   ]
  },
  {
   "cell_type": "code",
   "execution_count": 48,
   "metadata": {},
   "outputs": [
    {
     "data": {
      "image/png": "[encoded data removed]",
      "text/plain": [
       "<Figure size 504x504 with 1 Axes>"
      ]
     },
     "metadata": {
      "needs_background": "light"
     },
     "output_type": "display_data"
    }
   ],
   "source": [
    "data['kitchen_area'].hist(figsize=(7, 7), bins=50, range=(4,40));"
   ]
  },
  {
   "cell_type": "markdown",
   "metadata": {},
   "source": [
    "Больше всего кухонь размеров ~7 квадратных метров. Начиная с 10 квадратных метров мы видим спад. Выше мы отмечали что есть взаимосвязь между жилой, общей и площадью кухни. Следовательно, чем больше общая площадь, тем меньше таких квартир в продаже, тем меньше кухонь с площадью более 12 квадратных метров."
   ]
  },
  {
   "cell_type": "code",
   "execution_count": 49,
   "metadata": {},
   "outputs": [
    {
     "data": {
      "image/png": "[encoded data removed]",
      "text/plain": [
       "<Figure size 504x504 with 1 Axes>"
      ]
     },
     "metadata": {
      "needs_background": "light"
     },
     "output_type": "display_data"
    }
   ],
   "source": [
    "data['last_price'].hist(figsize=(7, 7));"
   ]
  },
  {
   "cell_type": "markdown",
   "metadata": {},
   "source": [
    "Скажу честно, я затрудняюсь как-либо интерпритировать данный график. Вомзожно, для цены нужно было выбрать другой график, более наглядный."
   ]
  },
  {
   "cell_type": "code",
   "execution_count": 50,
   "metadata": {},
   "outputs": [
    {
     "data": {
      "image/png": "[encoded data removed]",
      "text/plain": [
       "<Figure size 504x504 with 1 Axes>"
      ]
     },
     "metadata": {
      "needs_background": "light"
     },
     "output_type": "display_data"
    }
   ],
   "source": [
    "data['rooms'].hist(figsize=(7, 7), bins=50, range=(1,10));"
   ]
  },
  {
   "cell_type": "markdown",
   "metadata": {},
   "source": [
    "Одно-, двух- и трехкомнатных квартир продают больше всего."
   ]
  },
  {
   "cell_type": "code",
   "execution_count": 51,
   "metadata": {},
   "outputs": [
    {
     "data": {
      "image/png": "[encoded data removed]",
      "text/plain": [
       "<Figure size 504x504 with 1 Axes>"
      ]
     },
     "metadata": {
      "needs_background": "light"
     },
     "output_type": "display_data"
    }
   ],
   "source": [
    "data['ceiling_height'].hist(figsize=(7, 7), bins=50);"
   ]
  },
  {
   "cell_type": "markdown",
   "metadata": {},
   "source": [
    "Большая часть квартир по высоте потолка лежит в диапазоне от 2.5 (стандартная высота потолка) до ~2.7 м."
   ]
  },
  {
   "cell_type": "code",
   "execution_count": 52,
   "metadata": {},
   "outputs": [
    {
     "data": {
      "image/png": "[encoded data removed]",
      "text/plain": [
       "<Figure size 504x504 with 1 Axes>"
      ]
     },
     "metadata": {
      "needs_background": "light"
     },
     "output_type": "display_data"
    }
   ],
   "source": [
    "data['floor'].hist(figsize=(7, 7), bins=50);"
   ]
  },
  {
   "cell_type": "markdown",
   "metadata": {},
   "source": [
    "Большая часть Санкт-Петербурга - малоэтажная и среднеэтажная застройка (до 9 этажей). Подавляющее большинство - пятиэтажные дома и ниже (может быть связано с тем, что в датафрейм были включены данные не только по городам, но и более мелким населенным пунктам из ленинградской области)."
   ]
  },
  {
   "cell_type": "code",
   "execution_count": 53,
   "metadata": {},
   "outputs": [
    {
     "data": {
      "image/png": "[encoded data removed]",
      "text/plain": [
       "<Figure size 504x504 with 1 Axes>"
      ]
     },
     "metadata": {
      "needs_background": "light"
     },
     "output_type": "display_data"
    }
   ],
   "source": [
    "data['apartment_floor_type'].hist(figsize=(7, 7), bins=50);"
   ]
  },
  {
   "cell_type": "markdown",
   "metadata": {},
   "source": [
    "Жители санкт-петербурга неохотно расстаются с жильем на первых и последних этажах, практически все объявления о продаже квартир - не на первых и не на последних этажах."
   ]
  },
  {
   "cell_type": "code",
   "execution_count": 54,
   "metadata": {},
   "outputs": [
    {
     "data": {
      "image/png": "[encoded data removed]",
      "text/plain": [
       "<Figure size 504x504 with 1 Axes>"
      ]
     },
     "metadata": {
      "needs_background": "light"
     },
     "output_type": "display_data"
    }
   ],
   "source": [
    "data['city_centers_nearest'].hist(figsize=(7, 7), bins=50);"
   ]
  },
  {
   "cell_type": "markdown",
   "metadata": {},
   "source": [
    "Большая часть недвижимости находится далеко от центра города (от 10 до 17 км)."
   ]
  },
  {
   "cell_type": "code",
   "execution_count": 55,
   "metadata": {},
   "outputs": [
    {
     "data": {
      "image/png": "[encoded data removed]",
      "text/plain": [
       "<Figure size 504x504 with 1 Axes>"
      ]
     },
     "metadata": {
      "needs_background": "light"
     },
     "output_type": "display_data"
    }
   ],
   "source": [
    "data['airports_nearest'].hist(figsize=(7, 7), bins=50);"
   ]
  },
  {
   "cell_type": "markdown",
   "metadata": {},
   "source": [
    "Даже с учетом незаполненных на предыдущих этапов пропусков из колонки 'airports_nearest' мы видим, что большая часть квартир находится на расстоянии от аэропорта."
   ]
  },
  {
   "cell_type": "code",
   "execution_count": 56,
   "metadata": {},
   "outputs": [
    {
     "data": {
      "image/png": "[encoded data removed]",
      "text/plain": [
       "<Figure size 504x504 with 1 Axes>"
      ]
     },
     "metadata": {
      "needs_background": "light"
     },
     "output_type": "display_data"
    }
   ],
   "source": [
    "data['parks_nearest'].hist(figsize=(7, 7), bins=50);"
   ]
  },
  {
   "cell_type": "markdown",
   "metadata": {},
   "source": [
    "Даже с учетом незаполненных на предыдущих этапов пропусков из колонки 'parks_nearest' мы видим, что большая часть квартир находится в шаговой досутпности от парков. Это может быть связано с наличием в Спб большого количество парков и зеленых зон."
   ]
  },
  {
   "cell_type": "code",
   "execution_count": 57,
   "metadata": {},
   "outputs": [
    {
     "data": {
      "image/png": "[encoded data removed]",
      "text/plain": [
       "<Figure size 504x504 with 1 Axes>"
      ]
     },
     "metadata": {
      "needs_background": "light"
     },
     "output_type": "display_data"
    }
   ],
   "source": [
    "data['day_of_week_exposition'].hist(figsize=(7, 7), bins=50);"
   ]
  },
  {
   "cell_type": "markdown",
   "metadata": {},
   "source": [
    "В будние дни размещают болше объявлений, чем в выходные. Во вторник и четверг объявлений размещено больше, чем в остальные бидние дни."
   ]
  },
  {
   "cell_type": "code",
   "execution_count": 58,
   "metadata": {},
   "outputs": [
    {
     "data": {
      "image/png": "[encoded data removed]",
      "text/plain": [
       "<Figure size 1080x504 with 1 Axes>"
      ]
     },
     "metadata": {
      "needs_background": "light"
     },
     "output_type": "display_data"
    }
   ],
   "source": [
    "data['month_exposition'].hist(figsize=(15, 7), bins=50);"
   ]
  },
  {
   "cell_type": "markdown",
   "metadata": {},
   "source": [
    "Мы наблюдаем волнообразный рост продаж недвижимости в течение года: резкий рост и высокое удержание в холодные месяцы (февраль и март), резкий спад к маю (возможно, на это влияют майские праздники: у потенциальных продавцов появляются другие занятия).\n",
    "Далее мы видим постепенный рост к ноябрю и в декабре - снова провал (приближающийся новый год?)."
   ]
  },
  {
   "cell_type": "markdown",
   "metadata": {},
   "source": [
    "### Изучите, как быстро продавались квартиры"
   ]
  },
  {
   "cell_type": "code",
   "execution_count": 59,
   "metadata": {},
   "outputs": [
    {
     "data": {
      "image/png": "[encoded data removed]",
      "text/plain": [
       "<Figure size 1440x1440 with 1 Axes>"
      ]
     },
     "metadata": {
      "needs_background": "light"
     },
     "output_type": "display_data"
    }
   ],
   "source": [
    "data['days_exposition'].hist(figsize=(20, 20), bins=1600, range=(0,1600));"
   ]
  },
  {
   "cell_type": "markdown",
   "metadata": {},
   "source": [
    "Мы видим постепенное уменьшение количества продаж. Основная масса и выбросы наблюдаются на участке 0-200. "
   ]
  },
  {
   "cell_type": "code",
   "execution_count": 60,
   "metadata": {},
   "outputs": [
    {
     "data": {
      "image/png": "[encoded data removed]",
      "text/plain": [
       "<Figure size 1440x1440 with 1 Axes>"
      ]
     },
     "metadata": {
      "needs_background": "light"
     },
     "output_type": "display_data"
    }
   ],
   "source": [
    "data['days_exposition'].hist(figsize=(20, 20), bins=200, range=(0,200));"
   ]
  },
  {
   "cell_type": "markdown",
   "metadata": {},
   "source": [
    "Мы наблюдаем несколько аномально выскоких значений на промежутке 0-100."
   ]
  },
  {
   "cell_type": "code",
   "execution_count": 61,
   "metadata": {},
   "outputs": [],
   "source": [
    "# Гистограммы с постепенным уменьшение range\n",
    "#data['days_exposition'].hist(figsize=(20, 20), bins=100, range=(0,100));\n",
    "#data['days_exposition'].hist(figsize=(20, 20), bins=90, range=(0,90));\n",
    "#data['days_exposition'].hist(figsize=(20, 20), bins=80, range=(0,80));\n",
    "#data['days_exposition'].hist(figsize=(20, 20), bins=70, range=(0,70));"
   ]
  },
  {
   "cell_type": "code",
   "execution_count": 62,
   "metadata": {},
   "outputs": [
    {
     "data": {
      "image/png": "[encoded data removed]",
      "text/plain": [
       "<Figure size 1440x1440 with 1 Axes>"
      ]
     },
     "metadata": {
      "needs_background": "light"
     },
     "output_type": "display_data"
    }
   ],
   "source": [
    "data['days_exposition'].hist(figsize=(20, 20), bins=60, range=(0,60));"
   ]
  },
  {
   "cell_type": "markdown",
   "metadata": {},
   "source": [
    "Аномалии на промежутке 0-20, 20-40 и 80-100 вполне можно объяснить успешными продажами.\n",
    "Два наблюдается на промежутке 40-60. Если уменьшить range до 60 (постепенно в несколько иттераций), то мы увидим что пики попадают на отметки 30, 45, 60. \n",
    "\n",
    "Необходимо уточнить, может быть приложение яндекс.недвижимость выдает оповещения о скором закрытие объявления раз в 15 дней и продавцы, понимая, что продали и не закрыли объявление, спешат его закрыть."
   ]
  },
  {
   "cell_type": "code",
   "execution_count": 63,
   "metadata": {},
   "outputs": [
    {
     "name": "stdout",
     "output_type": "stream",
     "text": [
      "181.76850902379\n"
     ]
    }
   ],
   "source": [
    "days_exposition_mean = data['days_exposition'].mean()\n",
    "print(days_exposition_mean)"
   ]
  },
  {
   "cell_type": "code",
   "execution_count": 64,
   "metadata": {},
   "outputs": [
    {
     "name": "stdout",
     "output_type": "stream",
     "text": [
      "96.0\n"
     ]
    }
   ],
   "source": [
    "days_exposition_median = data['days_exposition'].median()\n",
    "print(days_exposition_median)"
   ]
  },
  {
   "cell_type": "markdown",
   "metadata": {},
   "source": [
    "В качестве ответа на вопрос \"сколько времени обычно занимает продажа\" мы можем взять медианное значение колонки 'days_exposition' - 96 дней: половина продаж осуществляется за меньшее время, половина - за большее. Если воспользоваться гистограммой по колонке 'month_exposition', то можно понять что есть сезонность продаж (постепенный рост продаж в мае-августе). Вернемся к гистограмме по колонке 'days_exposition'. Мы можем предположить, что быстрая продажа - продажа менее чем за два месяца в сезон продаж (январь-февраль) - ~50 дней-60 дней. А долгая - более ~180 дней (примерно пять месяцев, что может совпасть с периодом с мая по сентябрь)."
   ]
  },
  {
   "cell_type": "markdown",
   "metadata": {},
   "source": [
    "### Какие факторы больше всего влияют на общую (полную) стоимость объекта?"
   ]
  },
  {
   "cell_type": "code",
   "execution_count": 80,
   "metadata": {},
   "outputs": [],
   "source": [
    "# Объединим интересующие нас колонки в таблицу data_corr\n",
    "\n",
    "data_corr = data[['locality_name_strip', 'last_price', 'rooms', 'total_area', 'living_area', \\\n",
    "                  'kitchen_area', 'floor', 'apartment_floor_type', 'city_centers_nearest_km', \\\n",
    "                  'month_exposition', 'day_of_week_exposition', 'year_exposition']]"
   ]
  },
  {
   "cell_type": "code",
   "execution_count": 66,
   "metadata": {},
   "outputs": [
    {
     "data": {
      "text/html": [
       "<div>\n",
       "<style scoped>\n",
       "    .dataframe tbody tr th:only-of-type {\n",
       "        vertical-align: middle;\n",
       "    }\n",
       "\n",
       "    .dataframe tbody tr th {\n",
       "        vertical-align: top;\n",
       "    }\n",
       "\n",
       "    .dataframe thead th {\n",
       "        text-align: right;\n",
       "    }\n",
       "</style>\n",
       "<table border=\"1\" class=\"dataframe\">\n",
       "  <thead>\n",
       "    <tr style=\"text-align: right;\">\n",
       "      <th></th>\n",
       "      <th>last_price</th>\n",
       "      <th>rooms</th>\n",
       "      <th>total_area</th>\n",
       "      <th>living_area</th>\n",
       "      <th>kitchen_area</th>\n",
       "      <th>floor</th>\n",
       "      <th>city_centers_nearest_km</th>\n",
       "      <th>day_of_week_exposition</th>\n",
       "    </tr>\n",
       "  </thead>\n",
       "  <tbody>\n",
       "    <tr>\n",
       "      <th>last_price</th>\n",
       "      <td>1.000000</td>\n",
       "      <td>0.416694</td>\n",
       "      <td>0.697274</td>\n",
       "      <td>0.626702</td>\n",
       "      <td>0.503045</td>\n",
       "      <td>0.033795</td>\n",
       "      <td>-0.275524</td>\n",
       "      <td>-0.009850</td>\n",
       "    </tr>\n",
       "    <tr>\n",
       "      <th>rooms</th>\n",
       "      <td>0.416694</td>\n",
       "      <td>1.000000</td>\n",
       "      <td>0.788597</td>\n",
       "      <td>0.859986</td>\n",
       "      <td>0.261118</td>\n",
       "      <td>-0.149801</td>\n",
       "      <td>-0.183735</td>\n",
       "      <td>-0.008257</td>\n",
       "    </tr>\n",
       "    <tr>\n",
       "      <th>total_area</th>\n",
       "      <td>0.697274</td>\n",
       "      <td>0.788597</td>\n",
       "      <td>1.000000</td>\n",
       "      <td>0.941479</td>\n",
       "      <td>0.595892</td>\n",
       "      <td>-0.024300</td>\n",
       "      <td>-0.246343</td>\n",
       "      <td>-0.013525</td>\n",
       "    </tr>\n",
       "    <tr>\n",
       "      <th>living_area</th>\n",
       "      <td>0.626702</td>\n",
       "      <td>0.859986</td>\n",
       "      <td>0.941479</td>\n",
       "      <td>1.000000</td>\n",
       "      <td>0.419731</td>\n",
       "      <td>-0.099660</td>\n",
       "      <td>-0.239111</td>\n",
       "      <td>-0.011751</td>\n",
       "    </tr>\n",
       "    <tr>\n",
       "      <th>kitchen_area</th>\n",
       "      <td>0.503045</td>\n",
       "      <td>0.261118</td>\n",
       "      <td>0.595892</td>\n",
       "      <td>0.419731</td>\n",
       "      <td>1.000000</td>\n",
       "      <td>0.161843</td>\n",
       "      <td>-0.200580</td>\n",
       "      <td>-0.009913</td>\n",
       "    </tr>\n",
       "    <tr>\n",
       "      <th>floor</th>\n",
       "      <td>0.033795</td>\n",
       "      <td>-0.149801</td>\n",
       "      <td>-0.024300</td>\n",
       "      <td>-0.099660</td>\n",
       "      <td>0.161843</td>\n",
       "      <td>1.000000</td>\n",
       "      <td>0.009671</td>\n",
       "      <td>0.011239</td>\n",
       "    </tr>\n",
       "    <tr>\n",
       "      <th>city_centers_nearest_km</th>\n",
       "      <td>-0.275524</td>\n",
       "      <td>-0.183735</td>\n",
       "      <td>-0.246343</td>\n",
       "      <td>-0.239111</td>\n",
       "      <td>-0.200580</td>\n",
       "      <td>0.009671</td>\n",
       "      <td>1.000000</td>\n",
       "      <td>0.009548</td>\n",
       "    </tr>\n",
       "    <tr>\n",
       "      <th>day_of_week_exposition</th>\n",
       "      <td>-0.009850</td>\n",
       "      <td>-0.008257</td>\n",
       "      <td>-0.013525</td>\n",
       "      <td>-0.011751</td>\n",
       "      <td>-0.009913</td>\n",
       "      <td>0.011239</td>\n",
       "      <td>0.009548</td>\n",
       "      <td>1.000000</td>\n",
       "    </tr>\n",
       "  </tbody>\n",
       "</table>\n",
       "</div>"
      ],
      "text/plain": [
       "                         last_price     rooms  total_area  living_area  \\\n",
       "last_price                 1.000000  0.416694    0.697274     0.626702   \n",
       "rooms                      0.416694  1.000000    0.788597     0.859986   \n",
       "total_area                 0.697274  0.788597    1.000000     0.941479   \n",
       "living_area                0.626702  0.859986    0.941479     1.000000   \n",
       "kitchen_area               0.503045  0.261118    0.595892     0.419731   \n",
       "floor                      0.033795 -0.149801   -0.024300    -0.099660   \n",
       "city_centers_nearest_km   -0.275524 -0.183735   -0.246343    -0.239111   \n",
       "day_of_week_exposition    -0.009850 -0.008257   -0.013525    -0.011751   \n",
       "\n",
       "                         kitchen_area     floor  city_centers_nearest_km  \\\n",
       "last_price                   0.503045  0.033795                -0.275524   \n",
       "rooms                        0.261118 -0.149801                -0.183735   \n",
       "total_area                   0.595892 -0.024300                -0.246343   \n",
       "living_area                  0.419731 -0.099660                -0.239111   \n",
       "kitchen_area                 1.000000  0.161843                -0.200580   \n",
       "floor                        0.161843  1.000000                 0.009671   \n",
       "city_centers_nearest_km     -0.200580  0.009671                 1.000000   \n",
       "day_of_week_exposition      -0.009913  0.011239                 0.009548   \n",
       "\n",
       "                         day_of_week_exposition  \n",
       "last_price                            -0.009850  \n",
       "rooms                                 -0.008257  \n",
       "total_area                            -0.013525  \n",
       "living_area                           -0.011751  \n",
       "kitchen_area                          -0.009913  \n",
       "floor                                  0.011239  \n",
       "city_centers_nearest_km                0.009548  \n",
       "day_of_week_exposition                 1.000000  "
      ]
     },
     "execution_count": 66,
     "metadata": {},
     "output_type": "execute_result"
    }
   ],
   "source": [
    "# Вычислим матрицу корреляций.\n",
    "\n",
    "data_corr.corr()"
   ]
  },
  {
   "cell_type": "markdown",
   "metadata": {},
   "source": [
    "Изучив матрицу, мы видим корреляцию:\n",
    "1. сильную положительную - между ценой квартиры и общей площадью (0.7), ценой квартиры и жилой площадью (0.6);\n",
    "2. слабую положительную - между ценой квартиры и площадью кухни (0.5), ценой квартиры и количеством комнат (0.42), ценой квартиры и этажом (0.4);\n",
    "3. слабая отрицательная между ценой квартиры и расстоянием до центра города означаем, что с ростом расстояния цена квартиры уменьшается;\n",
    "4. и отсутствие / очень слабую отрицательную корреляцию между ценой квартиры и датой размещения.\n",
    "\n",
    "\n",
    "Матрица не отразила только корреляцию между ценой и типом этажа (первый, последний, другой), но в дальнейшем эту взаимосвязь можно увидеть на графике.\n",
    "\n",
    "Из увиденного мы можем сделать вывод: чем больше площадь квартиры (а значит и больше жилая площадь и площадь кухни), тем выше стоимость квартиры. На стоимость так же положительно влияет количество комнат (чем больше - тем выше).\n",
    "Увеличение расстояние до центра города уменьшает цену квартиры.\n",
    "Дата размещения никак не влияет на цену.\n",
    "\n",
    "Полученные выводы далее мы подтвердим графиками."
   ]
  },
  {
   "cell_type": "code",
   "execution_count": 67,
   "metadata": {},
   "outputs": [
    {
     "data": {
      "image/png": "[encoded data removed]",
      "text/plain": [
       "<Figure size 432x288 with 1 Axes>"
      ]
     },
     "metadata": {
      "needs_background": "light"
     },
     "output_type": "display_data"
    }
   ],
   "source": [
    "data_corr.plot.scatter(x='rooms', y='last_price');"
   ]
  },
  {
   "cell_type": "code",
   "execution_count": 68,
   "metadata": {},
   "outputs": [
    {
     "data": {
      "image/png": "[encoded data removed]",
      "text/plain": [
       "<Figure size 720x360 with 1 Axes>"
      ]
     },
     "metadata": {
      "needs_background": "light"
     },
     "output_type": "display_data"
    }
   ],
   "source": [
    "data_corr.plot.scatter(x='total_area', y='last_price', figsize=(10,5));"
   ]
  },
  {
   "cell_type": "code",
   "execution_count": 69,
   "metadata": {},
   "outputs": [
    {
     "data": {
      "image/png": "[encoded data removed]",
      "text/plain": [
       "<Figure size 720x360 with 1 Axes>"
      ]
     },
     "metadata": {
      "needs_background": "light"
     },
     "output_type": "display_data"
    }
   ],
   "source": [
    "data_corr.plot.scatter(x='living_area', y='last_price', figsize=(10,5));"
   ]
  },
  {
   "cell_type": "code",
   "execution_count": 70,
   "metadata": {},
   "outputs": [
    {
     "data": {
      "image/png": "[encoded data removed]",
      "text/plain": [
       "<Figure size 720x360 with 1 Axes>"
      ]
     },
     "metadata": {
      "needs_background": "light"
     },
     "output_type": "display_data"
    }
   ],
   "source": [
    "data_corr.plot.scatter(x='kitchen_area', y='last_price', figsize=(10,5));"
   ]
  },
  {
   "cell_type": "code",
   "execution_count": 71,
   "metadata": {},
   "outputs": [
    {
     "data": {
      "image/png": "[encoded data removed]",
      "text/plain": [
       "<Figure size 720x504 with 1 Axes>"
      ]
     },
     "metadata": {
      "needs_background": "light"
     },
     "output_type": "display_data"
    }
   ],
   "source": [
    "data_corr.plot.scatter(x='apartment_floor_type', y='last_price', figsize=(10,7));"
   ]
  },
  {
   "cell_type": "markdown",
   "metadata": {},
   "source": [
    "Недвижимость на первых этажах обычно дешевле, чем недвижимость на последних и других этажах."
   ]
  },
  {
   "cell_type": "code",
   "execution_count": 72,
   "metadata": {},
   "outputs": [
    {
     "data": {
      "image/png": "[encoded data removed]",
      "text/plain": [
       "<Figure size 720x360 with 1 Axes>"
      ]
     },
     "metadata": {
      "needs_background": "light"
     },
     "output_type": "display_data"
    }
   ],
   "source": [
    "data_corr.plot.scatter(x='city_centers_nearest_km', y='last_price', figsize=(10,5));"
   ]
  },
  {
   "cell_type": "code",
   "execution_count": 78,
   "metadata": {},
   "outputs": [
    {
     "name": "stdout",
     "output_type": "stream",
     "text": [
      "<class 'pandas.core.frame.DataFrame'>\n",
      "Int64Index: 22531 entries, 0 to 23695\n",
      "Data columns (total 11 columns):\n",
      " #   Column                   Non-Null Count  Dtype         \n",
      "---  ------                   --------------  -----         \n",
      " 0   locality_name_strip      22531 non-null  object        \n",
      " 1   last_price               22531 non-null  float64       \n",
      " 2   rooms                    22531 non-null  int64         \n",
      " 3   total_area               22531 non-null  float64       \n",
      " 4   living_area              22531 non-null  float64       \n",
      " 5   kitchen_area             22531 non-null  float64       \n",
      " 6   floor                    22531 non-null  int64         \n",
      " 7   apartment_floor_type     22531 non-null  object        \n",
      " 8   city_centers_nearest_km  17410 non-null  float64       \n",
      " 9   month_exposition         22531 non-null  datetime64[ns]\n",
      " 10  day_of_week_exposition   22531 non-null  int64         \n",
      "dtypes: datetime64[ns](1), float64(5), int64(3), object(2)\n",
      "memory usage: 2.1+ MB\n"
     ]
    }
   ],
   "source": [
    "data_corr.info()"
   ]
  },
  {
   "cell_type": "code",
   "execution_count": 81,
   "metadata": {},
   "outputs": [
    {
     "data": {
      "image/png": "[encoded data removed]",
      "text/plain": [
       "<Figure size 432x288 with 1 Axes>"
      ]
     },
     "metadata": {
      "needs_background": "light"
     },
     "output_type": "display_data"
    }
   ],
   "source": [
    "data_corr.plot.scatter(x='year_exposition', y='last_price');"
   ]
  },
  {
   "cell_type": "code",
   "execution_count": 82,
   "metadata": {},
   "outputs": [
    {
     "data": {
      "image/png": "[encoded data removed]",
      "text/plain": [
       "<Figure size 720x360 with 1 Axes>"
      ]
     },
     "metadata": {
      "needs_background": "light"
     },
     "output_type": "display_data"
    }
   ],
   "source": [
    "data_corr.plot.scatter(x='month_exposition', y='last_price', figsize=(10,5));"
   ]
  },
  {
   "cell_type": "code",
   "execution_count": 83,
   "metadata": {},
   "outputs": [
    {
     "data": {
      "image/png": "[encoded data removed]",
      "text/plain": [
       "<Figure size 432x288 with 1 Axes>"
      ]
     },
     "metadata": {
      "needs_background": "light"
     },
     "output_type": "display_data"
    }
   ],
   "source": [
    "data_corr.plot.scatter(x='day_of_week_exposition', y='last_price');"
   ]
  },
  {
   "cell_type": "markdown",
   "metadata": {},
   "source": [
    "В этом разделе мы изучили зависимость цены от значений:\n",
    "- площади (общей, кухни, жилой);\n",
    "- этажа, на котором размещена квартира;\n",
    "- расстояния до центра города;\n",
    "- времени размещения объявления: дня недели и месяца.\n",
    "\n",
    "В большей степени на ценообразование влияет площадь квартиры (общая и жилая): чем больше площадь - тем выше цена. Площадь кухни, количества комнат и этаж в влияют на стоимость положительно, но в меньшей степени. Согласно данным, больше всего квартир продают на не первых и не последних этаж. По мере удаления от центра города стоимость квартиры уменьшается.\n",
    "Стоимость квартиры от времени размещения (дня недели и месяца не зависит).\n",
    "\n",
    "Мы имеем данные с января 2014 по январь 2019: в 2014 году продавали самую дешевую недвижимость (возможно, на это повлиял финансовый кризис), данные за 2019 - неполные. В период с 2015 по 2018 роста цен на недвижимость не наблюдается."
   ]
  },
  {
   "cell_type": "markdown",
   "metadata": {},
   "source": [
    "### Выделите населённые пункты с самой высокой и низкой стоимостью квадратного метра"
   ]
  },
  {
   "cell_type": "code",
   "execution_count": 84,
   "metadata": {},
   "outputs": [
    {
     "data": {
      "text/html": [
       "<div>\n",
       "<style scoped>\n",
       "    .dataframe tbody tr th:only-of-type {\n",
       "        vertical-align: middle;\n",
       "    }\n",
       "\n",
       "    .dataframe tbody tr th {\n",
       "        vertical-align: top;\n",
       "    }\n",
       "\n",
       "    .dataframe thead th {\n",
       "        text-align: right;\n",
       "    }\n",
       "</style>\n",
       "<table border=\"1\" class=\"dataframe\">\n",
       "  <thead>\n",
       "    <tr style=\"text-align: right;\">\n",
       "      <th></th>\n",
       "      <th>estate_count</th>\n",
       "      <th>price_median</th>\n",
       "    </tr>\n",
       "    <tr>\n",
       "      <th>locality_name_strip</th>\n",
       "      <th></th>\n",
       "      <th></th>\n",
       "    </tr>\n",
       "  </thead>\n",
       "  <tbody>\n",
       "    <tr>\n",
       "      <th>Санкт-Петербург</th>\n",
       "      <td>15071</td>\n",
       "      <td>104081.63</td>\n",
       "    </tr>\n",
       "    <tr>\n",
       "      <th>Мурино</th>\n",
       "      <td>475</td>\n",
       "      <td>83010.34</td>\n",
       "    </tr>\n",
       "    <tr>\n",
       "      <th>Шушары</th>\n",
       "      <td>423</td>\n",
       "      <td>76125.00</td>\n",
       "    </tr>\n",
       "    <tr>\n",
       "      <th>Всеволожск</th>\n",
       "      <td>386</td>\n",
       "      <td>65789.47</td>\n",
       "    </tr>\n",
       "    <tr>\n",
       "      <th>Пушкин</th>\n",
       "      <td>351</td>\n",
       "      <td>99706.74</td>\n",
       "    </tr>\n",
       "    <tr>\n",
       "      <th>Колпино</th>\n",
       "      <td>334</td>\n",
       "      <td>74689.88</td>\n",
       "    </tr>\n",
       "    <tr>\n",
       "      <th>Парголово</th>\n",
       "      <td>312</td>\n",
       "      <td>91472.56</td>\n",
       "    </tr>\n",
       "    <tr>\n",
       "      <th>Гатчина</th>\n",
       "      <td>302</td>\n",
       "      <td>67925.85</td>\n",
       "    </tr>\n",
       "    <tr>\n",
       "      <th>Кудрово</th>\n",
       "      <td>265</td>\n",
       "      <td>91410.33</td>\n",
       "    </tr>\n",
       "    <tr>\n",
       "      <th>Выборг</th>\n",
       "      <td>228</td>\n",
       "      <td>58133.22</td>\n",
       "    </tr>\n",
       "  </tbody>\n",
       "</table>\n",
       "</div>"
      ],
      "text/plain": [
       "                     estate_count  price_median\n",
       "locality_name_strip                            \n",
       "Санкт-Петербург             15071     104081.63\n",
       " Мурино                       475      83010.34\n",
       " Шушары                       423      76125.00\n",
       "Всеволожск                    386      65789.47\n",
       "Пушкин                        351      99706.74\n",
       "Колпино                       334      74689.88\n",
       " Парголово                    312      91472.56\n",
       "Гатчина                       302      67925.85\n",
       " Кудрово                      265      91410.33\n",
       "Выборг                        228      58133.22"
      ]
     },
     "execution_count": 84,
     "metadata": {},
     "output_type": "execute_result"
    }
   ],
   "source": [
    "# Выведем сводную таблицу\n",
    "# Для удобства, переименуем столбцы\n",
    "# Округлим значения до копеек\n",
    "# Отсортируем по убыванию, оставим только 10 строк\n",
    "\n",
    "data_median = data.pivot_table(index = 'locality_name_strip', values = 'price_per_square_meter', \\\n",
    "                               aggfunc=['count', 'median'])\n",
    "data_median.columns = ['estate_count', 'price_median']\n",
    "data_median['price_median'] = data_median['price_median'].round(2)\n",
    "data_median = data_median.sort_values('estate_count', ascending = False).head(10)\n",
    "data_median"
   ]
  },
  {
   "cell_type": "code",
   "execution_count": 85,
   "metadata": {},
   "outputs": [
    {
     "data": {
      "text/plain": [
       "104081.63"
      ]
     },
     "execution_count": 85,
     "metadata": {},
     "output_type": "execute_result"
    }
   ],
   "source": [
    "#Выведем максимальную цену за квадратный метр, округлим до копеек\n",
    "\n",
    "data_median['price_median'].max()"
   ]
  },
  {
   "cell_type": "code",
   "execution_count": 86,
   "metadata": {},
   "outputs": [
    {
     "data": {
      "text/plain": [
       "104081.63"
      ]
     },
     "execution_count": 86,
     "metadata": {},
     "output_type": "execute_result"
    }
   ],
   "source": [
    "#Выведем минимальную цену за квадратный метр, округлим до копеек\n",
    "\n",
    "data_median['price_median'].max().min()"
   ]
  },
  {
   "cell_type": "markdown",
   "metadata": {},
   "source": [
    "### Выделите квартиры в Санкт-Петербурге и вычислите среднюю цену каждого километра."
   ]
  },
  {
   "cell_type": "code",
   "execution_count": 87,
   "metadata": {},
   "outputs": [],
   "source": [
    "# Скопируем data_corr в data_spb\n",
    "\n",
    "data_spb = data_corr.copy()"
   ]
  },
  {
   "cell_type": "code",
   "execution_count": 88,
   "metadata": {},
   "outputs": [],
   "source": [
    "# Сделаме срез по Санкт-Петербургу\n",
    "\n",
    "data_spb = data_spb.query('locality_name_strip==\"Санкт-Петербург\"')"
   ]
  },
  {
   "cell_type": "code",
   "execution_count": 89,
   "metadata": {},
   "outputs": [],
   "source": [
    "# Добавим интересующую нас колонку\n",
    "\n",
    "data_spb['price_per_km'] = data['last_price'] / data['city_centers_nearest_km']"
   ]
  },
  {
   "cell_type": "code",
   "execution_count": 90,
   "metadata": {},
   "outputs": [],
   "source": [
    "data_spb_pivot_table = data_spb.pivot_table(index = 'city_centers_nearest_km', values = 'price_per_km')\n",
    "#data_spb_pivot_table"
   ]
  },
  {
   "cell_type": "code",
   "execution_count": 92,
   "metadata": {},
   "outputs": [
    {
     "data": {
      "image/png": "[encoded data removed]",
      "text/plain": [
       "<Figure size 720x360 with 1 Axes>"
      ]
     },
     "metadata": {
      "needs_background": "light"
     },
     "output_type": "display_data"
    }
   ],
   "source": [
    "data_spb_pivot_table.plot(figsize=(10,5), grid = True, title = 'Заголовок');"
   ]
  },
  {
   "cell_type": "markdown",
   "metadata": {},
   "source": [
    "Самая высокая цена - у недвижимости, расположенной на расстоянии до 3 км. Начиная с ~8 км, расстояние до центра не влияет на ценообразование."
   ]
  },
  {
   "cell_type": "markdown",
   "metadata": {},
   "source": [
    "### Общий вывод"
   ]
  },
  {
   "cell_type": "markdown",
   "metadata": {},
   "source": [
    "Процесс исследования:\n",
    "1. изучение общей информации, предобработка данных:\n",
    "2. заполнение пропущенных значений, поиск и удаление аномалий в данных;\n",
    "3. подсчет стоимости квадратного метра недвижимости;\n",
    "4. исследовательский анализ данных и поиск закономерностей, влияющих на ценообразование;\n",
    "5. изучение времени продажи квартир;\n",
    "6. поиск населённых пунктов с самой высокой и низкой стоимостью квадратного метра;\n",
    "7. поиск квартир в Санкт-Петербурге и вычисление средней цены каждого километра."
   ]
  },
  {
   "cell_type": "markdown",
   "metadata": {},
   "source": [
    "Мы выполнили предобработку данных, изучили их и нашли интересные особенности и зависимости, существующие на рынке недвижимости.\n",
    "\n",
    "Перед проведением исследования были выдвинуты несколько гипотез:\n",
    "* гипотеза № 1: существует взаимосвязь между ценой и общей площади недвижимости;\n",
    "* гипотеза № 2: существует взаимосвязь между ценой и жилой площади недвижимости;\n",
    "* гипотеза № 3: существует взаимосвязь между ценой недвижимости и количеством комнат;\n",
    "* гипотеза № 4: существует взаимосвязь между ценой недвижимости и этажа, на котором расположена квартира (первый, последний, другой);\n",
    "* гипотеза № 5: существует взаимосвязь между ценой недвижимости даты размещения (день недели, месяц, год)."
   ]
  },
  {
   "cell_type": "markdown",
   "metadata": {},
   "source": [
    "**Гипотеза № 1** подтвердилась - с увеличением общей площади недвижимости увеличивается цена. \n",
    "В Санкт-Петербурге размещено больше всего объявлений о продаже и самая высокая средняя цена за квадратный метр - 113733.76."
   ]
  },
  {
   "cell_type": "markdown",
   "metadata": {},
   "source": [
    "**Гипотеза № 2** подтвердилась - с увеличением доли жилой площади растет и общая площадь недвижимости, а вместе с этим, растет и цена. Следовательно, гипотеза № 2 доплнительно подтвердает гипотезу № 1"
   ]
  },
  {
   "cell_type": "markdown",
   "metadata": {},
   "source": [
    "**Гипотеза № 3** частично подтвердилась - с увеличением количества комнат цена недвижимости растет, но большее количество комнат не означает большая площадь недвижимости. Потенциальные покупатели больше обращают внимания на площадь, желая получить больше метров, а не больше комнат."
   ]
  },
  {
   "cell_type": "markdown",
   "metadata": {},
   "source": [
    "**Гипотеза № 4** частично подтвердилась - самая немногочисленная и недорогая недвижимость расположена на первых этажах. Популярностью так же не пользуются последние этаже - недвижимости в продаже немного. Самая дорогая и многочисленная недвижимость расположена на не последних и не первых этажах.\n",
    "Было так же выдвинуто предположение, что с недвижимость на последних и первых этажах просто реже выставляется на продажу."
   ]
  },
  {
   "cell_type": "markdown",
   "metadata": {},
   "source": [
    "**Гипотеза № 5** не подтвердилась - взаимосвязь между ценой недвижимости и датой размещения не обнаружена.\n",
    "\n",
    "Но была обнаружена другая взаимосвязь, связанная с датой: потенциальные продавцы чаще выставляют объявления в будние дни, чем в выходные. И ранее мы наблюдали волнообразный рост количества размещенной недвижимости в течение года: резкий рост и высокое удержание в холодные месяцы (февраль и март), резкий спад к маю (возможно, на это влияют майские праздники: у потенциальных продавцов появляются другие занятия). Далее мы видим постепенный рост к ноябрю и в декабре - снова провал (приближающийся новый год?)."
   ]
  }
 ],
 "metadata": {
  "ExecuteTimeLog": [
   {
    "duration": 387,
    "start_time": "2022-08-26T10:21:47.415Z"
   },
   {
    "duration": 131,
    "start_time": "2022-08-26T10:21:47.823Z"
   },
   {
    "duration": 85,
    "start_time": "2022-08-26T10:21:57.384Z"
   },
   {
    "duration": 95,
    "start_time": "2022-08-26T10:22:11.019Z"
   },
   {
    "duration": 2267,
    "start_time": "2022-08-26T10:22:48.513Z"
   },
   {
    "duration": 26,
    "start_time": "2022-08-26T10:24:31.181Z"
   },
   {
    "duration": 8,
    "start_time": "2022-08-26T10:24:51.139Z"
   },
   {
    "duration": 5,
    "start_time": "2022-08-26T10:28:28.912Z"
   },
   {
    "duration": 95,
    "start_time": "2022-08-26T10:28:58.673Z"
   },
   {
    "duration": 77,
    "start_time": "2022-08-26T10:29:11.577Z"
   },
   {
    "duration": 3,
    "start_time": "2022-08-26T10:29:15.377Z"
   },
   {
    "duration": 110,
    "start_time": "2022-08-26T10:29:16.018Z"
   },
   {
    "duration": 72,
    "start_time": "2022-08-26T10:29:17.342Z"
   },
   {
    "duration": 1743,
    "start_time": "2022-08-26T10:29:23.748Z"
   },
   {
    "duration": 90,
    "start_time": "2022-08-26T10:29:31.551Z"
   },
   {
    "duration": 106,
    "start_time": "2022-08-26T10:31:25.529Z"
   },
   {
    "duration": 14,
    "start_time": "2022-08-26T10:36:25.973Z"
   },
   {
    "duration": 5,
    "start_time": "2022-08-26T10:36:43.836Z"
   },
   {
    "duration": 14,
    "start_time": "2022-08-26T10:36:46.526Z"
   },
   {
    "duration": 73,
    "start_time": "2022-08-26T10:40:29.208Z"
   },
   {
    "duration": 7,
    "start_time": "2022-08-26T10:40:43.734Z"
   },
   {
    "duration": 5,
    "start_time": "2022-08-26T10:41:02.550Z"
   },
   {
    "duration": 6,
    "start_time": "2022-08-26T10:41:08.914Z"
   },
   {
    "duration": 6,
    "start_time": "2022-08-26T10:41:19.730Z"
   },
   {
    "duration": 13,
    "start_time": "2022-08-26T10:41:29.403Z"
   },
   {
    "duration": 5,
    "start_time": "2022-08-26T10:42:38.068Z"
   },
   {
    "duration": 6,
    "start_time": "2022-08-26T10:42:47.678Z"
   },
   {
    "duration": 13,
    "start_time": "2022-08-26T10:42:58.213Z"
   },
   {
    "duration": 4,
    "start_time": "2022-08-26T10:43:28.344Z"
   },
   {
    "duration": 13,
    "start_time": "2022-08-26T10:48:41.913Z"
   },
   {
    "duration": 5,
    "start_time": "2022-08-26T10:48:46.747Z"
   },
   {
    "duration": 13,
    "start_time": "2022-08-26T10:48:48.020Z"
   },
   {
    "duration": 6,
    "start_time": "2022-08-26T10:49:39.750Z"
   },
   {
    "duration": 8,
    "start_time": "2022-08-26T10:49:59.113Z"
   },
   {
    "duration": 6,
    "start_time": "2022-08-26T10:50:07.540Z"
   },
   {
    "duration": 7,
    "start_time": "2022-08-26T10:50:14.313Z"
   },
   {
    "duration": 8,
    "start_time": "2022-08-26T10:50:43.751Z"
   },
   {
    "duration": 7,
    "start_time": "2022-08-26T10:50:46.108Z"
   },
   {
    "duration": 10,
    "start_time": "2022-08-26T10:50:46.773Z"
   },
   {
    "duration": 4,
    "start_time": "2022-08-26T10:51:49.658Z"
   },
   {
    "duration": 9,
    "start_time": "2022-08-26T10:51:50.512Z"
   },
   {
    "duration": 16,
    "start_time": "2022-08-26T10:51:57.215Z"
   },
   {
    "duration": 6,
    "start_time": "2022-08-26T10:52:09.107Z"
   },
   {
    "duration": 7,
    "start_time": "2022-08-26T10:52:10.140Z"
   },
   {
    "duration": 4,
    "start_time": "2022-08-26T10:52:23.868Z"
   },
   {
    "duration": 9,
    "start_time": "2022-08-26T10:52:35.877Z"
   },
   {
    "duration": 4,
    "start_time": "2022-08-26T10:59:46.249Z"
   },
   {
    "duration": 16,
    "start_time": "2022-08-26T11:00:15.906Z"
   },
   {
    "duration": 5,
    "start_time": "2022-08-26T11:01:17.945Z"
   },
   {
    "duration": 6,
    "start_time": "2022-08-26T11:01:51.781Z"
   },
   {
    "duration": 7,
    "start_time": "2022-08-26T11:01:58.078Z"
   },
   {
    "duration": 11,
    "start_time": "2022-08-26T11:02:06.293Z"
   },
   {
    "duration": 7,
    "start_time": "2022-08-26T11:02:52.562Z"
   },
   {
    "duration": 8,
    "start_time": "2022-08-26T11:03:19.010Z"
   },
   {
    "duration": 4,
    "start_time": "2022-08-26T11:05:51.256Z"
   },
   {
    "duration": 5,
    "start_time": "2022-08-26T11:06:25.843Z"
   },
   {
    "duration": 9,
    "start_time": "2022-08-26T11:07:07.774Z"
   },
   {
    "duration": 7,
    "start_time": "2022-08-26T11:07:31.226Z"
   },
   {
    "duration": 8,
    "start_time": "2022-08-26T11:12:06.635Z"
   },
   {
    "duration": 8,
    "start_time": "2022-08-26T11:12:17.089Z"
   },
   {
    "duration": 6,
    "start_time": "2022-08-26T11:12:34.799Z"
   },
   {
    "duration": 72,
    "start_time": "2022-08-26T11:15:32.568Z"
   },
   {
    "duration": 14,
    "start_time": "2022-08-26T11:15:36.924Z"
   },
   {
    "duration": 7,
    "start_time": "2022-08-26T11:40:02.083Z"
   },
   {
    "duration": 10,
    "start_time": "2022-08-26T11:40:10.111Z"
   },
   {
    "duration": 7,
    "start_time": "2022-08-26T11:40:15.215Z"
   },
   {
    "duration": 17,
    "start_time": "2022-08-26T11:40:24.390Z"
   },
   {
    "duration": 6,
    "start_time": "2022-08-26T11:40:37.198Z"
   },
   {
    "duration": 7,
    "start_time": "2022-08-26T13:35:26.685Z"
   },
   {
    "duration": 8,
    "start_time": "2022-08-26T14:05:03.490Z"
   },
   {
    "duration": 33,
    "start_time": "2022-08-26T14:05:04.130Z"
   },
   {
    "duration": 9,
    "start_time": "2022-08-26T14:05:24.281Z"
   },
   {
    "duration": 38,
    "start_time": "2022-08-26T14:05:24.681Z"
   },
   {
    "duration": 7,
    "start_time": "2022-08-26T14:06:01.521Z"
   },
   {
    "duration": 34,
    "start_time": "2022-08-26T14:06:02.290Z"
   },
   {
    "duration": 14,
    "start_time": "2022-08-26T14:06:42.436Z"
   },
   {
    "duration": 5,
    "start_time": "2022-08-26T14:10:58.254Z"
   },
   {
    "duration": 74,
    "start_time": "2022-08-26T14:12:13.972Z"
   },
   {
    "duration": 40,
    "start_time": "2022-08-26T14:12:21.946Z"
   },
   {
    "duration": 44,
    "start_time": "2022-08-26T14:12:31.009Z"
   },
   {
    "duration": 19,
    "start_time": "2022-08-26T14:13:15.167Z"
   },
   {
    "duration": 82,
    "start_time": "2022-08-26T14:15:06.951Z"
   },
   {
    "duration": 14,
    "start_time": "2022-08-26T14:15:53.127Z"
   },
   {
    "duration": 3,
    "start_time": "2022-08-26T14:15:56.906Z"
   },
   {
    "duration": 6,
    "start_time": "2022-08-26T14:22:23.579Z"
   },
   {
    "duration": 10,
    "start_time": "2022-08-26T14:22:38.141Z"
   },
   {
    "duration": 40,
    "start_time": "2022-08-26T14:25:28.112Z"
   },
   {
    "duration": 11,
    "start_time": "2022-08-26T14:25:37.551Z"
   },
   {
    "duration": 5,
    "start_time": "2022-08-26T14:36:11.434Z"
   },
   {
    "duration": 15,
    "start_time": "2022-08-26T14:36:36.579Z"
   },
   {
    "duration": 35,
    "start_time": "2022-08-26T14:36:49.177Z"
   },
   {
    "duration": 29,
    "start_time": "2022-08-26T14:37:28.640Z"
   },
   {
    "duration": 5,
    "start_time": "2022-08-26T14:38:45.632Z"
   },
   {
    "duration": 15,
    "start_time": "2022-08-26T14:38:46.723Z"
   },
   {
    "duration": 31,
    "start_time": "2022-08-26T14:38:54.706Z"
   },
   {
    "duration": 9,
    "start_time": "2022-08-26T14:39:08.920Z"
   },
   {
    "duration": 84,
    "start_time": "2022-08-26T15:04:52.682Z"
   },
   {
    "duration": 9,
    "start_time": "2022-08-26T15:04:54.329Z"
   },
   {
    "duration": 69,
    "start_time": "2022-08-26T15:05:02.340Z"
   },
   {
    "duration": 10,
    "start_time": "2022-08-26T15:05:03.438Z"
   },
   {
    "duration": 73,
    "start_time": "2022-08-26T15:06:38.366Z"
   },
   {
    "duration": 9,
    "start_time": "2022-08-26T15:06:44.860Z"
   },
   {
    "duration": 96,
    "start_time": "2022-08-26T15:09:59.114Z"
   },
   {
    "duration": 82,
    "start_time": "2022-08-26T15:10:07.033Z"
   },
   {
    "duration": 9,
    "start_time": "2022-08-26T15:10:08.378Z"
   },
   {
    "duration": 6,
    "start_time": "2022-08-26T15:16:18.425Z"
   },
   {
    "duration": 3,
    "start_time": "2022-08-26T15:16:36.976Z"
   },
   {
    "duration": 10,
    "start_time": "2022-08-26T15:16:57.552Z"
   },
   {
    "duration": 7,
    "start_time": "2022-08-26T15:18:16.678Z"
   },
   {
    "duration": 8,
    "start_time": "2022-08-26T15:18:18.519Z"
   },
   {
    "duration": 22,
    "start_time": "2022-08-26T15:19:30.715Z"
   },
   {
    "duration": 8,
    "start_time": "2022-08-26T15:19:31.943Z"
   },
   {
    "duration": 5,
    "start_time": "2022-08-26T15:23:02.941Z"
   },
   {
    "duration": 8,
    "start_time": "2022-08-26T15:23:05.887Z"
   },
   {
    "duration": 5,
    "start_time": "2022-08-26T15:24:07.767Z"
   },
   {
    "duration": 7,
    "start_time": "2022-08-26T15:24:32.188Z"
   },
   {
    "duration": 12,
    "start_time": "2022-08-26T15:24:34.883Z"
   },
   {
    "duration": 3,
    "start_time": "2022-08-26T15:30:23.769Z"
   },
   {
    "duration": 91,
    "start_time": "2022-08-26T15:30:24.244Z"
   },
   {
    "duration": 16,
    "start_time": "2022-08-26T15:30:27.961Z"
   },
   {
    "duration": 37,
    "start_time": "2022-08-26T15:32:25.727Z"
   },
   {
    "duration": 1862,
    "start_time": "2022-08-26T15:32:27.039Z"
   },
   {
    "duration": 40,
    "start_time": "2022-08-26T15:32:48.311Z"
   },
   {
    "duration": 1758,
    "start_time": "2022-08-26T15:32:49.596Z"
   },
   {
    "duration": 3,
    "start_time": "2022-08-26T15:33:05.414Z"
   },
   {
    "duration": 9,
    "start_time": "2022-08-26T15:33:07.262Z"
   },
   {
    "duration": 4,
    "start_time": "2022-08-26T15:33:08.676Z"
   },
   {
    "duration": 3,
    "start_time": "2022-08-26T15:33:09.553Z"
   },
   {
    "duration": 3,
    "start_time": "2022-08-26T15:33:09.915Z"
   },
   {
    "duration": 6,
    "start_time": "2022-08-26T15:33:10.280Z"
   },
   {
    "duration": 10,
    "start_time": "2022-08-26T15:33:11.028Z"
   },
   {
    "duration": 83,
    "start_time": "2022-08-26T15:33:11.696Z"
   },
   {
    "duration": 11,
    "start_time": "2022-08-26T15:33:12.623Z"
   },
   {
    "duration": 7,
    "start_time": "2022-08-26T15:33:13.300Z"
   },
   {
    "duration": 7,
    "start_time": "2022-08-26T15:33:18.043Z"
   },
   {
    "duration": 7,
    "start_time": "2022-08-26T15:33:20.925Z"
   },
   {
    "duration": 6,
    "start_time": "2022-08-26T15:33:21.293Z"
   },
   {
    "duration": 6,
    "start_time": "2022-08-26T15:33:21.711Z"
   },
   {
    "duration": 8,
    "start_time": "2022-08-26T15:33:31.462Z"
   },
   {
    "duration": 6,
    "start_time": "2022-08-26T15:33:31.890Z"
   },
   {
    "duration": 6,
    "start_time": "2022-08-26T15:33:32.219Z"
   },
   {
    "duration": 5,
    "start_time": "2022-08-26T15:33:32.597Z"
   },
   {
    "duration": 8,
    "start_time": "2022-08-26T15:33:33.470Z"
   },
   {
    "duration": 3,
    "start_time": "2022-08-26T15:34:02.429Z"
   },
   {
    "duration": 1604,
    "start_time": "2022-08-26T15:34:03.106Z"
   },
   {
    "duration": 4,
    "start_time": "2022-08-26T15:34:07.538Z"
   },
   {
    "duration": 8,
    "start_time": "2022-08-26T15:34:07.953Z"
   },
   {
    "duration": 4,
    "start_time": "2022-08-26T15:34:08.491Z"
   },
   {
    "duration": 3,
    "start_time": "2022-08-26T15:34:09.127Z"
   },
   {
    "duration": 3,
    "start_time": "2022-08-26T15:34:09.364Z"
   },
   {
    "duration": 6,
    "start_time": "2022-08-26T15:34:09.977Z"
   },
   {
    "duration": 12,
    "start_time": "2022-08-26T15:34:10.447Z"
   },
   {
    "duration": 84,
    "start_time": "2022-08-26T15:34:11.096Z"
   },
   {
    "duration": 9,
    "start_time": "2022-08-26T15:34:12.294Z"
   },
   {
    "duration": 7,
    "start_time": "2022-08-26T15:34:13.155Z"
   },
   {
    "duration": 10,
    "start_time": "2022-08-26T15:34:14.399Z"
   },
   {
    "duration": 8,
    "start_time": "2022-08-26T15:35:05.374Z"
   },
   {
    "duration": 9,
    "start_time": "2022-08-26T15:35:06.064Z"
   },
   {
    "duration": 7,
    "start_time": "2022-08-26T15:35:07.295Z"
   },
   {
    "duration": 5,
    "start_time": "2022-08-26T15:35:07.723Z"
   },
   {
    "duration": 8,
    "start_time": "2022-08-26T15:35:08.702Z"
   },
   {
    "duration": 420,
    "start_time": "2022-09-02T11:56:30.880Z"
   },
   {
    "duration": 312,
    "start_time": "2022-09-02T11:56:51.122Z"
   },
   {
    "duration": 6,
    "start_time": "2022-09-02T11:56:59.719Z"
   },
   {
    "duration": 96,
    "start_time": "2022-09-02T11:57:10.245Z"
   },
   {
    "duration": 15,
    "start_time": "2022-09-02T11:57:10.607Z"
   },
   {
    "duration": 18,
    "start_time": "2022-09-02T11:57:33.846Z"
   },
   {
    "duration": 2444,
    "start_time": "2022-09-02T12:01:00.581Z"
   },
   {
    "duration": 77,
    "start_time": "2022-09-02T12:03:13.095Z"
   },
   {
    "duration": 10,
    "start_time": "2022-09-02T12:03:18.884Z"
   },
   {
    "duration": 61,
    "start_time": "2022-09-02T12:04:30.684Z"
   },
   {
    "duration": 4,
    "start_time": "2022-09-02T12:04:45.422Z"
   },
   {
    "duration": 2191,
    "start_time": "2022-09-02T12:04:48.492Z"
   },
   {
    "duration": 16,
    "start_time": "2022-09-02T12:04:56.717Z"
   },
   {
    "duration": 8,
    "start_time": "2022-09-02T12:07:45.220Z"
   },
   {
    "duration": 4,
    "start_time": "2022-09-02T12:07:59.687Z"
   },
   {
    "duration": 21,
    "start_time": "2022-09-02T12:08:19.844Z"
   },
   {
    "duration": 13,
    "start_time": "2022-09-02T12:09:24.674Z"
   },
   {
    "duration": 6,
    "start_time": "2022-09-02T12:09:33.254Z"
   },
   {
    "duration": 10,
    "start_time": "2022-09-02T12:09:49.447Z"
   },
   {
    "duration": 7,
    "start_time": "2022-09-02T12:09:56.448Z"
   },
   {
    "duration": 3,
    "start_time": "2022-09-02T12:10:08.424Z"
   },
   {
    "duration": 11,
    "start_time": "2022-09-02T12:11:40.638Z"
   },
   {
    "duration": 8,
    "start_time": "2022-09-02T12:12:03.420Z"
   },
   {
    "duration": 7,
    "start_time": "2022-09-02T12:13:47.322Z"
   },
   {
    "duration": 11,
    "start_time": "2022-09-02T12:14:09.528Z"
   },
   {
    "duration": 275,
    "start_time": "2022-09-02T12:15:51.262Z"
   },
   {
    "duration": 222,
    "start_time": "2022-09-02T12:16:06.169Z"
   },
   {
    "duration": 279,
    "start_time": "2022-09-02T12:16:28.491Z"
   },
   {
    "duration": 381,
    "start_time": "2022-09-02T12:18:06.936Z"
   },
   {
    "duration": 17,
    "start_time": "2022-09-02T12:19:06.278Z"
   },
   {
    "duration": 10,
    "start_time": "2022-09-02T12:19:23.291Z"
   },
   {
    "duration": 11,
    "start_time": "2022-09-02T12:19:33.653Z"
   },
   {
    "duration": 14,
    "start_time": "2022-09-02T12:19:42.240Z"
   },
   {
    "duration": 8,
    "start_time": "2022-09-02T12:19:43.288Z"
   },
   {
    "duration": 31,
    "start_time": "2022-09-02T12:20:41.244Z"
   },
   {
    "duration": 11,
    "start_time": "2022-09-02T12:20:43.815Z"
   },
   {
    "duration": 30,
    "start_time": "2022-09-02T12:21:46.216Z"
   },
   {
    "duration": 8,
    "start_time": "2022-09-02T12:21:48.423Z"
   },
   {
    "duration": 39,
    "start_time": "2022-09-02T12:22:22.298Z"
   },
   {
    "duration": 8,
    "start_time": "2022-09-02T12:22:22.424Z"
   },
   {
    "duration": 9,
    "start_time": "2022-09-02T12:26:11.804Z"
   },
   {
    "duration": 15,
    "start_time": "2022-09-02T12:31:10.450Z"
   },
   {
    "duration": 15,
    "start_time": "2022-09-02T12:32:27.210Z"
   },
   {
    "duration": 14,
    "start_time": "2022-09-02T12:32:48.571Z"
   },
   {
    "duration": 10,
    "start_time": "2022-09-02T12:33:05.637Z"
   },
   {
    "duration": 7,
    "start_time": "2022-09-02T12:33:22.210Z"
   },
   {
    "duration": 6,
    "start_time": "2022-09-02T12:33:29.650Z"
   },
   {
    "duration": 6,
    "start_time": "2022-09-02T12:33:36.010Z"
   },
   {
    "duration": 7,
    "start_time": "2022-09-02T12:33:36.539Z"
   },
   {
    "duration": 9,
    "start_time": "2022-09-02T12:35:04.090Z"
   },
   {
    "duration": 9,
    "start_time": "2022-09-02T12:35:08.096Z"
   },
   {
    "duration": 9,
    "start_time": "2022-09-02T12:35:19.928Z"
   },
   {
    "duration": 10,
    "start_time": "2022-09-02T12:36:07.369Z"
   },
   {
    "duration": 18,
    "start_time": "2022-09-02T12:36:13.490Z"
   },
   {
    "duration": 16,
    "start_time": "2022-09-02T12:36:17.919Z"
   },
   {
    "duration": 17,
    "start_time": "2022-09-02T12:36:36.733Z"
   },
   {
    "duration": 19,
    "start_time": "2022-09-02T12:36:39.517Z"
   },
   {
    "duration": 17,
    "start_time": "2022-09-02T12:37:07.038Z"
   },
   {
    "duration": 25,
    "start_time": "2022-09-02T12:37:45.918Z"
   },
   {
    "duration": 27,
    "start_time": "2022-09-02T12:37:54.725Z"
   },
   {
    "duration": 12,
    "start_time": "2022-09-02T12:38:05.358Z"
   },
   {
    "duration": 24,
    "start_time": "2022-09-02T12:38:09.931Z"
   },
   {
    "duration": 33,
    "start_time": "2022-09-02T12:41:37.215Z"
   },
   {
    "duration": 6,
    "start_time": "2022-09-02T12:46:25.243Z"
   },
   {
    "duration": 35,
    "start_time": "2022-09-02T12:46:29.797Z"
   },
   {
    "duration": 9,
    "start_time": "2022-09-02T12:46:45.200Z"
   },
   {
    "duration": 20,
    "start_time": "2022-09-02T12:46:46.212Z"
   },
   {
    "duration": 10,
    "start_time": "2022-09-02T12:47:09.040Z"
   },
   {
    "duration": 20,
    "start_time": "2022-09-02T12:47:13.253Z"
   },
   {
    "duration": 27,
    "start_time": "2022-09-02T12:49:07.022Z"
   },
   {
    "duration": 6,
    "start_time": "2022-09-02T12:49:13.450Z"
   },
   {
    "duration": 25,
    "start_time": "2022-09-02T12:49:34.420Z"
   },
   {
    "duration": 7,
    "start_time": "2022-09-02T12:49:35.946Z"
   },
   {
    "duration": 8,
    "start_time": "2022-09-02T12:49:47.370Z"
   },
   {
    "duration": 7,
    "start_time": "2022-09-02T12:49:57.448Z"
   },
   {
    "duration": 3,
    "start_time": "2022-09-02T12:50:41.085Z"
   },
   {
    "duration": 125,
    "start_time": "2022-09-02T12:50:41.502Z"
   },
   {
    "duration": 16,
    "start_time": "2022-09-02T12:50:41.630Z"
   },
   {
    "duration": 4,
    "start_time": "2022-09-02T12:50:42.610Z"
   },
   {
    "duration": 2174,
    "start_time": "2022-09-02T12:50:42.935Z"
   },
   {
    "duration": 48,
    "start_time": "2022-09-02T12:50:45.111Z"
   },
   {
    "duration": 41,
    "start_time": "2022-09-02T12:50:45.161Z"
   },
   {
    "duration": 4,
    "start_time": "2022-09-02T12:50:45.650Z"
   },
   {
    "duration": 7,
    "start_time": "2022-09-02T12:50:46.570Z"
   },
   {
    "duration": 9,
    "start_time": "2022-09-02T12:50:47.532Z"
   },
   {
    "duration": 17,
    "start_time": "2022-09-02T12:50:48.416Z"
   },
   {
    "duration": 29,
    "start_time": "2022-09-02T12:50:49.372Z"
   },
   {
    "duration": 10,
    "start_time": "2022-09-02T12:50:50.531Z"
   },
   {
    "duration": 7,
    "start_time": "2022-09-02T12:51:11.846Z"
   },
   {
    "duration": 25,
    "start_time": "2022-09-02T12:51:14.973Z"
   },
   {
    "duration": 7,
    "start_time": "2022-09-02T12:51:16.326Z"
   },
   {
    "duration": 11,
    "start_time": "2022-09-02T12:53:52.019Z"
   },
   {
    "duration": 13,
    "start_time": "2022-09-02T12:54:00.341Z"
   },
   {
    "duration": 12,
    "start_time": "2022-09-02T12:54:09.260Z"
   },
   {
    "duration": 11,
    "start_time": "2022-09-02T12:54:19.246Z"
   },
   {
    "duration": 9,
    "start_time": "2022-09-02T12:56:16.239Z"
   },
   {
    "duration": 10,
    "start_time": "2022-09-02T12:58:17.718Z"
   },
   {
    "duration": 18,
    "start_time": "2022-09-02T12:58:27.287Z"
   },
   {
    "duration": 1116,
    "start_time": "2022-09-02T12:58:29.825Z"
   },
   {
    "duration": 17,
    "start_time": "2022-09-02T12:58:33.878Z"
   },
   {
    "duration": 15,
    "start_time": "2022-09-02T12:59:01.603Z"
   },
   {
    "duration": 17,
    "start_time": "2022-09-02T12:59:11.213Z"
   },
   {
    "duration": 11,
    "start_time": "2022-09-02T13:03:02.974Z"
   },
   {
    "duration": 1176,
    "start_time": "2022-09-02T13:03:47.299Z"
   },
   {
    "duration": 2002,
    "start_time": "2022-09-02T13:04:08.813Z"
   },
   {
    "duration": 901,
    "start_time": "2022-09-02T13:04:28.820Z"
   },
   {
    "duration": 6170,
    "start_time": "2022-09-02T13:05:07.721Z"
   },
   {
    "duration": 3,
    "start_time": "2022-09-02T13:05:22.322Z"
   },
   {
    "duration": 97,
    "start_time": "2022-09-02T13:05:22.721Z"
   },
   {
    "duration": 16,
    "start_time": "2022-09-02T13:05:23.373Z"
   },
   {
    "duration": 4,
    "start_time": "2022-09-02T13:05:24.522Z"
   },
   {
    "duration": 2162,
    "start_time": "2022-09-02T13:05:25.012Z"
   },
   {
    "duration": 58,
    "start_time": "2022-09-02T13:05:27.177Z"
   },
   {
    "duration": 28,
    "start_time": "2022-09-02T13:05:50.532Z"
   },
   {
    "duration": 10,
    "start_time": "2022-09-02T13:05:54.894Z"
   },
   {
    "duration": 4,
    "start_time": "2022-09-02T13:05:56.174Z"
   },
   {
    "duration": 7,
    "start_time": "2022-09-02T13:05:56.641Z"
   },
   {
    "duration": 9,
    "start_time": "2022-09-02T13:05:57.053Z"
   },
   {
    "duration": 21,
    "start_time": "2022-09-02T13:05:57.841Z"
   },
   {
    "duration": 30,
    "start_time": "2022-09-02T13:05:58.409Z"
   },
   {
    "duration": 10,
    "start_time": "2022-09-02T13:06:00.053Z"
   },
   {
    "duration": 7,
    "start_time": "2022-09-02T13:06:01.136Z"
   },
   {
    "duration": 23,
    "start_time": "2022-09-02T13:06:05.944Z"
   },
   {
    "duration": 7,
    "start_time": "2022-09-02T13:06:18.926Z"
   },
   {
    "duration": 7,
    "start_time": "2022-09-02T13:06:25.413Z"
   },
   {
    "duration": 5,
    "start_time": "2022-09-02T13:06:27.641Z"
   },
   {
    "duration": 5,
    "start_time": "2022-09-02T13:06:43.700Z"
   },
   {
    "duration": 2,
    "start_time": "2022-09-02T13:07:16.784Z"
   },
   {
    "duration": 99,
    "start_time": "2022-09-02T13:07:17.217Z"
   },
   {
    "duration": 17,
    "start_time": "2022-09-02T13:07:17.693Z"
   },
   {
    "duration": 4,
    "start_time": "2022-09-02T13:07:18.642Z"
   },
   {
    "duration": 2107,
    "start_time": "2022-09-02T13:07:19.045Z"
   },
   {
    "duration": 45,
    "start_time": "2022-09-02T13:07:21.155Z"
   },
   {
    "duration": 11,
    "start_time": "2022-09-02T13:07:21.202Z"
   },
   {
    "duration": 4,
    "start_time": "2022-09-02T13:07:22.619Z"
   },
   {
    "duration": 7,
    "start_time": "2022-09-02T13:07:23.206Z"
   },
   {
    "duration": 9,
    "start_time": "2022-09-02T13:07:24.133Z"
   },
   {
    "duration": 17,
    "start_time": "2022-09-02T13:07:24.819Z"
   },
   {
    "duration": 29,
    "start_time": "2022-09-02T13:07:25.649Z"
   },
   {
    "duration": 9,
    "start_time": "2022-09-02T13:07:27.101Z"
   },
   {
    "duration": 9,
    "start_time": "2022-09-02T13:07:28.057Z"
   },
   {
    "duration": 23,
    "start_time": "2022-09-02T13:07:29.265Z"
   },
   {
    "duration": 8,
    "start_time": "2022-09-02T13:07:30.736Z"
   },
   {
    "duration": 19,
    "start_time": "2022-09-02T13:07:59.774Z"
   },
   {
    "duration": 8,
    "start_time": "2022-09-02T13:08:07.647Z"
   },
   {
    "duration": 18,
    "start_time": "2022-09-02T13:08:08.804Z"
   },
   {
    "duration": 18,
    "start_time": "2022-09-02T13:08:35.218Z"
   },
   {
    "duration": 17,
    "start_time": "2022-09-02T13:08:39.415Z"
   },
   {
    "duration": 19,
    "start_time": "2022-09-02T13:08:55.693Z"
   },
   {
    "duration": 18,
    "start_time": "2022-09-02T13:09:05.442Z"
   },
   {
    "duration": 17,
    "start_time": "2022-09-02T13:09:10.374Z"
   },
   {
    "duration": 17,
    "start_time": "2022-09-02T13:09:32.363Z"
   },
   {
    "duration": 41,
    "start_time": "2022-09-02T13:09:45.734Z"
   },
   {
    "duration": 27,
    "start_time": "2022-09-02T13:09:53.046Z"
   },
   {
    "duration": 5,
    "start_time": "2022-09-02T13:10:49.824Z"
   },
   {
    "duration": 26,
    "start_time": "2022-09-02T13:10:58.242Z"
   },
   {
    "duration": 4,
    "start_time": "2022-09-02T13:11:45.419Z"
   },
   {
    "duration": 27,
    "start_time": "2022-09-02T13:11:52.010Z"
   },
   {
    "duration": 27,
    "start_time": "2022-09-02T13:14:39.127Z"
   },
   {
    "duration": 27,
    "start_time": "2022-09-02T13:14:44.549Z"
   },
   {
    "duration": 5,
    "start_time": "2022-09-02T13:16:05.101Z"
   },
   {
    "duration": 9,
    "start_time": "2022-09-02T13:16:05.948Z"
   },
   {
    "duration": 5,
    "start_time": "2022-09-02T13:16:07.687Z"
   },
   {
    "duration": 3,
    "start_time": "2022-09-02T13:16:20.968Z"
   },
   {
    "duration": 100,
    "start_time": "2022-09-02T13:16:21.269Z"
   },
   {
    "duration": 17,
    "start_time": "2022-09-02T13:16:21.690Z"
   },
   {
    "duration": 3,
    "start_time": "2022-09-02T13:16:22.260Z"
   },
   {
    "duration": 2077,
    "start_time": "2022-09-02T13:16:22.526Z"
   },
   {
    "duration": 27,
    "start_time": "2022-09-02T13:16:24.606Z"
   },
   {
    "duration": 9,
    "start_time": "2022-09-02T13:16:24.635Z"
   },
   {
    "duration": 3,
    "start_time": "2022-09-02T13:16:24.646Z"
   },
   {
    "duration": 7,
    "start_time": "2022-09-02T13:16:25.149Z"
   },
   {
    "duration": 9,
    "start_time": "2022-09-02T13:16:25.671Z"
   },
   {
    "duration": 17,
    "start_time": "2022-09-02T13:16:26.340Z"
   },
   {
    "duration": 31,
    "start_time": "2022-09-02T13:16:26.948Z"
   },
   {
    "duration": 8,
    "start_time": "2022-09-02T13:16:27.269Z"
   },
   {
    "duration": 6,
    "start_time": "2022-09-02T13:16:27.749Z"
   },
   {
    "duration": 21,
    "start_time": "2022-09-02T13:16:28.541Z"
   },
   {
    "duration": 8,
    "start_time": "2022-09-02T13:16:32.487Z"
   },
   {
    "duration": 28,
    "start_time": "2022-09-02T13:17:17.769Z"
   },
   {
    "duration": 21,
    "start_time": "2022-09-02T13:17:21.895Z"
   },
   {
    "duration": 8,
    "start_time": "2022-09-02T13:17:23.265Z"
   },
   {
    "duration": 3,
    "start_time": "2022-09-02T13:17:58.290Z"
   },
   {
    "duration": 94,
    "start_time": "2022-09-02T13:17:58.459Z"
   },
   {
    "duration": 16,
    "start_time": "2022-09-02T13:17:58.818Z"
   },
   {
    "duration": 4,
    "start_time": "2022-09-02T13:17:59.288Z"
   },
   {
    "duration": 2356,
    "start_time": "2022-09-02T13:17:59.569Z"
   },
   {
    "duration": 32,
    "start_time": "2022-09-02T13:18:01.928Z"
   },
   {
    "duration": 66,
    "start_time": "2022-09-02T13:18:01.963Z"
   },
   {
    "duration": 22,
    "start_time": "2022-09-02T13:18:02.032Z"
   },
   {
    "duration": 27,
    "start_time": "2022-09-02T13:18:02.056Z"
   },
   {
    "duration": 12,
    "start_time": "2022-09-02T13:18:02.379Z"
   },
   {
    "duration": 17,
    "start_time": "2022-09-02T13:18:03.215Z"
   },
   {
    "duration": 34,
    "start_time": "2022-09-02T13:18:03.747Z"
   },
   {
    "duration": 9,
    "start_time": "2022-09-02T13:18:04.525Z"
   },
   {
    "duration": 7,
    "start_time": "2022-09-02T13:18:05.938Z"
   },
   {
    "duration": 28,
    "start_time": "2022-09-02T13:18:07.213Z"
   },
   {
    "duration": 22,
    "start_time": "2022-09-02T13:18:09.104Z"
   },
   {
    "duration": 8,
    "start_time": "2022-09-02T13:18:10.786Z"
   },
   {
    "duration": 23,
    "start_time": "2022-09-02T13:20:59.861Z"
   },
   {
    "duration": 8,
    "start_time": "2022-09-02T13:21:00.931Z"
   },
   {
    "duration": 28,
    "start_time": "2022-09-02T13:21:30.227Z"
   },
   {
    "duration": 11,
    "start_time": "2022-09-02T13:23:41.970Z"
   },
   {
    "duration": 6,
    "start_time": "2022-09-02T13:24:35.969Z"
   },
   {
    "duration": 21,
    "start_time": "2022-09-02T13:24:54.168Z"
   },
   {
    "duration": 9,
    "start_time": "2022-09-02T13:25:04.779Z"
   },
   {
    "duration": 19,
    "start_time": "2022-09-02T13:25:09.207Z"
   },
   {
    "duration": 21,
    "start_time": "2022-09-02T13:25:35.846Z"
   },
   {
    "duration": 21,
    "start_time": "2022-09-02T13:25:45.569Z"
   },
   {
    "duration": 8,
    "start_time": "2022-09-02T13:25:48.531Z"
   },
   {
    "duration": 10,
    "start_time": "2022-09-02T13:27:34.494Z"
   },
   {
    "duration": 20,
    "start_time": "2022-09-02T13:27:34.547Z"
   },
   {
    "duration": 41,
    "start_time": "2022-09-02T13:28:13.885Z"
   },
   {
    "duration": 54,
    "start_time": "2022-09-02T13:28:36.338Z"
   },
   {
    "duration": 10,
    "start_time": "2022-09-02T13:28:46.287Z"
   },
   {
    "duration": 28,
    "start_time": "2022-09-02T13:29:05.020Z"
   },
   {
    "duration": 24,
    "start_time": "2022-09-02T13:29:12.939Z"
   },
   {
    "duration": 31,
    "start_time": "2022-09-02T13:29:20.063Z"
   },
   {
    "duration": 13,
    "start_time": "2022-09-02T13:29:47.124Z"
   },
   {
    "duration": 3,
    "start_time": "2022-09-02T13:30:26.931Z"
   },
   {
    "duration": 94,
    "start_time": "2022-09-02T13:30:27.363Z"
   },
   {
    "duration": 17,
    "start_time": "2022-09-02T13:30:27.828Z"
   },
   {
    "duration": 3,
    "start_time": "2022-09-02T13:30:28.655Z"
   },
   {
    "duration": 1933,
    "start_time": "2022-09-02T13:30:29.376Z"
   },
   {
    "duration": 27,
    "start_time": "2022-09-02T13:30:31.311Z"
   },
   {
    "duration": 10,
    "start_time": "2022-09-02T13:30:33.739Z"
   },
   {
    "duration": 5,
    "start_time": "2022-09-02T13:30:35.457Z"
   },
   {
    "duration": 7,
    "start_time": "2022-09-02T13:30:36.176Z"
   },
   {
    "duration": 9,
    "start_time": "2022-09-02T13:30:36.929Z"
   },
   {
    "duration": 15,
    "start_time": "2022-09-02T13:30:37.365Z"
   },
   {
    "duration": 30,
    "start_time": "2022-09-02T13:30:37.782Z"
   },
   {
    "duration": 8,
    "start_time": "2022-09-02T13:30:38.458Z"
   },
   {
    "duration": 8,
    "start_time": "2022-09-02T13:30:39.496Z"
   },
   {
    "duration": 9,
    "start_time": "2022-09-02T13:33:04.130Z"
   },
   {
    "duration": 4,
    "start_time": "2022-09-02T13:33:22.337Z"
   },
   {
    "duration": 3,
    "start_time": "2022-09-02T13:33:49.725Z"
   },
   {
    "duration": 99,
    "start_time": "2022-09-02T13:33:50.069Z"
   },
   {
    "duration": 15,
    "start_time": "2022-09-02T13:33:50.350Z"
   },
   {
    "duration": 4,
    "start_time": "2022-09-02T13:33:50.983Z"
   },
   {
    "duration": 2210,
    "start_time": "2022-09-02T13:33:51.290Z"
   },
   {
    "duration": 27,
    "start_time": "2022-09-02T13:33:53.502Z"
   },
   {
    "duration": 15,
    "start_time": "2022-09-02T13:33:53.531Z"
   },
   {
    "duration": 25,
    "start_time": "2022-09-02T13:33:53.549Z"
   },
   {
    "duration": 7,
    "start_time": "2022-09-02T13:33:53.630Z"
   },
   {
    "duration": 8,
    "start_time": "2022-09-02T13:33:53.984Z"
   },
   {
    "duration": 17,
    "start_time": "2022-09-02T13:33:54.471Z"
   },
   {
    "duration": 28,
    "start_time": "2022-09-02T13:33:54.934Z"
   },
   {
    "duration": 8,
    "start_time": "2022-09-02T13:33:55.230Z"
   },
   {
    "duration": 8,
    "start_time": "2022-09-02T13:33:55.615Z"
   },
   {
    "duration": 7,
    "start_time": "2022-09-02T13:33:56.208Z"
   },
   {
    "duration": 12,
    "start_time": "2022-09-02T13:33:56.849Z"
   },
   {
    "duration": 7,
    "start_time": "2022-09-02T13:33:57.404Z"
   },
   {
    "duration": 11,
    "start_time": "2022-09-02T13:34:00.008Z"
   },
   {
    "duration": 9,
    "start_time": "2022-09-02T13:34:01.292Z"
   },
   {
    "duration": 5,
    "start_time": "2022-09-02T13:34:09.983Z"
   },
   {
    "duration": 12,
    "start_time": "2022-09-02T13:34:35.976Z"
   },
   {
    "duration": 7,
    "start_time": "2022-09-02T13:36:04.425Z"
   },
   {
    "duration": 10,
    "start_time": "2022-09-02T13:36:04.983Z"
   },
   {
    "duration": 8,
    "start_time": "2022-09-02T13:52:27.146Z"
   },
   {
    "duration": 10,
    "start_time": "2022-09-02T13:52:29.990Z"
   },
   {
    "duration": 6,
    "start_time": "2022-09-02T13:53:19.938Z"
   },
   {
    "duration": 11,
    "start_time": "2022-09-02T13:53:23.997Z"
   },
   {
    "duration": 10,
    "start_time": "2022-09-02T13:56:51.799Z"
   },
   {
    "duration": 6,
    "start_time": "2022-09-02T14:01:10.252Z"
   },
   {
    "duration": 6,
    "start_time": "2022-09-02T14:01:25.310Z"
   },
   {
    "duration": 12,
    "start_time": "2022-09-02T14:01:31.038Z"
   },
   {
    "duration": 12,
    "start_time": "2022-09-02T14:01:31.498Z"
   },
   {
    "duration": 8,
    "start_time": "2022-09-02T14:01:31.971Z"
   },
   {
    "duration": 7,
    "start_time": "2022-09-02T14:01:32.451Z"
   },
   {
    "duration": 8,
    "start_time": "2022-09-02T14:01:32.911Z"
   },
   {
    "duration": 6,
    "start_time": "2022-09-02T14:01:33.363Z"
   },
   {
    "duration": 6,
    "start_time": "2022-09-02T14:01:51.057Z"
   },
   {
    "duration": 6,
    "start_time": "2022-09-02T14:01:55.405Z"
   },
   {
    "duration": 5,
    "start_time": "2022-09-02T14:02:23.666Z"
   },
   {
    "duration": 6,
    "start_time": "2022-09-02T14:02:52.593Z"
   },
   {
    "duration": 6,
    "start_time": "2022-09-02T14:03:08.930Z"
   },
   {
    "duration": 30,
    "start_time": "2022-09-02T14:04:19.874Z"
   },
   {
    "duration": 32,
    "start_time": "2022-09-02T14:04:27.661Z"
   },
   {
    "duration": 5,
    "start_time": "2022-09-02T14:06:29.869Z"
   },
   {
    "duration": 3,
    "start_time": "2022-09-02T14:10:23.023Z"
   },
   {
    "duration": 94,
    "start_time": "2022-09-02T14:10:23.529Z"
   },
   {
    "duration": 18,
    "start_time": "2022-09-02T14:10:24.136Z"
   },
   {
    "duration": 19,
    "start_time": "2022-09-02T14:10:27.244Z"
   },
   {
    "duration": 3,
    "start_time": "2022-09-02T14:10:56.394Z"
   },
   {
    "duration": 96,
    "start_time": "2022-09-02T14:10:56.742Z"
   },
   {
    "duration": 18,
    "start_time": "2022-09-02T14:10:57.027Z"
   },
   {
    "duration": 4,
    "start_time": "2022-09-02T14:10:58.023Z"
   },
   {
    "duration": 2042,
    "start_time": "2022-09-02T14:10:58.583Z"
   },
   {
    "duration": 29,
    "start_time": "2022-09-02T14:11:00.627Z"
   },
   {
    "duration": 35,
    "start_time": "2022-09-02T14:11:00.658Z"
   },
   {
    "duration": 21,
    "start_time": "2022-09-02T14:11:00.695Z"
   },
   {
    "duration": 7,
    "start_time": "2022-09-02T14:11:00.745Z"
   },
   {
    "duration": 10,
    "start_time": "2022-09-02T14:11:01.106Z"
   },
   {
    "duration": 18,
    "start_time": "2022-09-02T14:11:01.354Z"
   },
   {
    "duration": 167,
    "start_time": "2022-09-02T14:11:01.591Z"
   },
   {
    "duration": 378,
    "start_time": "2022-09-02T14:11:01.761Z"
   },
   {
    "duration": 72,
    "start_time": "2022-09-02T14:11:02.141Z"
   },
   {
    "duration": 47,
    "start_time": "2022-09-02T14:11:02.216Z"
   },
   {
    "duration": 11,
    "start_time": "2022-09-02T14:11:02.596Z"
   },
   {
    "duration": 7,
    "start_time": "2022-09-02T14:11:02.940Z"
   },
   {
    "duration": 9,
    "start_time": "2022-09-02T14:11:03.333Z"
   },
   {
    "duration": 8,
    "start_time": "2022-09-02T14:11:03.770Z"
   },
   {
    "duration": 9,
    "start_time": "2022-09-02T14:11:04.263Z"
   },
   {
    "duration": 6,
    "start_time": "2022-09-02T14:11:04.824Z"
   },
   {
    "duration": 8,
    "start_time": "2022-09-02T14:11:05.231Z"
   },
   {
    "duration": 10,
    "start_time": "2022-09-02T14:11:05.545Z"
   },
   {
    "duration": 5,
    "start_time": "2022-09-02T14:11:06.393Z"
   },
   {
    "duration": 15,
    "start_time": "2022-09-02T14:11:14.047Z"
   },
   {
    "duration": 14,
    "start_time": "2022-09-02T14:14:26.812Z"
   },
   {
    "duration": 10,
    "start_time": "2022-09-02T14:14:30.225Z"
   },
   {
    "duration": 11,
    "start_time": "2022-09-02T14:14:54.982Z"
   },
   {
    "duration": 9,
    "start_time": "2022-09-02T14:15:26.384Z"
   },
   {
    "duration": 5,
    "start_time": "2022-09-02T14:15:27.131Z"
   },
   {
    "duration": 33,
    "start_time": "2022-09-02T14:18:02.536Z"
   },
   {
    "duration": 5,
    "start_time": "2022-09-02T14:18:34.551Z"
   },
   {
    "duration": 30,
    "start_time": "2022-09-02T14:18:35.538Z"
   },
   {
    "duration": 4,
    "start_time": "2022-09-02T14:18:59.741Z"
   },
   {
    "duration": 29,
    "start_time": "2022-09-02T14:19:00.414Z"
   },
   {
    "duration": 5,
    "start_time": "2022-09-02T14:21:41.056Z"
   },
   {
    "duration": 28,
    "start_time": "2022-09-02T14:21:48.210Z"
   },
   {
    "duration": 705,
    "start_time": "2022-09-02T14:25:15.744Z"
   },
   {
    "duration": 20,
    "start_time": "2022-09-02T14:26:15.975Z"
   },
   {
    "duration": 636,
    "start_time": "2022-09-02T14:27:40.548Z"
   },
   {
    "duration": 245,
    "start_time": "2022-09-02T14:27:59.451Z"
   },
   {
    "duration": 29,
    "start_time": "2022-09-02T14:28:01.604Z"
   },
   {
    "duration": 637,
    "start_time": "2022-09-02T14:32:19.703Z"
   },
   {
    "duration": 240,
    "start_time": "2022-09-02T14:32:20.540Z"
   },
   {
    "duration": 436,
    "start_time": "2022-09-02T14:33:39.543Z"
   },
   {
    "duration": 466,
    "start_time": "2022-09-02T14:36:19.098Z"
   },
   {
    "duration": 530,
    "start_time": "2022-09-02T14:39:05.704Z"
   },
   {
    "duration": 462,
    "start_time": "2022-09-02T14:39:29.222Z"
   },
   {
    "duration": 14,
    "start_time": "2022-09-02T14:40:53.860Z"
   },
   {
    "duration": 9,
    "start_time": "2022-09-02T14:41:01.271Z"
   },
   {
    "duration": 255,
    "start_time": "2022-09-02T14:41:03.715Z"
   },
   {
    "duration": 23,
    "start_time": "2022-09-02T14:41:04.551Z"
   },
   {
    "duration": 25,
    "start_time": "2022-09-02T14:43:10.469Z"
   },
   {
    "duration": 247,
    "start_time": "2022-09-02T14:43:11.530Z"
   },
   {
    "duration": 24,
    "start_time": "2022-09-02T14:43:12.264Z"
   },
   {
    "duration": 10,
    "start_time": "2022-09-02T14:45:18.425Z"
   },
   {
    "duration": 8,
    "start_time": "2022-09-02T14:45:18.905Z"
   },
   {
    "duration": 8,
    "start_time": "2022-09-02T14:45:19.342Z"
   },
   {
    "duration": 8,
    "start_time": "2022-09-02T14:45:19.395Z"
   },
   {
    "duration": 10,
    "start_time": "2022-09-02T14:45:21.131Z"
   },
   {
    "duration": 56,
    "start_time": "2022-09-02T15:02:01.707Z"
   },
   {
    "duration": 251,
    "start_time": "2022-09-02T15:02:06.498Z"
   },
   {
    "duration": 124,
    "start_time": "2022-09-02T15:02:15.183Z"
   },
   {
    "duration": 154,
    "start_time": "2022-09-02T15:02:38.005Z"
   },
   {
    "duration": 118,
    "start_time": "2022-09-02T15:03:44.152Z"
   },
   {
    "duration": 168,
    "start_time": "2022-09-02T15:04:04.302Z"
   },
   {
    "duration": 129,
    "start_time": "2022-09-02T16:11:56.734Z"
   },
   {
    "duration": 107,
    "start_time": "2022-09-02T16:12:17.536Z"
   },
   {
    "duration": 120,
    "start_time": "2022-09-02T16:12:50.185Z"
   },
   {
    "duration": 132,
    "start_time": "2022-09-02T16:22:31.384Z"
   },
   {
    "duration": 122,
    "start_time": "2022-09-02T16:25:50.939Z"
   },
   {
    "duration": 114,
    "start_time": "2022-09-02T16:26:10.644Z"
   },
   {
    "duration": 121,
    "start_time": "2022-09-02T16:26:18.070Z"
   },
   {
    "duration": 135,
    "start_time": "2022-09-02T16:26:48.706Z"
   },
   {
    "duration": 4,
    "start_time": "2022-09-02T16:31:06.854Z"
   },
   {
    "duration": 27,
    "start_time": "2022-09-02T16:32:24.721Z"
   },
   {
    "duration": 14,
    "start_time": "2022-09-02T16:33:02.226Z"
   },
   {
    "duration": 24,
    "start_time": "2022-09-02T16:33:53.270Z"
   },
   {
    "duration": 15,
    "start_time": "2022-09-02T16:34:06.784Z"
   },
   {
    "duration": 16,
    "start_time": "2022-09-02T16:34:46.699Z"
   },
   {
    "duration": 12,
    "start_time": "2022-09-02T16:34:51.810Z"
   },
   {
    "duration": 12,
    "start_time": "2022-09-02T16:35:09.926Z"
   },
   {
    "duration": 16,
    "start_time": "2022-09-02T16:35:12.405Z"
   },
   {
    "duration": 12,
    "start_time": "2022-09-02T16:35:25.088Z"
   },
   {
    "duration": 17,
    "start_time": "2022-09-02T16:35:25.623Z"
   },
   {
    "duration": 15,
    "start_time": "2022-09-02T16:35:37.725Z"
   },
   {
    "duration": 10,
    "start_time": "2022-09-02T16:35:48.551Z"
   },
   {
    "duration": 9,
    "start_time": "2022-09-02T16:35:51.087Z"
   },
   {
    "duration": 4,
    "start_time": "2022-09-02T16:36:03.843Z"
   },
   {
    "duration": 102,
    "start_time": "2022-09-02T16:36:04.001Z"
   },
   {
    "duration": 16,
    "start_time": "2022-09-02T16:36:04.219Z"
   },
   {
    "duration": 5,
    "start_time": "2022-09-02T16:36:04.610Z"
   },
   {
    "duration": 4,
    "start_time": "2022-09-02T16:36:04.850Z"
   },
   {
    "duration": 2365,
    "start_time": "2022-09-02T16:36:05.055Z"
   },
   {
    "duration": 29,
    "start_time": "2022-09-02T16:36:07.423Z"
   },
   {
    "duration": 9,
    "start_time": "2022-09-02T16:36:07.454Z"
   },
   {
    "duration": 35,
    "start_time": "2022-09-02T16:36:07.465Z"
   },
   {
    "duration": 24,
    "start_time": "2022-09-02T16:36:07.502Z"
   },
   {
    "duration": 22,
    "start_time": "2022-09-02T16:36:07.528Z"
   },
   {
    "duration": 27,
    "start_time": "2022-09-02T16:36:07.551Z"
   },
   {
    "duration": 48,
    "start_time": "2022-09-02T16:36:07.581Z"
   },
   {
    "duration": 8,
    "start_time": "2022-09-02T16:36:07.769Z"
   },
   {
    "duration": 9,
    "start_time": "2022-09-02T16:36:07.928Z"
   },
   {
    "duration": 7,
    "start_time": "2022-09-02T16:36:08.135Z"
   },
   {
    "duration": 11,
    "start_time": "2022-09-02T16:36:08.395Z"
   },
   {
    "duration": 6,
    "start_time": "2022-09-02T16:36:08.566Z"
   },
   {
    "duration": 9,
    "start_time": "2022-09-02T16:36:08.734Z"
   },
   {
    "duration": 8,
    "start_time": "2022-09-02T16:36:08.934Z"
   },
   {
    "duration": 7,
    "start_time": "2022-09-02T16:36:09.113Z"
   },
   {
    "duration": 8,
    "start_time": "2022-09-02T16:36:09.313Z"
   },
   {
    "duration": 10,
    "start_time": "2022-09-02T16:36:09.503Z"
   },
   {
    "duration": 11,
    "start_time": "2022-09-02T16:36:09.713Z"
   },
   {
    "duration": 7,
    "start_time": "2022-09-02T16:36:09.932Z"
   },
   {
    "duration": 7,
    "start_time": "2022-09-02T16:36:10.267Z"
   },
   {
    "duration": 27,
    "start_time": "2022-09-02T16:36:10.425Z"
   },
   {
    "duration": 246,
    "start_time": "2022-09-02T16:36:10.628Z"
   },
   {
    "duration": 5,
    "start_time": "2022-09-02T16:36:10.895Z"
   },
   {
    "duration": 40,
    "start_time": "2022-09-02T16:36:10.903Z"
   },
   {
    "duration": 118,
    "start_time": "2022-09-02T16:36:11.827Z"
   },
   {
    "duration": 30,
    "start_time": "2022-09-02T16:37:38.365Z"
   },
   {
    "duration": 3,
    "start_time": "2022-09-02T16:37:42.066Z"
   },
   {
    "duration": 2285,
    "start_time": "2022-09-02T16:37:43.536Z"
   },
   {
    "duration": 25,
    "start_time": "2022-09-02T16:37:45.941Z"
   },
   {
    "duration": 26,
    "start_time": "2022-09-02T16:37:50.746Z"
   },
   {
    "duration": 89,
    "start_time": "2022-09-02T16:45:00.419Z"
   },
   {
    "duration": 11,
    "start_time": "2022-09-02T16:46:43.464Z"
   },
   {
    "duration": 9,
    "start_time": "2022-09-02T16:47:23.072Z"
   },
   {
    "duration": 95,
    "start_time": "2022-09-02T16:47:48.805Z"
   },
   {
    "duration": 50,
    "start_time": "2022-09-03T17:00:01.032Z"
   },
   {
    "duration": 7,
    "start_time": "2022-09-03T17:00:05.072Z"
   },
   {
    "duration": 414,
    "start_time": "2022-09-03T17:00:07.126Z"
   },
   {
    "duration": 344,
    "start_time": "2022-09-03T17:00:07.542Z"
   },
   {
    "duration": 30,
    "start_time": "2022-09-03T17:00:07.977Z"
   },
   {
    "duration": 18,
    "start_time": "2022-09-03T17:00:15.712Z"
   },
   {
    "duration": 2,
    "start_time": "2022-09-03T17:04:53.988Z"
   },
   {
    "duration": 87,
    "start_time": "2022-09-03T17:04:54.393Z"
   },
   {
    "duration": 13,
    "start_time": "2022-09-03T17:04:54.897Z"
   },
   {
    "duration": 2,
    "start_time": "2022-09-03T17:09:26.091Z"
   },
   {
    "duration": 98,
    "start_time": "2022-09-03T17:09:27.140Z"
   },
   {
    "duration": 16,
    "start_time": "2022-09-03T17:09:27.849Z"
   },
   {
    "duration": 70,
    "start_time": "2022-09-03T17:09:30.549Z"
   },
   {
    "duration": 26,
    "start_time": "2022-09-03T17:10:12.302Z"
   },
   {
    "duration": 2204,
    "start_time": "2022-09-03T17:12:47.642Z"
   },
   {
    "duration": 27,
    "start_time": "2022-09-03T17:13:03.187Z"
   },
   {
    "duration": 9,
    "start_time": "2022-09-03T17:19:04.695Z"
   },
   {
    "duration": 8,
    "start_time": "2022-09-03T17:19:34.056Z"
   },
   {
    "duration": 3,
    "start_time": "2022-09-03T17:19:46.859Z"
   },
   {
    "duration": 95,
    "start_time": "2022-09-03T17:19:47.334Z"
   },
   {
    "duration": 15,
    "start_time": "2022-09-03T17:19:48.765Z"
   },
   {
    "duration": 70,
    "start_time": "2022-09-03T17:19:50.488Z"
   },
   {
    "duration": 22,
    "start_time": "2022-09-03T17:19:52.258Z"
   },
   {
    "duration": 3,
    "start_time": "2022-09-03T17:19:53.414Z"
   },
   {
    "duration": 1750,
    "start_time": "2022-09-03T17:19:54.046Z"
   },
   {
    "duration": 8,
    "start_time": "2022-09-03T17:19:58.568Z"
   },
   {
    "duration": 42,
    "start_time": "2022-09-03T17:22:05.778Z"
   },
   {
    "duration": 3,
    "start_time": "2022-09-03T17:22:13.467Z"
   },
   {
    "duration": 5,
    "start_time": "2022-09-03T17:22:13.967Z"
   },
   {
    "duration": 11,
    "start_time": "2022-09-03T17:47:04.510Z"
   },
   {
    "duration": 18,
    "start_time": "2022-09-03T17:47:18.470Z"
   },
   {
    "duration": 30,
    "start_time": "2022-09-03T17:47:18.490Z"
   },
   {
    "duration": 101,
    "start_time": "2022-09-03T17:47:46.733Z"
   },
   {
    "duration": 24,
    "start_time": "2022-09-03T17:47:47.469Z"
   },
   {
    "duration": 135,
    "start_time": "2022-09-03T17:47:58.150Z"
   },
   {
    "duration": 24,
    "start_time": "2022-09-03T17:47:58.953Z"
   },
   {
    "duration": 24,
    "start_time": "2022-09-03T17:48:13.748Z"
   },
   {
    "duration": 27,
    "start_time": "2022-09-03T17:48:14.223Z"
   },
   {
    "duration": 21,
    "start_time": "2022-09-03T17:48:17.499Z"
   },
   {
    "duration": 17,
    "start_time": "2022-09-03T17:48:36.739Z"
   },
   {
    "duration": 24,
    "start_time": "2022-09-03T17:48:38.791Z"
   },
   {
    "duration": 105,
    "start_time": "2022-09-03T17:49:07.938Z"
   },
   {
    "duration": 24,
    "start_time": "2022-09-03T17:49:09.226Z"
   },
   {
    "duration": 22,
    "start_time": "2022-09-03T17:49:18.572Z"
   },
   {
    "duration": 16,
    "start_time": "2022-09-03T17:49:57.789Z"
   },
   {
    "duration": 30,
    "start_time": "2022-09-03T17:49:58.504Z"
   },
   {
    "duration": 8,
    "start_time": "2022-09-03T17:51:03.067Z"
   },
   {
    "duration": 9,
    "start_time": "2022-09-03T17:51:05.905Z"
   },
   {
    "duration": 45,
    "start_time": "2022-09-03T17:51:12.629Z"
   },
   {
    "duration": 48,
    "start_time": "2022-09-03T17:51:19.134Z"
   },
   {
    "duration": 21,
    "start_time": "2022-09-03T17:51:27.430Z"
   },
   {
    "duration": 572,
    "start_time": "2022-09-03T17:52:25.986Z"
   },
   {
    "duration": 25,
    "start_time": "2022-09-03T17:52:26.958Z"
   },
   {
    "duration": 355,
    "start_time": "2022-09-03T17:52:35.507Z"
   },
   {
    "duration": 125,
    "start_time": "2022-09-03T17:52:46.914Z"
   },
   {
    "duration": 24,
    "start_time": "2022-09-03T17:52:50.659Z"
   },
   {
    "duration": 22,
    "start_time": "2022-09-03T17:52:55.103Z"
   },
   {
    "duration": 22,
    "start_time": "2022-09-03T17:53:15.931Z"
   },
   {
    "duration": 37,
    "start_time": "2022-09-03T17:53:18.197Z"
   },
   {
    "duration": 133,
    "start_time": "2022-09-03T17:53:25.063Z"
   },
   {
    "duration": 9,
    "start_time": "2022-09-03T17:53:38.595Z"
   },
   {
    "duration": 60,
    "start_time": "2022-09-03T17:57:12.572Z"
   },
   {
    "duration": 14,
    "start_time": "2022-09-03T17:57:17.903Z"
   },
   {
    "duration": 27,
    "start_time": "2022-09-03T17:57:18.798Z"
   },
   {
    "duration": 11,
    "start_time": "2022-09-03T17:57:43.464Z"
   },
   {
    "duration": 24,
    "start_time": "2022-09-03T17:58:26.656Z"
   },
   {
    "duration": 32,
    "start_time": "2022-09-03T17:58:27.490Z"
   },
   {
    "duration": 38,
    "start_time": "2022-09-03T17:58:36.690Z"
   },
   {
    "duration": 201,
    "start_time": "2022-09-03T18:00:54.777Z"
   },
   {
    "duration": 278,
    "start_time": "2022-09-03T18:01:46.457Z"
   },
   {
    "duration": 20,
    "start_time": "2022-09-03T18:02:06.379Z"
   },
   {
    "duration": 9,
    "start_time": "2022-09-03T18:04:17.460Z"
   },
   {
    "duration": 35,
    "start_time": "2022-09-03T18:04:31.228Z"
   },
   {
    "duration": 38,
    "start_time": "2022-09-03T18:04:41.494Z"
   },
   {
    "duration": 40,
    "start_time": "2022-09-03T18:04:58.328Z"
   },
   {
    "duration": 171,
    "start_time": "2022-09-03T18:08:37.188Z"
   },
   {
    "duration": 8,
    "start_time": "2022-09-03T18:10:11.295Z"
   },
   {
    "duration": 46,
    "start_time": "2022-09-03T18:10:12.177Z"
   },
   {
    "duration": 7,
    "start_time": "2022-09-03T18:10:57.555Z"
   },
   {
    "duration": 39,
    "start_time": "2022-09-03T18:10:59.014Z"
   },
   {
    "duration": 29,
    "start_time": "2022-09-03T18:11:00.830Z"
   },
   {
    "duration": 2,
    "start_time": "2022-09-03T18:11:13.824Z"
   },
   {
    "duration": 86,
    "start_time": "2022-09-03T18:11:14.232Z"
   },
   {
    "duration": 14,
    "start_time": "2022-09-03T18:11:14.781Z"
   },
   {
    "duration": 80,
    "start_time": "2022-09-03T18:11:15.637Z"
   },
   {
    "duration": 26,
    "start_time": "2022-09-03T18:11:16.856Z"
   },
   {
    "duration": 5,
    "start_time": "2022-09-03T18:11:17.330Z"
   },
   {
    "duration": 1887,
    "start_time": "2022-09-03T18:11:17.898Z"
   },
   {
    "duration": 8,
    "start_time": "2022-09-03T18:11:20.154Z"
   },
   {
    "duration": 4,
    "start_time": "2022-09-03T18:11:21.748Z"
   },
   {
    "duration": 8,
    "start_time": "2022-09-03T18:11:22.901Z"
   },
   {
    "duration": 6,
    "start_time": "2022-09-03T18:11:24.271Z"
   },
   {
    "duration": 24,
    "start_time": "2022-09-03T18:14:09.014Z"
   },
   {
    "duration": 41,
    "start_time": "2022-09-03T18:14:10.460Z"
   },
   {
    "duration": 15,
    "start_time": "2022-09-03T18:14:44.567Z"
   },
   {
    "duration": 48,
    "start_time": "2022-09-03T18:14:45.497Z"
   },
   {
    "duration": 25,
    "start_time": "2022-09-03T18:18:13.308Z"
   },
   {
    "duration": 134,
    "start_time": "2022-09-03T18:18:24.103Z"
   },
   {
    "duration": 32,
    "start_time": "2022-09-03T18:18:41.232Z"
   },
   {
    "duration": 44,
    "start_time": "2022-09-03T18:18:42.155Z"
   },
   {
    "duration": 14,
    "start_time": "2022-09-03T18:19:15.575Z"
   },
   {
    "duration": 37,
    "start_time": "2022-09-03T18:19:17.292Z"
   },
   {
    "duration": 25,
    "start_time": "2022-09-03T18:19:25.856Z"
   },
   {
    "duration": 128,
    "start_time": "2022-09-03T18:19:42.576Z"
   },
   {
    "duration": 20,
    "start_time": "2022-09-03T18:19:49.432Z"
   },
   {
    "duration": 29,
    "start_time": "2022-09-03T18:19:50.851Z"
   },
   {
    "duration": 34,
    "start_time": "2022-09-03T18:20:49.435Z"
   },
   {
    "duration": 26,
    "start_time": "2022-09-03T18:20:50.333Z"
   },
   {
    "duration": 26,
    "start_time": "2022-09-03T18:23:24.977Z"
   },
   {
    "duration": 2,
    "start_time": "2022-09-03T18:24:44.270Z"
   },
   {
    "duration": 85,
    "start_time": "2022-09-03T18:24:44.497Z"
   },
   {
    "duration": 13,
    "start_time": "2022-09-03T18:24:44.657Z"
   },
   {
    "duration": 65,
    "start_time": "2022-09-03T18:24:45.537Z"
   },
   {
    "duration": 21,
    "start_time": "2022-09-03T18:24:47.000Z"
   },
   {
    "duration": 3,
    "start_time": "2022-09-03T18:24:47.657Z"
   },
   {
    "duration": 1859,
    "start_time": "2022-09-03T18:24:48.298Z"
   },
   {
    "duration": 8,
    "start_time": "2022-09-03T18:24:50.263Z"
   },
   {
    "duration": 4,
    "start_time": "2022-09-03T18:24:51.973Z"
   },
   {
    "duration": 11,
    "start_time": "2022-09-03T18:24:53.536Z"
   },
   {
    "duration": 6,
    "start_time": "2022-09-03T18:24:54.370Z"
   },
   {
    "duration": 31,
    "start_time": "2022-09-03T18:26:30.028Z"
   },
   {
    "duration": 28,
    "start_time": "2022-09-03T18:26:37.448Z"
   },
   {
    "duration": 29,
    "start_time": "2022-09-03T18:27:16.531Z"
   },
   {
    "duration": 35,
    "start_time": "2022-09-03T18:27:23.065Z"
   },
   {
    "duration": 44,
    "start_time": "2022-09-03T18:29:20.732Z"
   },
   {
    "duration": 27,
    "start_time": "2022-09-03T18:29:21.606Z"
   },
   {
    "duration": 45,
    "start_time": "2022-09-03T18:30:15.573Z"
   },
   {
    "duration": 29,
    "start_time": "2022-09-03T18:30:16.462Z"
   },
   {
    "duration": 9,
    "start_time": "2022-09-03T18:30:17.738Z"
   },
   {
    "duration": 125,
    "start_time": "2022-09-03T18:32:28.537Z"
   },
   {
    "duration": 146,
    "start_time": "2022-09-03T18:32:55.106Z"
   },
   {
    "duration": 133,
    "start_time": "2022-09-03T18:36:17.543Z"
   },
   {
    "duration": 124,
    "start_time": "2022-09-03T18:36:31.856Z"
   },
   {
    "duration": 122,
    "start_time": "2022-09-03T18:36:59.138Z"
   },
   {
    "duration": 8,
    "start_time": "2022-09-03T18:38:47.300Z"
   },
   {
    "duration": 8,
    "start_time": "2022-09-03T18:39:02.582Z"
   },
   {
    "duration": 8,
    "start_time": "2022-09-03T18:39:12.860Z"
   },
   {
    "duration": 7,
    "start_time": "2022-09-03T18:39:18.945Z"
   },
   {
    "duration": 7,
    "start_time": "2022-09-03T18:39:36.225Z"
   },
   {
    "duration": 184,
    "start_time": "2022-09-03T18:40:53.529Z"
   },
   {
    "duration": 27,
    "start_time": "2022-09-03T18:40:54.379Z"
   },
   {
    "duration": 43,
    "start_time": "2022-09-03T18:41:31.139Z"
   },
   {
    "duration": 21,
    "start_time": "2022-09-03T18:41:35.941Z"
   },
   {
    "duration": 32,
    "start_time": "2022-09-03T18:41:48.251Z"
   },
   {
    "duration": 26,
    "start_time": "2022-09-03T18:43:21.784Z"
   },
   {
    "duration": 6,
    "start_time": "2022-09-03T18:43:32.903Z"
   },
   {
    "duration": 26,
    "start_time": "2022-09-03T18:43:42.916Z"
   },
   {
    "duration": 9,
    "start_time": "2022-09-03T18:43:43.793Z"
   },
   {
    "duration": 6,
    "start_time": "2022-09-03T18:43:55.285Z"
   },
   {
    "duration": 35,
    "start_time": "2022-09-03T18:44:20.665Z"
   },
   {
    "duration": 7,
    "start_time": "2022-09-03T18:44:21.651Z"
   },
   {
    "duration": 47,
    "start_time": "2022-09-03T18:44:55.428Z"
   },
   {
    "duration": 45,
    "start_time": "2022-09-03T18:45:06.686Z"
   },
   {
    "duration": 55,
    "start_time": "2022-09-03T18:45:30.744Z"
   },
   {
    "duration": 6,
    "start_time": "2022-09-03T18:45:32.063Z"
   },
   {
    "duration": 55,
    "start_time": "2022-09-03T18:45:41.846Z"
   },
   {
    "duration": 6,
    "start_time": "2022-09-03T18:45:43.082Z"
   },
   {
    "duration": 65,
    "start_time": "2022-09-03T18:46:17.772Z"
   },
   {
    "duration": 6,
    "start_time": "2022-09-03T18:46:19.092Z"
   },
   {
    "duration": 76,
    "start_time": "2022-09-03T18:46:39.692Z"
   },
   {
    "duration": 7,
    "start_time": "2022-09-03T18:46:40.171Z"
   },
   {
    "duration": 94,
    "start_time": "2022-09-03T18:47:47.694Z"
   },
   {
    "duration": 7,
    "start_time": "2022-09-03T18:47:47.979Z"
   },
   {
    "duration": 85,
    "start_time": "2022-09-03T18:48:44.867Z"
   },
   {
    "duration": 10,
    "start_time": "2022-09-03T18:48:46.002Z"
   },
   {
    "duration": 2,
    "start_time": "2022-09-03T18:50:00.535Z"
   },
   {
    "duration": 91,
    "start_time": "2022-09-03T18:50:00.971Z"
   },
   {
    "duration": 14,
    "start_time": "2022-09-03T18:50:01.543Z"
   },
   {
    "duration": 69,
    "start_time": "2022-09-03T18:50:02.662Z"
   },
   {
    "duration": 24,
    "start_time": "2022-09-03T18:50:03.835Z"
   },
   {
    "duration": 3,
    "start_time": "2022-09-03T18:50:04.215Z"
   },
   {
    "duration": 1768,
    "start_time": "2022-09-03T18:50:04.764Z"
   },
   {
    "duration": 9,
    "start_time": "2022-09-03T18:50:06.534Z"
   },
   {
    "duration": 4,
    "start_time": "2022-09-03T18:50:07.496Z"
   },
   {
    "duration": 8,
    "start_time": "2022-09-03T18:50:07.844Z"
   },
   {
    "duration": 7,
    "start_time": "2022-09-03T18:50:08.404Z"
   },
   {
    "duration": 110,
    "start_time": "2022-09-03T18:51:58.856Z"
   },
   {
    "duration": 117,
    "start_time": "2022-09-03T18:52:06.611Z"
   },
   {
    "duration": 127,
    "start_time": "2022-09-03T18:52:30.461Z"
   },
   {
    "duration": 118,
    "start_time": "2022-09-03T18:52:41.094Z"
   },
   {
    "duration": 130,
    "start_time": "2022-09-03T18:53:03.806Z"
   },
   {
    "duration": 144,
    "start_time": "2022-09-03T18:53:10.211Z"
   },
   {
    "duration": 142,
    "start_time": "2022-09-03T18:53:15.943Z"
   },
   {
    "duration": 127,
    "start_time": "2022-09-03T18:53:35.463Z"
   },
   {
    "duration": 8,
    "start_time": "2022-09-03T18:54:02.172Z"
   },
   {
    "duration": 7,
    "start_time": "2022-09-03T18:54:02.732Z"
   },
   {
    "duration": 10,
    "start_time": "2022-09-03T18:54:03.693Z"
   },
   {
    "duration": 345,
    "start_time": "2022-09-03T18:54:05.569Z"
   },
   {
    "duration": 3,
    "start_time": "2022-09-03T18:54:50.285Z"
   },
   {
    "duration": 95,
    "start_time": "2022-09-03T18:54:50.747Z"
   },
   {
    "duration": 14,
    "start_time": "2022-09-03T18:54:51.348Z"
   },
   {
    "duration": 13,
    "start_time": "2022-09-03T18:54:58.211Z"
   },
   {
    "duration": 67,
    "start_time": "2022-09-03T18:55:03.291Z"
   },
   {
    "duration": 150,
    "start_time": "2022-09-03T18:56:17.948Z"
   },
   {
    "duration": 233,
    "start_time": "2022-09-03T18:56:35.016Z"
   },
   {
    "duration": 154,
    "start_time": "2022-09-03T18:56:41.856Z"
   },
   {
    "duration": 155,
    "start_time": "2022-09-03T18:58:19.497Z"
   },
   {
    "duration": 169,
    "start_time": "2022-09-03T18:58:44.776Z"
   },
   {
    "duration": 161,
    "start_time": "2022-09-03T18:58:51.904Z"
   },
   {
    "duration": 165,
    "start_time": "2022-09-03T19:00:01.166Z"
   },
   {
    "duration": 165,
    "start_time": "2022-09-03T19:00:43.648Z"
   },
   {
    "duration": 168,
    "start_time": "2022-09-03T19:00:48.163Z"
   },
   {
    "duration": 9,
    "start_time": "2022-09-03T19:01:22.174Z"
   },
   {
    "duration": 159,
    "start_time": "2022-09-03T19:01:23.215Z"
   },
   {
    "duration": 188,
    "start_time": "2022-09-03T19:01:49.796Z"
   },
   {
    "duration": 152,
    "start_time": "2022-09-03T19:01:55.797Z"
   },
   {
    "duration": 204,
    "start_time": "2022-09-03T19:02:00.383Z"
   },
   {
    "duration": 247,
    "start_time": "2022-09-03T19:05:15.103Z"
   },
   {
    "duration": 185,
    "start_time": "2022-09-03T19:05:33.443Z"
   },
   {
    "duration": 188,
    "start_time": "2022-09-03T19:05:48.063Z"
   },
   {
    "duration": 200,
    "start_time": "2022-09-03T19:05:55.003Z"
   },
   {
    "duration": 261,
    "start_time": "2022-09-03T19:07:05.658Z"
   },
   {
    "duration": 405,
    "start_time": "2022-09-03T19:11:22.261Z"
   },
   {
    "duration": 233,
    "start_time": "2022-09-03T19:11:28.662Z"
   },
   {
    "duration": 258,
    "start_time": "2022-09-03T19:13:07.696Z"
   },
   {
    "duration": 270,
    "start_time": "2022-09-03T19:13:19.061Z"
   },
   {
    "duration": 278,
    "start_time": "2022-09-03T19:13:23.949Z"
   },
   {
    "duration": 242,
    "start_time": "2022-09-03T19:13:29.137Z"
   },
   {
    "duration": 259,
    "start_time": "2022-09-03T19:13:35.273Z"
   },
   {
    "duration": 228,
    "start_time": "2022-09-03T19:13:57.383Z"
   },
   {
    "duration": 273,
    "start_time": "2022-09-03T19:14:05.698Z"
   },
   {
    "duration": 240,
    "start_time": "2022-09-03T19:14:12.270Z"
   },
   {
    "duration": 8,
    "start_time": "2022-09-03T19:15:58.301Z"
   },
   {
    "duration": 104,
    "start_time": "2022-09-03T19:16:32.469Z"
   },
   {
    "duration": 124,
    "start_time": "2022-09-03T19:16:56.469Z"
   },
   {
    "duration": 121,
    "start_time": "2022-09-03T19:17:14.464Z"
   },
   {
    "duration": 140,
    "start_time": "2022-09-03T19:17:27.658Z"
   },
   {
    "duration": 158,
    "start_time": "2022-09-03T19:17:43.911Z"
   },
   {
    "duration": 508,
    "start_time": "2022-09-03T19:19:54.267Z"
   },
   {
    "duration": 365,
    "start_time": "2022-09-03T19:20:05.383Z"
   },
   {
    "duration": 140,
    "start_time": "2022-09-03T19:20:25.985Z"
   },
   {
    "duration": 91,
    "start_time": "2022-09-03T19:20:54.254Z"
   },
   {
    "duration": 120,
    "start_time": "2022-09-03T19:21:10.020Z"
   },
   {
    "duration": 113,
    "start_time": "2022-09-03T19:21:24.779Z"
   },
   {
    "duration": 100,
    "start_time": "2022-09-03T19:21:38.512Z"
   },
   {
    "duration": 101,
    "start_time": "2022-09-03T19:21:44.767Z"
   },
   {
    "duration": 110,
    "start_time": "2022-09-03T19:21:51.214Z"
   },
   {
    "duration": 104,
    "start_time": "2022-09-03T19:22:21.452Z"
   },
   {
    "duration": 105,
    "start_time": "2022-09-03T19:22:29.981Z"
   },
   {
    "duration": 89,
    "start_time": "2022-09-03T19:22:33.980Z"
   },
   {
    "duration": 89,
    "start_time": "2022-09-03T19:22:42.956Z"
   },
   {
    "duration": 93,
    "start_time": "2022-09-03T19:22:53.820Z"
   },
   {
    "duration": 103,
    "start_time": "2022-09-03T19:22:59.580Z"
   },
   {
    "duration": 101,
    "start_time": "2022-09-03T19:23:22.221Z"
   },
   {
    "duration": 99,
    "start_time": "2022-09-03T19:23:46.154Z"
   },
   {
    "duration": 92,
    "start_time": "2022-09-03T19:23:51.151Z"
   },
   {
    "duration": 121,
    "start_time": "2022-09-03T19:24:04.025Z"
   },
   {
    "duration": 104,
    "start_time": "2022-09-03T19:24:12.911Z"
   },
   {
    "duration": 441,
    "start_time": "2022-09-03T19:25:35.608Z"
   },
   {
    "duration": 54,
    "start_time": "2022-09-03T19:25:55.706Z"
   },
   {
    "duration": 103,
    "start_time": "2022-09-03T19:26:00.592Z"
   },
   {
    "duration": 92,
    "start_time": "2022-09-03T19:26:48.249Z"
   },
   {
    "duration": 60,
    "start_time": "2022-09-03T19:27:55.220Z"
   },
   {
    "duration": 77,
    "start_time": "2022-09-03T19:28:05.253Z"
   },
   {
    "duration": 539,
    "start_time": "2022-09-03T19:29:06.699Z"
   },
   {
    "duration": 92,
    "start_time": "2022-09-03T19:29:19.099Z"
   },
   {
    "duration": 92,
    "start_time": "2022-09-03T19:29:23.779Z"
   },
   {
    "duration": 200,
    "start_time": "2022-09-03T19:29:49.493Z"
   },
   {
    "duration": 91,
    "start_time": "2022-09-03T19:30:43.866Z"
   },
   {
    "duration": 91,
    "start_time": "2022-09-03T19:30:54.266Z"
   },
   {
    "duration": 125,
    "start_time": "2022-09-03T19:31:32.607Z"
   },
   {
    "duration": 91,
    "start_time": "2022-09-03T19:31:38.487Z"
   },
   {
    "duration": 92,
    "start_time": "2022-09-03T19:31:51.747Z"
   },
   {
    "duration": 98,
    "start_time": "2022-09-03T19:32:35.714Z"
   },
   {
    "duration": 112,
    "start_time": "2022-09-03T19:33:10.213Z"
   },
   {
    "duration": 92,
    "start_time": "2022-09-03T19:33:19.807Z"
   },
   {
    "duration": 10,
    "start_time": "2022-09-03T19:35:24.017Z"
   },
   {
    "duration": 10,
    "start_time": "2022-09-03T19:46:12.961Z"
   },
   {
    "duration": 2,
    "start_time": "2022-09-03T19:46:14.908Z"
   },
   {
    "duration": 10,
    "start_time": "2022-09-03T19:46:16.674Z"
   },
   {
    "duration": 119,
    "start_time": "2022-09-03T19:46:17.773Z"
   },
   {
    "duration": 12,
    "start_time": "2022-09-03T19:46:19.612Z"
   },
   {
    "duration": 7,
    "start_time": "2022-09-03T19:47:09.504Z"
   },
   {
    "duration": 2,
    "start_time": "2022-09-03T19:48:48.596Z"
   },
   {
    "duration": 88,
    "start_time": "2022-09-03T19:48:48.999Z"
   },
   {
    "duration": 18,
    "start_time": "2022-09-03T19:48:49.698Z"
   },
   {
    "duration": 75,
    "start_time": "2022-09-03T19:48:50.597Z"
   },
   {
    "duration": 29,
    "start_time": "2022-09-03T19:48:52.100Z"
   },
   {
    "duration": 3,
    "start_time": "2022-09-03T19:48:53.294Z"
   },
   {
    "duration": 2042,
    "start_time": "2022-09-03T19:48:53.659Z"
   },
   {
    "duration": 19,
    "start_time": "2022-09-03T19:48:55.703Z"
   },
   {
    "duration": 15,
    "start_time": "2022-09-03T19:48:55.724Z"
   },
   {
    "duration": 10,
    "start_time": "2022-09-03T19:48:55.741Z"
   },
   {
    "duration": 6,
    "start_time": "2022-09-03T19:48:56.147Z"
   },
   {
    "duration": 110,
    "start_time": "2022-09-03T19:48:57.270Z"
   },
   {
    "duration": 10,
    "start_time": "2022-09-03T19:48:57.668Z"
   },
   {
    "duration": 11,
    "start_time": "2022-09-03T19:48:58.223Z"
   },
   {
    "duration": 19,
    "start_time": "2022-09-03T19:48:59.112Z"
   },
   {
    "duration": 3,
    "start_time": "2022-09-03T19:49:00.749Z"
   },
   {
    "duration": 11,
    "start_time": "2022-09-03T19:49:02.269Z"
   },
   {
    "duration": 106,
    "start_time": "2022-09-03T19:49:03.139Z"
   },
   {
    "duration": 11,
    "start_time": "2022-09-03T19:49:05.216Z"
   },
   {
    "duration": 6,
    "start_time": "2022-09-03T19:49:09.561Z"
   },
   {
    "duration": 3,
    "start_time": "2022-09-03T19:49:21.740Z"
   },
   {
    "duration": 95,
    "start_time": "2022-09-03T19:49:22.275Z"
   },
   {
    "duration": 18,
    "start_time": "2022-09-03T19:49:23.224Z"
   },
   {
    "duration": 67,
    "start_time": "2022-09-03T19:49:25.782Z"
   },
   {
    "duration": 31,
    "start_time": "2022-09-03T19:49:26.713Z"
   },
   {
    "duration": 4,
    "start_time": "2022-09-03T19:49:27.106Z"
   },
   {
    "duration": 1920,
    "start_time": "2022-09-03T19:49:27.498Z"
   },
   {
    "duration": 14,
    "start_time": "2022-09-03T19:49:29.421Z"
   },
   {
    "duration": 4,
    "start_time": "2022-09-03T19:49:29.438Z"
   },
   {
    "duration": 9,
    "start_time": "2022-09-03T19:49:29.444Z"
   },
   {
    "duration": 7,
    "start_time": "2022-09-03T19:49:29.639Z"
   },
   {
    "duration": 100,
    "start_time": "2022-09-03T19:49:30.613Z"
   },
   {
    "duration": 9,
    "start_time": "2022-09-03T19:49:30.956Z"
   },
   {
    "duration": 9,
    "start_time": "2022-09-03T19:49:31.322Z"
   },
   {
    "duration": 13,
    "start_time": "2022-09-03T19:49:45.919Z"
   },
   {
    "duration": 2,
    "start_time": "2022-09-03T19:49:46.549Z"
   },
   {
    "duration": 9,
    "start_time": "2022-09-03T19:49:46.945Z"
   },
   {
    "duration": 138,
    "start_time": "2022-09-03T19:49:47.705Z"
   },
   {
    "duration": 41,
    "start_time": "2022-09-03T19:49:48.621Z"
   },
   {
    "duration": 8,
    "start_time": "2022-09-03T19:49:49.670Z"
   },
   {
    "duration": 10,
    "start_time": "2022-09-03T19:49:54.168Z"
   },
   {
    "duration": 7,
    "start_time": "2022-09-03T19:51:12.261Z"
   },
   {
    "duration": 5,
    "start_time": "2022-09-03T19:51:12.784Z"
   },
   {
    "duration": 8,
    "start_time": "2022-09-03T19:51:22.037Z"
   },
   {
    "duration": 7,
    "start_time": "2022-09-03T19:51:22.758Z"
   },
   {
    "duration": 6,
    "start_time": "2022-09-03T19:51:23.283Z"
   },
   {
    "duration": 8,
    "start_time": "2022-09-03T19:51:24.519Z"
   },
   {
    "duration": 137,
    "start_time": "2022-09-03T19:52:31.148Z"
   },
   {
    "duration": 39,
    "start_time": "2022-09-03T19:53:09.818Z"
   },
   {
    "duration": 38,
    "start_time": "2022-09-03T19:53:29.548Z"
   },
   {
    "duration": 160,
    "start_time": "2022-09-03T19:53:45.613Z"
   },
   {
    "duration": 156,
    "start_time": "2022-09-03T19:54:03.818Z"
   },
   {
    "duration": 9,
    "start_time": "2022-09-03T19:54:12.157Z"
   },
   {
    "duration": 119,
    "start_time": "2022-09-03T19:54:35.156Z"
   },
   {
    "duration": 31,
    "start_time": "2022-09-03T19:54:54.174Z"
   },
   {
    "duration": 27,
    "start_time": "2022-09-03T19:54:59.138Z"
   },
   {
    "duration": 33,
    "start_time": "2022-09-03T19:55:10.437Z"
   },
   {
    "duration": 61,
    "start_time": "2022-09-03T19:55:15.874Z"
   },
   {
    "duration": 41,
    "start_time": "2022-09-03T19:55:25.578Z"
   },
   {
    "duration": 59,
    "start_time": "2022-09-03T19:55:35.156Z"
   },
   {
    "duration": 111,
    "start_time": "2022-09-03T19:55:51.517Z"
   },
   {
    "duration": 50,
    "start_time": "2022-09-03T19:55:59.995Z"
   },
   {
    "duration": 52,
    "start_time": "2022-09-03T19:56:07.703Z"
   },
   {
    "duration": 66,
    "start_time": "2022-09-03T19:56:14.511Z"
   },
   {
    "duration": 60,
    "start_time": "2022-09-03T19:56:24.107Z"
   },
   {
    "duration": 49,
    "start_time": "2022-09-03T20:00:03.577Z"
   },
   {
    "duration": 34,
    "start_time": "2022-09-03T20:00:11.095Z"
   },
   {
    "duration": 46,
    "start_time": "2022-09-03T20:00:18.827Z"
   },
   {
    "duration": 37,
    "start_time": "2022-09-03T20:03:15.258Z"
   },
   {
    "duration": 41,
    "start_time": "2022-09-03T20:03:27.745Z"
   },
   {
    "duration": 47,
    "start_time": "2022-09-03T20:03:52.619Z"
   },
   {
    "duration": 32,
    "start_time": "2022-09-03T20:04:42.660Z"
   },
   {
    "duration": 40,
    "start_time": "2022-09-03T20:05:01.979Z"
   },
   {
    "duration": 55,
    "start_time": "2022-09-03T20:05:10.705Z"
   },
   {
    "duration": 58,
    "start_time": "2022-09-03T20:05:26.812Z"
   },
   {
    "duration": 47,
    "start_time": "2022-09-03T20:05:37.490Z"
   },
   {
    "duration": 41,
    "start_time": "2022-09-03T20:05:44.289Z"
   },
   {
    "duration": 6,
    "start_time": "2022-09-03T20:06:09.733Z"
   },
   {
    "duration": 9,
    "start_time": "2022-09-03T20:06:22.187Z"
   },
   {
    "duration": 37,
    "start_time": "2022-09-03T20:06:35.666Z"
   },
   {
    "duration": 48,
    "start_time": "2022-09-03T20:06:41.930Z"
   },
   {
    "duration": 50,
    "start_time": "2022-09-03T20:07:26.460Z"
   },
   {
    "duration": 48,
    "start_time": "2022-09-03T20:07:38.579Z"
   },
   {
    "duration": 68,
    "start_time": "2022-09-03T20:09:24.145Z"
   },
   {
    "duration": 36,
    "start_time": "2022-09-03T20:09:39.230Z"
   },
   {
    "duration": 414,
    "start_time": "2022-09-04T10:27:53.079Z"
   },
   {
    "duration": 317,
    "start_time": "2022-09-04T10:27:55.081Z"
   },
   {
    "duration": 15,
    "start_time": "2022-09-04T10:27:55.962Z"
   },
   {
    "duration": 95,
    "start_time": "2022-09-04T10:28:16.266Z"
   },
   {
    "duration": 80,
    "start_time": "2022-09-04T10:28:34.244Z"
   },
   {
    "duration": 22,
    "start_time": "2022-09-04T10:28:37.955Z"
   },
   {
    "duration": 3,
    "start_time": "2022-09-04T10:28:40.594Z"
   },
   {
    "duration": 2131,
    "start_time": "2022-09-04T10:28:41.836Z"
   },
   {
    "duration": 10,
    "start_time": "2022-09-04T10:28:50.448Z"
   },
   {
    "duration": 5,
    "start_time": "2022-09-04T10:31:08.163Z"
   },
   {
    "duration": 9,
    "start_time": "2022-09-04T10:31:11.590Z"
   },
   {
    "duration": 7,
    "start_time": "2022-09-04T10:31:17.632Z"
   },
   {
    "duration": 105,
    "start_time": "2022-09-04T10:34:32.454Z"
   },
   {
    "duration": 10,
    "start_time": "2022-09-04T10:34:35.032Z"
   },
   {
    "duration": 118,
    "start_time": "2022-09-04T10:50:09.951Z"
   },
   {
    "duration": 2,
    "start_time": "2022-09-04T10:50:51.538Z"
   },
   {
    "duration": 98,
    "start_time": "2022-09-04T10:50:51.956Z"
   },
   {
    "duration": 14,
    "start_time": "2022-09-04T10:50:52.438Z"
   },
   {
    "duration": 70,
    "start_time": "2022-09-04T10:50:53.331Z"
   },
   {
    "duration": 24,
    "start_time": "2022-09-04T10:50:54.333Z"
   },
   {
    "duration": 3,
    "start_time": "2022-09-04T10:50:55.034Z"
   },
   {
    "duration": 1894,
    "start_time": "2022-09-04T10:50:55.692Z"
   },
   {
    "duration": 8,
    "start_time": "2022-09-04T10:50:58.278Z"
   },
   {
    "duration": 3,
    "start_time": "2022-09-04T10:50:59.778Z"
   },
   {
    "duration": 8,
    "start_time": "2022-09-04T10:51:00.753Z"
   },
   {
    "duration": 6,
    "start_time": "2022-09-04T10:51:01.593Z"
   },
   {
    "duration": 107,
    "start_time": "2022-09-04T10:51:04.983Z"
   },
   {
    "duration": 9,
    "start_time": "2022-09-04T10:51:05.467Z"
   },
   {
    "duration": 8,
    "start_time": "2022-09-04T10:51:06.444Z"
   },
   {
    "duration": 9,
    "start_time": "2022-09-04T10:51:07.177Z"
   },
   {
    "duration": 104,
    "start_time": "2022-09-04T10:52:46.782Z"
   },
   {
    "duration": 101,
    "start_time": "2022-09-04T10:53:31.937Z"
   },
   {
    "duration": 9,
    "start_time": "2022-09-04T10:53:36.963Z"
   },
   {
    "duration": 6,
    "start_time": "2022-09-04T10:53:38.447Z"
   },
   {
    "duration": 7,
    "start_time": "2022-09-04T10:53:51.539Z"
   },
   {
    "duration": 8,
    "start_time": "2022-09-04T10:57:37.633Z"
   },
   {
    "duration": 8,
    "start_time": "2022-09-04T10:57:38.056Z"
   },
   {
    "duration": 5,
    "start_time": "2022-09-04T10:57:38.584Z"
   },
   {
    "duration": 9,
    "start_time": "2022-09-04T10:57:41.539Z"
   },
   {
    "duration": 116,
    "start_time": "2022-09-04T10:59:33.023Z"
   },
   {
    "duration": 109,
    "start_time": "2022-09-04T10:59:40.051Z"
   },
   {
    "duration": 42,
    "start_time": "2022-09-04T11:06:23.995Z"
   },
   {
    "duration": 38,
    "start_time": "2022-09-04T11:06:37.837Z"
   },
   {
    "duration": 7,
    "start_time": "2022-09-04T11:07:08.551Z"
   },
   {
    "duration": 20,
    "start_time": "2022-09-04T11:07:10.284Z"
   },
   {
    "duration": 7,
    "start_time": "2022-09-04T11:07:15.962Z"
   },
   {
    "duration": 8,
    "start_time": "2022-09-04T11:07:16.302Z"
   },
   {
    "duration": 7,
    "start_time": "2022-09-04T11:07:16.655Z"
   },
   {
    "duration": 136,
    "start_time": "2022-09-04T11:07:25.956Z"
   },
   {
    "duration": 40,
    "start_time": "2022-09-04T11:07:55.055Z"
   },
   {
    "duration": 8,
    "start_time": "2022-09-04T11:08:29.800Z"
   },
   {
    "duration": 152,
    "start_time": "2022-09-04T11:09:41.989Z"
   },
   {
    "duration": 220,
    "start_time": "2022-09-04T11:09:55.440Z"
   },
   {
    "duration": 8,
    "start_time": "2022-09-04T11:10:11.909Z"
   },
   {
    "duration": 25,
    "start_time": "2022-09-04T11:16:37.389Z"
   },
   {
    "duration": 69,
    "start_time": "2022-09-04T11:20:37.842Z"
   },
   {
    "duration": 7,
    "start_time": "2022-09-04T11:20:43.947Z"
   },
   {
    "duration": 4,
    "start_time": "2022-09-04T11:20:55.947Z"
   },
   {
    "duration": 5,
    "start_time": "2022-09-04T11:21:09.132Z"
   },
   {
    "duration": 9,
    "start_time": "2022-09-04T11:21:14.757Z"
   },
   {
    "duration": 5,
    "start_time": "2022-09-04T11:21:21.448Z"
   },
   {
    "duration": 8,
    "start_time": "2022-09-04T11:21:54.384Z"
   },
   {
    "duration": 106,
    "start_time": "2022-09-04T11:22:42.400Z"
   },
   {
    "duration": 97,
    "start_time": "2022-09-04T11:22:50.302Z"
   },
   {
    "duration": 8,
    "start_time": "2022-09-04T11:23:13.235Z"
   },
   {
    "duration": 9,
    "start_time": "2022-09-04T11:23:37.878Z"
   },
   {
    "duration": 9,
    "start_time": "2022-09-04T11:23:45.447Z"
   },
   {
    "duration": 102,
    "start_time": "2022-09-04T11:24:14.241Z"
   },
   {
    "duration": 99,
    "start_time": "2022-09-04T11:24:23.091Z"
   },
   {
    "duration": 119,
    "start_time": "2022-09-04T11:24:36.068Z"
   },
   {
    "duration": 107,
    "start_time": "2022-09-04T11:24:41.811Z"
   },
   {
    "duration": 121,
    "start_time": "2022-09-04T11:31:52.653Z"
   },
   {
    "duration": 108,
    "start_time": "2022-09-04T11:31:57.140Z"
   },
   {
    "duration": 117,
    "start_time": "2022-09-04T11:32:03.971Z"
   },
   {
    "duration": 45,
    "start_time": "2022-09-04T11:32:53.403Z"
   },
   {
    "duration": 34,
    "start_time": "2022-09-04T11:33:08.913Z"
   },
   {
    "duration": 41,
    "start_time": "2022-09-04T11:33:33.356Z"
   },
   {
    "duration": 53,
    "start_time": "2022-09-04T11:33:55.463Z"
   },
   {
    "duration": 33,
    "start_time": "2022-09-04T11:34:09.499Z"
   },
   {
    "duration": 43,
    "start_time": "2022-09-04T11:34:19.900Z"
   },
   {
    "duration": 42,
    "start_time": "2022-09-04T11:34:31.497Z"
   },
   {
    "duration": 36,
    "start_time": "2022-09-04T11:34:38.499Z"
   },
   {
    "duration": 47,
    "start_time": "2022-09-04T11:34:48.811Z"
   },
   {
    "duration": 69,
    "start_time": "2022-09-04T11:35:03.983Z"
   },
   {
    "duration": 10,
    "start_time": "2022-09-04T11:35:16.473Z"
   },
   {
    "duration": 9,
    "start_time": "2022-09-04T11:35:46.953Z"
   },
   {
    "duration": 10,
    "start_time": "2022-09-04T11:35:56.557Z"
   },
   {
    "duration": 4,
    "start_time": "2022-09-04T11:36:04.512Z"
   },
   {
    "duration": 9,
    "start_time": "2022-09-04T11:36:36.145Z"
   },
   {
    "duration": 124,
    "start_time": "2022-09-04T11:36:58.818Z"
   },
   {
    "duration": 137,
    "start_time": "2022-09-04T11:39:08.777Z"
   },
   {
    "duration": 103,
    "start_time": "2022-09-04T11:39:31.251Z"
   },
   {
    "duration": 105,
    "start_time": "2022-09-04T11:39:39.199Z"
   },
   {
    "duration": 50,
    "start_time": "2022-09-04T11:40:59.909Z"
   },
   {
    "duration": 66,
    "start_time": "2022-09-04T11:41:23.217Z"
   },
   {
    "duration": 38,
    "start_time": "2022-09-04T11:41:31.491Z"
   },
   {
    "duration": 45,
    "start_time": "2022-09-04T11:42:48.178Z"
   },
   {
    "duration": 41,
    "start_time": "2022-09-04T11:42:51.897Z"
   },
   {
    "duration": 52,
    "start_time": "2022-09-04T11:43:04.502Z"
   },
   {
    "duration": 80,
    "start_time": "2022-09-04T11:43:12.858Z"
   },
   {
    "duration": 170,
    "start_time": "2022-09-04T11:43:31.290Z"
   },
   {
    "duration": 38,
    "start_time": "2022-09-04T11:43:38.200Z"
   },
   {
    "duration": 67,
    "start_time": "2022-09-04T11:43:50.290Z"
   },
   {
    "duration": 36,
    "start_time": "2022-09-04T11:43:55.544Z"
   },
   {
    "duration": 130,
    "start_time": "2022-09-04T11:44:14.028Z"
   },
   {
    "duration": 124,
    "start_time": "2022-09-04T11:44:19.059Z"
   },
   {
    "duration": 44,
    "start_time": "2022-09-04T11:44:37.104Z"
   },
   {
    "duration": 39,
    "start_time": "2022-09-04T11:44:41.547Z"
   },
   {
    "duration": 36,
    "start_time": "2022-09-04T11:44:52.669Z"
   },
   {
    "duration": 50,
    "start_time": "2022-09-04T11:44:56.070Z"
   },
   {
    "duration": 42,
    "start_time": "2022-09-04T11:45:05.710Z"
   },
   {
    "duration": 56,
    "start_time": "2022-09-04T11:45:57.508Z"
   },
   {
    "duration": 42,
    "start_time": "2022-09-04T11:46:02.777Z"
   },
   {
    "duration": 59,
    "start_time": "2022-09-04T11:46:15.647Z"
   },
   {
    "duration": 184,
    "start_time": "2022-09-04T11:46:35.146Z"
   },
   {
    "duration": 180,
    "start_time": "2022-09-04T11:46:48.276Z"
   },
   {
    "duration": 317,
    "start_time": "2022-09-04T11:46:52.209Z"
   },
   {
    "duration": 67,
    "start_time": "2022-09-04T11:47:04.857Z"
   },
   {
    "duration": 206,
    "start_time": "2022-09-04T11:47:08.457Z"
   },
   {
    "duration": 44,
    "start_time": "2022-09-04T11:48:17.381Z"
   },
   {
    "duration": 37,
    "start_time": "2022-09-04T11:48:23.461Z"
   },
   {
    "duration": 44,
    "start_time": "2022-09-04T11:48:40.988Z"
   },
   {
    "duration": 10,
    "start_time": "2022-09-04T11:48:48.556Z"
   },
   {
    "duration": 6,
    "start_time": "2022-09-04T11:48:53.617Z"
   },
   {
    "duration": 20,
    "start_time": "2022-09-04T11:48:54.269Z"
   },
   {
    "duration": 131,
    "start_time": "2022-09-04T11:48:54.977Z"
   },
   {
    "duration": 5,
    "start_time": "2022-09-04T11:48:57.503Z"
   },
   {
    "duration": 34,
    "start_time": "2022-09-04T11:48:58.181Z"
   },
   {
    "duration": 135,
    "start_time": "2022-09-04T11:52:27.667Z"
   },
   {
    "duration": 94,
    "start_time": "2022-09-04T11:52:33.479Z"
   },
   {
    "duration": 144,
    "start_time": "2022-09-04T11:52:39.958Z"
   },
   {
    "duration": 166,
    "start_time": "2022-09-04T11:52:46.555Z"
   },
   {
    "duration": 141,
    "start_time": "2022-09-04T11:52:54.390Z"
   },
   {
    "duration": 180,
    "start_time": "2022-09-04T11:53:02.354Z"
   },
   {
    "duration": 186,
    "start_time": "2022-09-04T11:53:07.555Z"
   },
   {
    "duration": 159,
    "start_time": "2022-09-04T11:53:23.843Z"
   },
   {
    "duration": 166,
    "start_time": "2022-09-04T11:53:28.439Z"
   },
   {
    "duration": 219,
    "start_time": "2022-09-04T12:00:41.915Z"
   },
   {
    "duration": 189,
    "start_time": "2022-09-04T12:00:51.458Z"
   },
   {
    "duration": 345,
    "start_time": "2022-09-04T12:01:01.862Z"
   },
   {
    "duration": 171,
    "start_time": "2022-09-04T12:01:28.802Z"
   },
   {
    "duration": 185,
    "start_time": "2022-09-04T12:01:34.446Z"
   },
   {
    "duration": 201,
    "start_time": "2022-09-04T12:01:37.514Z"
   },
   {
    "duration": 190,
    "start_time": "2022-09-04T12:01:44.858Z"
   },
   {
    "duration": 730,
    "start_time": "2022-09-04T12:01:51.814Z"
   },
   {
    "duration": 805,
    "start_time": "2022-09-04T12:02:00.779Z"
   },
   {
    "duration": 5,
    "start_time": "2022-09-04T12:02:43.185Z"
   },
   {
    "duration": 252,
    "start_time": "2022-09-04T12:03:04.992Z"
   },
   {
    "duration": 224,
    "start_time": "2022-09-04T12:03:13.899Z"
   },
   {
    "duration": 201,
    "start_time": "2022-09-04T12:03:16.671Z"
   },
   {
    "duration": 206,
    "start_time": "2022-09-04T12:03:20.383Z"
   },
   {
    "duration": 231,
    "start_time": "2022-09-04T12:03:29.283Z"
   },
   {
    "duration": 201,
    "start_time": "2022-09-04T12:29:23.648Z"
   },
   {
    "duration": 251,
    "start_time": "2022-09-04T12:29:41.208Z"
   },
   {
    "duration": 138,
    "start_time": "2022-09-04T12:30:41.182Z"
   },
   {
    "duration": 103,
    "start_time": "2022-09-04T12:31:04.777Z"
   },
   {
    "duration": 9,
    "start_time": "2022-09-04T12:31:20.010Z"
   },
   {
    "duration": 130,
    "start_time": "2022-09-04T12:31:50.302Z"
   },
   {
    "duration": 442,
    "start_time": "2022-09-04T12:32:55.877Z"
   },
   {
    "duration": 188,
    "start_time": "2022-09-04T12:32:58.173Z"
   },
   {
    "duration": 202,
    "start_time": "2022-09-04T12:32:59.014Z"
   },
   {
    "duration": 167,
    "start_time": "2022-09-04T12:32:59.779Z"
   },
   {
    "duration": 200,
    "start_time": "2022-09-04T12:33:00.871Z"
   },
   {
    "duration": 202,
    "start_time": "2022-09-04T12:33:02.022Z"
   },
   {
    "duration": 207,
    "start_time": "2022-09-04T12:33:04.699Z"
   },
   {
    "duration": 240,
    "start_time": "2022-09-04T12:33:06.149Z"
   },
   {
    "duration": 209,
    "start_time": "2022-09-04T12:33:08.093Z"
   },
   {
    "duration": 195,
    "start_time": "2022-09-04T12:35:12.008Z"
   },
   {
    "duration": 271,
    "start_time": "2022-09-04T12:35:29.581Z"
   },
   {
    "duration": 4,
    "start_time": "2022-09-04T12:36:29.619Z"
   },
   {
    "duration": 4,
    "start_time": "2022-09-04T12:36:30.341Z"
   },
   {
    "duration": 6,
    "start_time": "2022-09-04T12:37:16.408Z"
   },
   {
    "duration": 5,
    "start_time": "2022-09-04T12:37:17.145Z"
   },
   {
    "duration": 372,
    "start_time": "2022-09-04T12:42:47.535Z"
   },
   {
    "duration": 7,
    "start_time": "2022-09-04T12:50:50.535Z"
   },
   {
    "duration": 4,
    "start_time": "2022-09-04T12:50:55.323Z"
   },
   {
    "duration": 6,
    "start_time": "2022-09-04T12:55:58.465Z"
   },
   {
    "duration": 12,
    "start_time": "2022-09-04T12:56:08.618Z"
   },
   {
    "duration": 18,
    "start_time": "2022-09-04T12:57:03.100Z"
   },
   {
    "duration": 9,
    "start_time": "2022-09-04T12:57:28.730Z"
   },
   {
    "duration": 7,
    "start_time": "2022-09-04T12:57:36.733Z"
   },
   {
    "duration": 20,
    "start_time": "2022-09-04T12:58:14.980Z"
   },
   {
    "duration": 4,
    "start_time": "2022-09-04T13:03:35.420Z"
   },
   {
    "duration": 27,
    "start_time": "2022-09-04T13:03:36.512Z"
   },
   {
    "duration": 13,
    "start_time": "2022-09-04T13:07:32.599Z"
   },
   {
    "duration": 163,
    "start_time": "2022-09-04T13:08:36.948Z"
   },
   {
    "duration": 8,
    "start_time": "2022-09-04T13:09:01.101Z"
   },
   {
    "duration": 162,
    "start_time": "2022-09-04T13:09:07.699Z"
   },
   {
    "duration": 157,
    "start_time": "2022-09-04T13:10:32.575Z"
   },
   {
    "duration": 214,
    "start_time": "2022-09-04T13:10:36.267Z"
   },
   {
    "duration": 180,
    "start_time": "2022-09-04T13:10:45.903Z"
   },
   {
    "duration": 138,
    "start_time": "2022-09-04T13:10:52.702Z"
   },
   {
    "duration": 148,
    "start_time": "2022-09-04T13:10:55.503Z"
   },
   {
    "duration": 168,
    "start_time": "2022-09-04T13:10:58.001Z"
   },
   {
    "duration": 156,
    "start_time": "2022-09-04T13:11:00.057Z"
   },
   {
    "duration": 408,
    "start_time": "2022-09-04T13:11:01.342Z"
   },
   {
    "duration": 8,
    "start_time": "2022-09-04T13:13:49.232Z"
   },
   {
    "duration": 19,
    "start_time": "2022-09-04T13:13:54.386Z"
   },
   {
    "duration": 11,
    "start_time": "2022-09-04T13:14:16.612Z"
   },
   {
    "duration": 16,
    "start_time": "2022-09-04T13:14:20.456Z"
   },
   {
    "duration": 9,
    "start_time": "2022-09-04T13:14:41.481Z"
   },
   {
    "duration": 28,
    "start_time": "2022-09-04T13:15:08.538Z"
   },
   {
    "duration": 7,
    "start_time": "2022-09-04T13:15:24.945Z"
   },
   {
    "duration": 9,
    "start_time": "2022-09-04T13:15:44.064Z"
   },
   {
    "duration": 9,
    "start_time": "2022-09-04T13:15:50.056Z"
   },
   {
    "duration": 7,
    "start_time": "2022-09-04T13:15:58.834Z"
   },
   {
    "duration": 30,
    "start_time": "2022-09-04T13:17:02.786Z"
   },
   {
    "duration": 8,
    "start_time": "2022-09-04T13:17:30.771Z"
   },
   {
    "duration": 4,
    "start_time": "2022-09-04T13:17:39.157Z"
   },
   {
    "duration": 25,
    "start_time": "2022-09-04T13:18:05.784Z"
   },
   {
    "duration": 13,
    "start_time": "2022-09-04T13:18:30.699Z"
   },
   {
    "duration": 15,
    "start_time": "2022-09-04T13:18:46.942Z"
   },
   {
    "duration": 9,
    "start_time": "2022-09-04T13:18:51.539Z"
   },
   {
    "duration": 16,
    "start_time": "2022-09-04T13:25:57.619Z"
   },
   {
    "duration": 8,
    "start_time": "2022-09-04T13:26:06.899Z"
   },
   {
    "duration": 21,
    "start_time": "2022-09-04T13:26:28.420Z"
   },
   {
    "duration": 16,
    "start_time": "2022-09-04T13:26:41.176Z"
   },
   {
    "duration": 27,
    "start_time": "2022-09-04T13:26:59.379Z"
   },
   {
    "duration": 7,
    "start_time": "2022-09-04T13:27:02.858Z"
   },
   {
    "duration": 16,
    "start_time": "2022-09-04T13:27:28.652Z"
   },
   {
    "duration": 8,
    "start_time": "2022-09-04T13:27:29.304Z"
   },
   {
    "duration": 9,
    "start_time": "2022-09-04T13:28:45.399Z"
   },
   {
    "duration": 7,
    "start_time": "2022-09-04T13:30:33.136Z"
   },
   {
    "duration": 8,
    "start_time": "2022-09-04T13:30:43.099Z"
   },
   {
    "duration": 20,
    "start_time": "2022-09-04T13:30:51.977Z"
   },
   {
    "duration": 8,
    "start_time": "2022-09-04T13:31:44.310Z"
   },
   {
    "duration": 5,
    "start_time": "2022-09-04T13:32:00.396Z"
   },
   {
    "duration": 4,
    "start_time": "2022-09-04T13:32:52.020Z"
   },
   {
    "duration": 5,
    "start_time": "2022-09-04T13:33:08.573Z"
   },
   {
    "duration": 10,
    "start_time": "2022-09-04T13:34:22.862Z"
   },
   {
    "duration": 9,
    "start_time": "2022-09-04T13:34:46.703Z"
   },
   {
    "duration": 3,
    "start_time": "2022-09-04T13:35:21.039Z"
   },
   {
    "duration": 8,
    "start_time": "2022-09-04T13:35:24.520Z"
   },
   {
    "duration": 13,
    "start_time": "2022-09-04T13:36:23.620Z"
   },
   {
    "duration": 5,
    "start_time": "2022-09-04T13:37:42.463Z"
   },
   {
    "duration": 13,
    "start_time": "2022-09-04T13:37:44.047Z"
   },
   {
    "duration": 12,
    "start_time": "2022-09-04T13:37:56.808Z"
   },
   {
    "duration": 15,
    "start_time": "2022-09-04T13:38:10.444Z"
   },
   {
    "duration": 5,
    "start_time": "2022-09-04T13:38:45.481Z"
   },
   {
    "duration": 50,
    "start_time": "2022-09-04T13:39:39.208Z"
   },
   {
    "duration": 6,
    "start_time": "2022-09-04T13:39:43.441Z"
   },
   {
    "duration": 4,
    "start_time": "2022-09-04T13:40:16.627Z"
   },
   {
    "duration": 14,
    "start_time": "2022-09-04T13:40:24.615Z"
   },
   {
    "duration": 8,
    "start_time": "2022-09-04T13:40:51.407Z"
   },
   {
    "duration": 21,
    "start_time": "2022-09-04T13:40:52.293Z"
   },
   {
    "duration": 4,
    "start_time": "2022-09-04T13:40:54.504Z"
   },
   {
    "duration": 18,
    "start_time": "2022-09-04T13:41:03.603Z"
   },
   {
    "duration": 12,
    "start_time": "2022-09-04T13:44:56.501Z"
   },
   {
    "duration": 53,
    "start_time": "2022-09-04T13:45:36.409Z"
   },
   {
    "duration": 15,
    "start_time": "2022-09-04T13:46:55.466Z"
   },
   {
    "duration": 9,
    "start_time": "2022-09-04T13:47:04.740Z"
   },
   {
    "duration": 24,
    "start_time": "2022-09-04T13:47:34.135Z"
   },
   {
    "duration": 17,
    "start_time": "2022-09-04T13:48:35.846Z"
   },
   {
    "duration": 19,
    "start_time": "2022-09-04T13:48:48.439Z"
   },
   {
    "duration": 8,
    "start_time": "2022-09-04T13:49:53.885Z"
   },
   {
    "duration": 5,
    "start_time": "2022-09-04T13:50:00.977Z"
   },
   {
    "duration": 6,
    "start_time": "2022-09-04T13:50:10.857Z"
   },
   {
    "duration": 8,
    "start_time": "2022-09-04T13:50:52.045Z"
   },
   {
    "duration": 5,
    "start_time": "2022-09-04T13:51:02.501Z"
   },
   {
    "duration": 22,
    "start_time": "2022-09-04T13:57:15.417Z"
   },
   {
    "duration": 26,
    "start_time": "2022-09-04T13:58:58.373Z"
   },
   {
    "duration": 25,
    "start_time": "2022-09-04T14:00:24.178Z"
   },
   {
    "duration": 5,
    "start_time": "2022-09-04T14:00:56.873Z"
   },
   {
    "duration": 4,
    "start_time": "2022-09-04T14:01:08.338Z"
   },
   {
    "duration": 4,
    "start_time": "2022-09-04T14:01:18.010Z"
   },
   {
    "duration": 21,
    "start_time": "2022-09-04T14:03:08.943Z"
   },
   {
    "duration": 4,
    "start_time": "2022-09-04T14:03:11.480Z"
   },
   {
    "duration": 5,
    "start_time": "2022-09-04T14:03:12.302Z"
   },
   {
    "duration": 9,
    "start_time": "2022-09-04T14:10:54.123Z"
   },
   {
    "duration": 4,
    "start_time": "2022-09-04T14:13:38.500Z"
   },
   {
    "duration": 18,
    "start_time": "2022-09-04T14:13:39.055Z"
   },
   {
    "duration": 187,
    "start_time": "2022-09-04T14:28:56.620Z"
   },
   {
    "duration": 186,
    "start_time": "2022-09-04T14:29:15.984Z"
   },
   {
    "duration": 165,
    "start_time": "2022-09-04T14:29:33.738Z"
   },
   {
    "duration": 148,
    "start_time": "2022-09-04T14:30:17.379Z"
   },
   {
    "duration": 183,
    "start_time": "2022-09-04T14:30:40.216Z"
   },
   {
    "duration": 181,
    "start_time": "2022-09-04T14:30:56.263Z"
   },
   {
    "duration": 164,
    "start_time": "2022-09-04T14:31:14.083Z"
   },
   {
    "duration": 149,
    "start_time": "2022-09-04T14:31:24.615Z"
   },
   {
    "duration": 162,
    "start_time": "2022-09-04T14:31:47.692Z"
   },
   {
    "duration": 5,
    "start_time": "2022-09-04T14:33:45.011Z"
   },
   {
    "duration": 24,
    "start_time": "2022-09-04T14:33:46.251Z"
   },
   {
    "duration": 194,
    "start_time": "2022-09-04T14:35:09.025Z"
   },
   {
    "duration": 205,
    "start_time": "2022-09-04T14:35:18.704Z"
   },
   {
    "duration": 149,
    "start_time": "2022-09-04T14:35:27.129Z"
   },
   {
    "duration": 2,
    "start_time": "2022-09-04T14:37:42.282Z"
   },
   {
    "duration": 700,
    "start_time": "2022-09-04T15:52:45.179Z"
   },
   {
    "duration": 106,
    "start_time": "2022-09-04T15:52:45.881Z"
   },
   {
    "duration": 27,
    "start_time": "2022-09-04T15:52:45.989Z"
   },
   {
    "duration": 87,
    "start_time": "2022-09-04T15:52:46.018Z"
   },
   {
    "duration": 28,
    "start_time": "2022-09-04T15:52:46.106Z"
   },
   {
    "duration": 10,
    "start_time": "2022-09-04T15:52:46.135Z"
   },
   {
    "duration": 2179,
    "start_time": "2022-09-04T15:52:46.147Z"
   },
   {
    "duration": 9,
    "start_time": "2022-09-04T15:52:48.328Z"
   },
   {
    "duration": 8,
    "start_time": "2022-09-04T15:52:48.339Z"
   },
   {
    "duration": 10,
    "start_time": "2022-09-04T15:52:48.350Z"
   },
   {
    "duration": 11,
    "start_time": "2022-09-04T15:52:48.361Z"
   },
   {
    "duration": 140,
    "start_time": "2022-09-04T15:52:48.374Z"
   },
   {
    "duration": 12,
    "start_time": "2022-09-04T15:52:48.516Z"
   },
   {
    "duration": 7,
    "start_time": "2022-09-04T15:52:48.530Z"
   },
   {
    "duration": 11,
    "start_time": "2022-09-04T15:52:48.538Z"
   },
   {
    "duration": 143,
    "start_time": "2022-09-04T15:52:48.550Z"
   },
   {
    "duration": 22,
    "start_time": "2022-09-04T15:52:48.696Z"
   },
   {
    "duration": 12,
    "start_time": "2022-09-04T15:52:48.722Z"
   },
   {
    "duration": 8,
    "start_time": "2022-09-04T15:52:48.736Z"
   },
   {
    "duration": 9,
    "start_time": "2022-09-04T15:52:48.746Z"
   },
   {
    "duration": 18,
    "start_time": "2022-09-04T15:52:48.756Z"
   },
   {
    "duration": 110,
    "start_time": "2022-09-04T15:52:48.776Z"
   },
   {
    "duration": 22,
    "start_time": "2022-09-04T15:52:48.896Z"
   },
   {
    "duration": 12,
    "start_time": "2022-09-04T15:52:48.920Z"
   },
   {
    "duration": 27,
    "start_time": "2022-09-04T15:52:48.934Z"
   },
   {
    "duration": 7,
    "start_time": "2022-09-04T15:52:48.962Z"
   },
   {
    "duration": 145,
    "start_time": "2022-09-04T15:52:48.970Z"
   },
   {
    "duration": 9,
    "start_time": "2022-09-04T15:52:49.123Z"
   },
   {
    "duration": 8,
    "start_time": "2022-09-04T15:52:49.134Z"
   },
   {
    "duration": 12,
    "start_time": "2022-09-04T15:52:49.144Z"
   },
   {
    "duration": 154,
    "start_time": "2022-09-04T15:52:49.158Z"
   },
   {
    "duration": 224,
    "start_time": "2022-09-04T15:52:49.317Z"
   },
   {
    "duration": 210,
    "start_time": "2022-09-04T15:52:49.543Z"
   },
   {
    "duration": 9,
    "start_time": "2022-09-04T15:52:49.755Z"
   },
   {
    "duration": 12,
    "start_time": "2022-09-04T15:52:49.766Z"
   },
   {
    "duration": 38,
    "start_time": "2022-09-04T15:52:49.780Z"
   },
   {
    "duration": 159,
    "start_time": "2022-09-04T15:52:49.820Z"
   },
   {
    "duration": 5,
    "start_time": "2022-09-04T15:52:49.981Z"
   },
   {
    "duration": 50,
    "start_time": "2022-09-04T15:52:49.988Z"
   },
   {
    "duration": 202,
    "start_time": "2022-09-04T15:52:50.040Z"
   },
   {
    "duration": 220,
    "start_time": "2022-09-04T15:52:50.244Z"
   },
   {
    "duration": 222,
    "start_time": "2022-09-04T15:52:50.466Z"
   },
   {
    "duration": 171,
    "start_time": "2022-09-04T15:52:50.694Z"
   },
   {
    "duration": 216,
    "start_time": "2022-09-04T15:52:50.866Z"
   },
   {
    "duration": 231,
    "start_time": "2022-09-04T15:52:51.083Z"
   },
   {
    "duration": 216,
    "start_time": "2022-09-04T15:52:51.315Z"
   },
   {
    "duration": 192,
    "start_time": "2022-09-04T15:52:51.533Z"
   },
   {
    "duration": 241,
    "start_time": "2022-09-04T15:52:51.727Z"
   },
   {
    "duration": 357,
    "start_time": "2022-09-04T15:52:51.971Z"
   },
   {
    "duration": 226,
    "start_time": "2022-09-04T15:52:52.329Z"
   },
   {
    "duration": 212,
    "start_time": "2022-09-04T15:52:52.557Z"
   },
   {
    "duration": 235,
    "start_time": "2022-09-04T15:52:52.771Z"
   },
   {
    "duration": 410,
    "start_time": "2022-09-04T15:52:53.008Z"
   },
   {
    "duration": 4,
    "start_time": "2022-09-04T15:52:53.421Z"
   },
   {
    "duration": 13,
    "start_time": "2022-09-04T15:52:53.427Z"
   },
   {
    "duration": 11,
    "start_time": "2022-09-04T15:52:53.442Z"
   },
   {
    "duration": 21,
    "start_time": "2022-09-04T15:52:53.455Z"
   },
   {
    "duration": 195,
    "start_time": "2022-09-04T15:52:53.478Z"
   },
   {
    "duration": 193,
    "start_time": "2022-09-04T15:52:53.675Z"
   },
   {
    "duration": 220,
    "start_time": "2022-09-04T15:52:53.870Z"
   },
   {
    "duration": 179,
    "start_time": "2022-09-04T15:52:54.101Z"
   },
   {
    "duration": 182,
    "start_time": "2022-09-04T15:52:54.282Z"
   },
   {
    "duration": 188,
    "start_time": "2022-09-04T15:52:54.466Z"
   },
   {
    "duration": 179,
    "start_time": "2022-09-04T15:52:54.655Z"
   },
   {
    "duration": 189,
    "start_time": "2022-09-04T15:52:54.835Z"
   },
   {
    "duration": 303,
    "start_time": "2022-09-04T15:52:55.026Z"
   },
   {
    "duration": 23,
    "start_time": "2022-09-04T15:52:55.331Z"
   },
   {
    "duration": 5,
    "start_time": "2022-09-04T15:52:55.356Z"
   },
   {
    "duration": 9,
    "start_time": "2022-09-04T15:52:55.363Z"
   },
   {
    "duration": 19,
    "start_time": "2022-09-04T15:52:55.392Z"
   },
   {
    "duration": 18,
    "start_time": "2022-09-04T15:52:55.413Z"
   },
   {
    "duration": 20,
    "start_time": "2022-09-04T15:52:55.433Z"
   },
   {
    "duration": 15,
    "start_time": "2022-09-04T15:55:45.675Z"
   },
   {
    "duration": 23,
    "start_time": "2022-09-04T16:02:11.009Z"
   },
   {
    "duration": 14,
    "start_time": "2022-09-04T16:03:23.254Z"
   },
   {
    "duration": 704,
    "start_time": "2022-09-04T16:03:28.237Z"
   },
   {
    "duration": 113,
    "start_time": "2022-09-04T16:03:28.943Z"
   },
   {
    "duration": 18,
    "start_time": "2022-09-04T16:03:29.058Z"
   },
   {
    "duration": 97,
    "start_time": "2022-09-04T16:03:29.079Z"
   },
   {
    "duration": 39,
    "start_time": "2022-09-04T16:03:29.179Z"
   },
   {
    "duration": 4,
    "start_time": "2022-09-04T16:03:29.220Z"
   },
   {
    "duration": 2243,
    "start_time": "2022-09-04T16:03:29.225Z"
   },
   {
    "duration": 9,
    "start_time": "2022-09-04T16:03:31.469Z"
   },
   {
    "duration": 22,
    "start_time": "2022-09-04T16:03:31.480Z"
   },
   {
    "duration": 27,
    "start_time": "2022-09-04T16:03:31.503Z"
   },
   {
    "duration": 11,
    "start_time": "2022-09-04T16:03:31.531Z"
   },
   {
    "duration": 121,
    "start_time": "2022-09-04T16:03:31.544Z"
   },
   {
    "duration": 11,
    "start_time": "2022-09-04T16:03:31.667Z"
   },
   {
    "duration": 11,
    "start_time": "2022-09-04T16:03:31.681Z"
   },
   {
    "duration": 42,
    "start_time": "2022-09-04T16:03:31.693Z"
   },
   {
    "duration": 124,
    "start_time": "2022-09-04T16:03:31.737Z"
   },
   {
    "duration": 13,
    "start_time": "2022-09-04T16:03:31.863Z"
   },
   {
    "duration": 24,
    "start_time": "2022-09-04T16:03:31.879Z"
   },
   {
    "duration": 31,
    "start_time": "2022-09-04T16:03:31.905Z"
   },
   {
    "duration": 26,
    "start_time": "2022-09-04T16:03:31.938Z"
   },
   {
    "duration": 38,
    "start_time": "2022-09-04T16:03:31.965Z"
   },
   {
    "duration": 154,
    "start_time": "2022-09-04T16:03:32.012Z"
   },
   {
    "duration": 10,
    "start_time": "2022-09-04T16:03:32.169Z"
   },
   {
    "duration": 46,
    "start_time": "2022-09-04T16:03:32.181Z"
   },
   {
    "duration": 41,
    "start_time": "2022-09-04T16:03:32.228Z"
   },
   {
    "duration": 8,
    "start_time": "2022-09-04T16:03:32.270Z"
   },
   {
    "duration": 145,
    "start_time": "2022-09-04T16:03:32.279Z"
   },
   {
    "duration": 9,
    "start_time": "2022-09-04T16:03:32.425Z"
   },
   {
    "duration": 8,
    "start_time": "2022-09-04T16:03:32.436Z"
   },
   {
    "duration": 22,
    "start_time": "2022-09-04T16:03:32.446Z"
   },
   {
    "duration": 140,
    "start_time": "2022-09-04T16:03:32.470Z"
   },
   {
    "duration": 222,
    "start_time": "2022-09-04T16:03:32.618Z"
   },
   {
    "duration": 216,
    "start_time": "2022-09-04T16:03:32.841Z"
   },
   {
    "duration": 14,
    "start_time": "2022-09-04T16:03:33.059Z"
   },
   {
    "duration": 18,
    "start_time": "2022-09-04T16:03:33.075Z"
   },
   {
    "duration": 23,
    "start_time": "2022-09-04T16:03:33.102Z"
   },
   {
    "duration": 161,
    "start_time": "2022-09-04T16:03:33.127Z"
   },
   {
    "duration": 8,
    "start_time": "2022-09-04T16:03:33.292Z"
   },
   {
    "duration": 60,
    "start_time": "2022-09-04T16:03:33.311Z"
   },
   {
    "duration": 269,
    "start_time": "2022-09-04T16:03:33.373Z"
   },
   {
    "duration": 224,
    "start_time": "2022-09-04T16:03:33.647Z"
   },
   {
    "duration": 224,
    "start_time": "2022-09-04T16:03:33.873Z"
   },
   {
    "duration": 178,
    "start_time": "2022-09-04T16:03:34.099Z"
   },
   {
    "duration": 225,
    "start_time": "2022-09-04T16:03:34.278Z"
   },
   {
    "duration": 215,
    "start_time": "2022-09-04T16:03:34.508Z"
   },
   {
    "duration": 230,
    "start_time": "2022-09-04T16:03:34.725Z"
   },
   {
    "duration": 189,
    "start_time": "2022-09-04T16:03:34.957Z"
   },
   {
    "duration": 233,
    "start_time": "2022-09-04T16:03:35.148Z"
   },
   {
    "duration": 335,
    "start_time": "2022-09-04T16:03:35.383Z"
   },
   {
    "duration": 209,
    "start_time": "2022-09-04T16:03:35.719Z"
   },
   {
    "duration": 227,
    "start_time": "2022-09-04T16:03:35.929Z"
   },
   {
    "duration": 253,
    "start_time": "2022-09-04T16:03:36.158Z"
   },
   {
    "duration": 998,
    "start_time": "2022-09-04T16:03:36.412Z"
   },
   {
    "duration": 8,
    "start_time": "2022-09-04T16:03:37.414Z"
   },
   {
    "duration": 24,
    "start_time": "2022-09-04T16:03:37.423Z"
   },
   {
    "duration": 50,
    "start_time": "2022-09-04T16:03:37.449Z"
   },
   {
    "duration": 58,
    "start_time": "2022-09-04T16:03:37.503Z"
   },
   {
    "duration": 406,
    "start_time": "2022-09-04T16:03:37.592Z"
   },
   {
    "duration": 398,
    "start_time": "2022-09-04T16:03:38.008Z"
   },
   {
    "duration": 338,
    "start_time": "2022-09-04T16:03:38.414Z"
   },
   {
    "duration": 179,
    "start_time": "2022-09-04T16:03:38.754Z"
   },
   {
    "duration": 188,
    "start_time": "2022-09-04T16:03:38.935Z"
   },
   {
    "duration": 189,
    "start_time": "2022-09-04T16:03:39.125Z"
   },
   {
    "duration": 213,
    "start_time": "2022-09-04T16:03:39.316Z"
   },
   {
    "duration": 177,
    "start_time": "2022-09-04T16:03:39.531Z"
   },
   {
    "duration": 317,
    "start_time": "2022-09-04T16:03:39.709Z"
   },
   {
    "duration": 29,
    "start_time": "2022-09-04T16:03:40.028Z"
   },
   {
    "duration": 5,
    "start_time": "2022-09-04T16:03:40.059Z"
   },
   {
    "duration": 16,
    "start_time": "2022-09-04T16:03:40.065Z"
   },
   {
    "duration": 41,
    "start_time": "2022-09-04T16:03:40.095Z"
   },
   {
    "duration": 14,
    "start_time": "2022-09-04T16:03:40.138Z"
   },
   {
    "duration": 18,
    "start_time": "2022-09-04T16:03:40.154Z"
   },
   {
    "duration": 824,
    "start_time": "2022-09-05T14:30:52.801Z"
   },
   {
    "duration": 147,
    "start_time": "2022-09-05T14:30:53.679Z"
   },
   {
    "duration": 17,
    "start_time": "2022-09-05T14:30:58.122Z"
   },
   {
    "duration": 80,
    "start_time": "2022-09-05T14:31:00.317Z"
   },
   {
    "duration": 27,
    "start_time": "2022-09-05T14:31:02.377Z"
   },
   {
    "duration": 3,
    "start_time": "2022-09-05T14:31:05.242Z"
   },
   {
    "duration": 2192,
    "start_time": "2022-09-05T14:31:06.417Z"
   },
   {
    "duration": 75,
    "start_time": "2022-09-05T14:32:49.364Z"
   },
   {
    "duration": 56,
    "start_time": "2022-09-05T14:33:07.930Z"
   },
   {
    "duration": 2106,
    "start_time": "2022-09-05T14:34:07.167Z"
   },
   {
    "duration": 4,
    "start_time": "2022-09-05T14:34:34.474Z"
   },
   {
    "duration": 12,
    "start_time": "2022-09-05T14:34:36.678Z"
   },
   {
    "duration": 7,
    "start_time": "2022-09-05T14:34:38.567Z"
   },
   {
    "duration": 101,
    "start_time": "2022-09-05T14:34:51.337Z"
   },
   {
    "duration": 11,
    "start_time": "2022-09-05T14:34:52.843Z"
   },
   {
    "duration": 8,
    "start_time": "2022-09-05T14:35:16.635Z"
   },
   {
    "duration": 13,
    "start_time": "2022-09-05T14:35:19.031Z"
   },
   {
    "duration": 110,
    "start_time": "2022-09-05T14:35:29.539Z"
   },
   {
    "duration": 9,
    "start_time": "2022-09-05T14:35:39.682Z"
   },
   {
    "duration": 6,
    "start_time": "2022-09-05T14:35:40.567Z"
   },
   {
    "duration": 105,
    "start_time": "2022-09-05T14:35:58.368Z"
   },
   {
    "duration": 101,
    "start_time": "2022-09-05T14:36:05.334Z"
   },
   {
    "duration": 102,
    "start_time": "2022-09-05T14:37:59.878Z"
   },
   {
    "duration": 6,
    "start_time": "2022-09-05T14:39:07.395Z"
   },
   {
    "duration": 5,
    "start_time": "2022-09-05T14:39:16.738Z"
   },
   {
    "duration": 5,
    "start_time": "2022-09-05T14:39:20.692Z"
   },
   {
    "duration": 5,
    "start_time": "2022-09-05T14:39:25.275Z"
   },
   {
    "duration": 4,
    "start_time": "2022-09-05T14:41:18.755Z"
   },
   {
    "duration": 16,
    "start_time": "2022-09-05T14:44:15.691Z"
   },
   {
    "duration": 3,
    "start_time": "2022-09-05T14:45:09.085Z"
   },
   {
    "duration": 87,
    "start_time": "2022-09-05T14:45:09.732Z"
   },
   {
    "duration": 17,
    "start_time": "2022-09-05T14:45:10.341Z"
   },
   {
    "duration": 73,
    "start_time": "2022-09-05T14:45:13.098Z"
   },
   {
    "duration": 25,
    "start_time": "2022-09-05T14:45:15.498Z"
   },
   {
    "duration": 22,
    "start_time": "2022-09-05T14:45:20.690Z"
   },
   {
    "duration": 3,
    "start_time": "2022-09-05T14:45:21.808Z"
   },
   {
    "duration": 4,
    "start_time": "2022-09-05T14:45:22.641Z"
   },
   {
    "duration": 218,
    "start_time": "2022-09-05T14:45:22.684Z"
   },
   {
    "duration": 229,
    "start_time": "2022-09-05T14:45:27.688Z"
   },
   {
    "duration": 2,
    "start_time": "2022-09-05T14:46:50.370Z"
   },
   {
    "duration": 88,
    "start_time": "2022-09-05T14:46:50.958Z"
   },
   {
    "duration": 16,
    "start_time": "2022-09-05T14:46:51.565Z"
   },
   {
    "duration": 76,
    "start_time": "2022-09-05T14:46:53.089Z"
   },
   {
    "duration": 24,
    "start_time": "2022-09-05T14:46:54.736Z"
   },
   {
    "duration": 5,
    "start_time": "2022-09-05T14:46:55.653Z"
   },
   {
    "duration": 5,
    "start_time": "2022-09-05T14:46:56.652Z"
   },
   {
    "duration": 1971,
    "start_time": "2022-09-05T14:46:58.006Z"
   },
   {
    "duration": 9,
    "start_time": "2022-09-05T14:47:14.926Z"
   },
   {
    "duration": 15,
    "start_time": "2022-09-05T14:47:15.731Z"
   },
   {
    "duration": 4,
    "start_time": "2022-09-05T14:47:47.657Z"
   },
   {
    "duration": 8,
    "start_time": "2022-09-05T14:47:49.218Z"
   },
   {
    "duration": 6,
    "start_time": "2022-09-05T14:47:49.772Z"
   },
   {
    "duration": 96,
    "start_time": "2022-09-05T14:47:53.341Z"
   },
   {
    "duration": 26,
    "start_time": "2022-09-05T14:51:09.698Z"
   },
   {
    "duration": 25,
    "start_time": "2022-09-05T14:52:00.601Z"
   },
   {
    "duration": 26,
    "start_time": "2022-09-05T14:52:08.463Z"
   },
   {
    "duration": 41,
    "start_time": "2022-09-05T14:53:33.042Z"
   },
   {
    "duration": 4,
    "start_time": "2022-09-05T14:53:35.446Z"
   },
   {
    "duration": 8,
    "start_time": "2022-09-05T14:53:35.983Z"
   },
   {
    "duration": 6,
    "start_time": "2022-09-05T14:53:37.777Z"
   },
   {
    "duration": 113,
    "start_time": "2022-09-05T14:53:39.409Z"
   },
   {
    "duration": 10,
    "start_time": "2022-09-05T14:53:40.638Z"
   },
   {
    "duration": 6,
    "start_time": "2022-09-05T14:53:43.815Z"
   },
   {
    "duration": 11,
    "start_time": "2022-09-05T14:53:46.777Z"
   },
   {
    "duration": 103,
    "start_time": "2022-09-05T14:53:47.424Z"
   },
   {
    "duration": 8,
    "start_time": "2022-09-05T14:53:48.172Z"
   },
   {
    "duration": 6,
    "start_time": "2022-09-05T14:53:48.500Z"
   },
   {
    "duration": 7,
    "start_time": "2022-09-05T14:53:48.760Z"
   },
   {
    "duration": 6,
    "start_time": "2022-09-05T14:53:49.021Z"
   },
   {
    "duration": 6,
    "start_time": "2022-09-05T14:53:49.441Z"
   },
   {
    "duration": 103,
    "start_time": "2022-09-05T14:53:50.337Z"
   },
   {
    "duration": 8,
    "start_time": "2022-09-05T14:53:51.261Z"
   },
   {
    "duration": 9,
    "start_time": "2022-09-05T14:53:51.641Z"
   },
   {
    "duration": 28,
    "start_time": "2022-09-05T14:53:52.503Z"
   },
   {
    "duration": 7,
    "start_time": "2022-09-05T14:53:53.422Z"
   },
   {
    "duration": 103,
    "start_time": "2022-09-05T14:53:54.025Z"
   },
   {
    "duration": 9,
    "start_time": "2022-09-05T14:53:54.700Z"
   },
   {
    "duration": 8,
    "start_time": "2022-09-05T14:53:55.977Z"
   },
   {
    "duration": 11,
    "start_time": "2022-09-05T14:53:56.648Z"
   },
   {
    "duration": 220,
    "start_time": "2022-09-05T14:53:57.366Z"
   },
   {
    "duration": 208,
    "start_time": "2022-09-05T14:53:58.687Z"
   },
   {
    "duration": 124,
    "start_time": "2022-09-05T14:53:59.502Z"
   },
   {
    "duration": 14,
    "start_time": "2022-09-05T14:54:04.138Z"
   },
   {
    "duration": 4,
    "start_time": "2022-09-05T14:54:04.936Z"
   },
   {
    "duration": 14,
    "start_time": "2022-09-05T14:55:08.976Z"
   },
   {
    "duration": 3,
    "start_time": "2022-09-05T14:55:26.421Z"
   },
   {
    "duration": 86,
    "start_time": "2022-09-05T14:55:26.905Z"
   },
   {
    "duration": 15,
    "start_time": "2022-09-05T14:55:28.369Z"
   },
   {
    "duration": 72,
    "start_time": "2022-09-05T14:55:29.706Z"
   },
   {
    "duration": 24,
    "start_time": "2022-09-05T14:55:30.727Z"
   },
   {
    "duration": 3,
    "start_time": "2022-09-05T14:55:32.039Z"
   },
   {
    "duration": 3,
    "start_time": "2022-09-05T14:55:32.920Z"
   },
   {
    "duration": 2035,
    "start_time": "2022-09-05T14:55:37.136Z"
   },
   {
    "duration": 9,
    "start_time": "2022-09-05T14:55:42.812Z"
   },
   {
    "duration": 4,
    "start_time": "2022-09-05T14:56:02.303Z"
   },
   {
    "duration": 16,
    "start_time": "2022-09-05T14:56:11.657Z"
   },
   {
    "duration": 39,
    "start_time": "2022-09-05T14:56:17.171Z"
   },
   {
    "duration": 4,
    "start_time": "2022-09-05T14:56:22.457Z"
   },
   {
    "duration": 5,
    "start_time": "2022-09-05T14:56:26.104Z"
   },
   {
    "duration": 8,
    "start_time": "2022-09-05T14:56:28.526Z"
   },
   {
    "duration": 6,
    "start_time": "2022-09-05T14:56:29.638Z"
   },
   {
    "duration": 104,
    "start_time": "2022-09-05T14:56:37.329Z"
   },
   {
    "duration": 9,
    "start_time": "2022-09-05T14:56:40.125Z"
   },
   {
    "duration": 4,
    "start_time": "2022-09-05T14:56:44.605Z"
   },
   {
    "duration": 10,
    "start_time": "2022-09-05T14:57:40.447Z"
   },
   {
    "duration": 11,
    "start_time": "2022-09-05T14:57:43.020Z"
   },
   {
    "duration": 105,
    "start_time": "2022-09-05T14:57:48.288Z"
   },
   {
    "duration": 4,
    "start_time": "2022-09-05T14:57:53.646Z"
   },
   {
    "duration": 8,
    "start_time": "2022-09-05T14:58:05.444Z"
   },
   {
    "duration": 47,
    "start_time": "2022-09-05T14:58:19.633Z"
   },
   {
    "duration": 50,
    "start_time": "2022-09-05T14:58:33.118Z"
   },
   {
    "duration": 49,
    "start_time": "2022-09-05T14:58:40.087Z"
   },
   {
    "duration": 46,
    "start_time": "2022-09-05T14:58:47.409Z"
   },
   {
    "duration": 44,
    "start_time": "2022-09-05T14:58:54.624Z"
   },
   {
    "duration": 47,
    "start_time": "2022-09-05T14:59:02.212Z"
   },
   {
    "duration": 45,
    "start_time": "2022-09-05T14:59:10.600Z"
   },
   {
    "duration": 46,
    "start_time": "2022-09-05T14:59:17.122Z"
   },
   {
    "duration": 45,
    "start_time": "2022-09-05T14:59:32.802Z"
   },
   {
    "duration": 49,
    "start_time": "2022-09-05T14:59:43.405Z"
   },
   {
    "duration": 53,
    "start_time": "2022-09-05T14:59:52.472Z"
   },
   {
    "duration": 27,
    "start_time": "2022-09-05T15:00:00.644Z"
   },
   {
    "duration": 48,
    "start_time": "2022-09-05T15:00:15.560Z"
   },
   {
    "duration": 4,
    "start_time": "2022-09-05T15:00:31.846Z"
   },
   {
    "duration": 8,
    "start_time": "2022-09-05T15:01:42.566Z"
   },
   {
    "duration": 3,
    "start_time": "2022-09-05T15:01:43.246Z"
   },
   {
    "duration": 4,
    "start_time": "2022-09-05T15:02:21.492Z"
   },
   {
    "duration": 96,
    "start_time": "2022-09-05T15:02:21.882Z"
   },
   {
    "duration": 15,
    "start_time": "2022-09-05T15:02:22.389Z"
   },
   {
    "duration": 76,
    "start_time": "2022-09-05T15:02:23.510Z"
   },
   {
    "duration": 24,
    "start_time": "2022-09-05T15:02:24.516Z"
   },
   {
    "duration": 4,
    "start_time": "2022-09-05T15:02:24.915Z"
   },
   {
    "duration": 4,
    "start_time": "2022-09-05T15:02:25.359Z"
   },
   {
    "duration": 2181,
    "start_time": "2022-09-05T15:02:25.845Z"
   },
   {
    "duration": 9,
    "start_time": "2022-09-05T15:02:28.028Z"
   },
   {
    "duration": 32,
    "start_time": "2022-09-05T15:02:28.038Z"
   },
   {
    "duration": 41,
    "start_time": "2022-09-05T15:02:29.613Z"
   },
   {
    "duration": 4,
    "start_time": "2022-09-05T15:02:30.839Z"
   },
   {
    "duration": 9,
    "start_time": "2022-09-05T15:02:31.527Z"
   },
   {
    "duration": 7,
    "start_time": "2022-09-05T15:02:32.258Z"
   },
   {
    "duration": 98,
    "start_time": "2022-09-05T15:02:35.091Z"
   },
   {
    "duration": 12,
    "start_time": "2022-09-05T15:02:37.119Z"
   },
   {
    "duration": 7,
    "start_time": "2022-09-05T15:02:42.231Z"
   },
   {
    "duration": 12,
    "start_time": "2022-09-05T15:02:44.762Z"
   },
   {
    "duration": 104,
    "start_time": "2022-09-05T15:02:45.817Z"
   },
   {
    "duration": 3,
    "start_time": "2022-09-05T15:02:51.711Z"
   },
   {
    "duration": 6,
    "start_time": "2022-09-05T15:02:52.573Z"
   },
   {
    "duration": 9,
    "start_time": "2022-09-05T15:02:56.176Z"
   },
   {
    "duration": 10,
    "start_time": "2022-09-05T15:03:12.361Z"
   },
   {
    "duration": 4,
    "start_time": "2022-09-05T15:03:12.914Z"
   },
   {
    "duration": 3,
    "start_time": "2022-09-05T15:03:39.451Z"
   },
   {
    "duration": 97,
    "start_time": "2022-09-05T15:03:39.810Z"
   },
   {
    "duration": 16,
    "start_time": "2022-09-05T15:03:40.153Z"
   },
   {
    "duration": 76,
    "start_time": "2022-09-05T15:03:41.045Z"
   },
   {
    "duration": 24,
    "start_time": "2022-09-05T15:03:42.035Z"
   },
   {
    "duration": 4,
    "start_time": "2022-09-05T15:03:42.761Z"
   },
   {
    "duration": 4,
    "start_time": "2022-09-05T15:03:43.239Z"
   },
   {
    "duration": 1987,
    "start_time": "2022-09-05T15:03:43.808Z"
   },
   {
    "duration": 10,
    "start_time": "2022-09-05T15:03:45.798Z"
   },
   {
    "duration": 17,
    "start_time": "2022-09-05T15:03:46.205Z"
   },
   {
    "duration": 39,
    "start_time": "2022-09-05T15:03:49.269Z"
   },
   {
    "duration": 4,
    "start_time": "2022-09-05T15:03:52.554Z"
   },
   {
    "duration": 8,
    "start_time": "2022-09-05T15:03:53.080Z"
   },
   {
    "duration": 7,
    "start_time": "2022-09-05T15:03:53.968Z"
   },
   {
    "duration": 105,
    "start_time": "2022-09-05T15:03:58.396Z"
   },
   {
    "duration": 9,
    "start_time": "2022-09-05T15:03:59.925Z"
   },
   {
    "duration": 191,
    "start_time": "2022-09-05T15:04:01.520Z"
   },
   {
    "duration": 10,
    "start_time": "2022-09-05T15:04:05.254Z"
   },
   {
    "duration": 119,
    "start_time": "2022-09-05T15:04:06.681Z"
   },
   {
    "duration": 6,
    "start_time": "2022-09-05T15:04:09.492Z"
   },
   {
    "duration": 8,
    "start_time": "2022-09-05T15:04:15.047Z"
   },
   {
    "duration": 11,
    "start_time": "2022-09-05T15:04:20.085Z"
   },
   {
    "duration": 5,
    "start_time": "2022-09-05T15:04:20.803Z"
   },
   {
    "duration": 3,
    "start_time": "2022-09-05T15:05:29.959Z"
   },
   {
    "duration": 93,
    "start_time": "2022-09-05T15:05:30.358Z"
   },
   {
    "duration": 17,
    "start_time": "2022-09-05T15:05:30.678Z"
   },
   {
    "duration": 82,
    "start_time": "2022-09-05T15:05:31.395Z"
   },
   {
    "duration": 24,
    "start_time": "2022-09-05T15:05:32.278Z"
   },
   {
    "duration": 3,
    "start_time": "2022-09-05T15:05:32.722Z"
   },
   {
    "duration": 4,
    "start_time": "2022-09-05T15:05:33.170Z"
   },
   {
    "duration": 1940,
    "start_time": "2022-09-05T15:05:33.809Z"
   },
   {
    "duration": 8,
    "start_time": "2022-09-05T15:05:37.595Z"
   },
   {
    "duration": 16,
    "start_time": "2022-09-05T15:05:39.000Z"
   },
   {
    "duration": 38,
    "start_time": "2022-09-05T15:05:43.563Z"
   },
   {
    "duration": 6,
    "start_time": "2022-09-05T15:05:47.489Z"
   },
   {
    "duration": 8,
    "start_time": "2022-09-05T15:05:48.032Z"
   },
   {
    "duration": 7,
    "start_time": "2022-09-05T15:05:49.752Z"
   },
   {
    "duration": 98,
    "start_time": "2022-09-05T15:05:55.802Z"
   },
   {
    "duration": 13,
    "start_time": "2022-09-05T15:05:58.483Z"
   },
   {
    "duration": 7,
    "start_time": "2022-09-05T15:06:00.410Z"
   },
   {
    "duration": 11,
    "start_time": "2022-09-05T15:06:02.853Z"
   },
   {
    "duration": 7,
    "start_time": "2022-09-05T15:06:04.190Z"
   },
   {
    "duration": 8,
    "start_time": "2022-09-05T15:06:06.359Z"
   },
   {
    "duration": 7,
    "start_time": "2022-09-05T15:06:07.238Z"
   },
   {
    "duration": 6,
    "start_time": "2022-09-05T15:06:07.769Z"
   },
   {
    "duration": 116,
    "start_time": "2022-09-05T15:06:21.079Z"
   },
   {
    "duration": 11,
    "start_time": "2022-09-05T15:06:25.191Z"
   },
   {
    "duration": 4,
    "start_time": "2022-09-05T15:06:25.833Z"
   },
   {
    "duration": 210,
    "start_time": "2022-09-05T15:06:35.646Z"
   },
   {
    "duration": 9,
    "start_time": "2022-09-05T15:06:43.450Z"
   },
   {
    "duration": 4,
    "start_time": "2022-09-05T15:06:43.928Z"
   },
   {
    "duration": 9,
    "start_time": "2022-09-05T15:06:55.657Z"
   },
   {
    "duration": 30,
    "start_time": "2022-09-05T15:07:13.078Z"
   },
   {
    "duration": 4,
    "start_time": "2022-09-05T15:07:20.416Z"
   },
   {
    "duration": 115,
    "start_time": "2022-09-05T15:07:22.453Z"
   },
   {
    "duration": 10,
    "start_time": "2022-09-05T15:07:24.283Z"
   },
   {
    "duration": 8,
    "start_time": "2022-09-05T15:07:33.041Z"
   },
   {
    "duration": 4,
    "start_time": "2022-09-05T15:07:33.458Z"
   },
   {
    "duration": 9,
    "start_time": "2022-09-05T15:07:37.572Z"
   },
   {
    "duration": 119,
    "start_time": "2022-09-05T15:07:38.258Z"
   },
   {
    "duration": 211,
    "start_time": "2022-09-05T15:07:39.125Z"
   },
   {
    "duration": 127,
    "start_time": "2022-09-05T15:07:46.057Z"
   },
   {
    "duration": 130,
    "start_time": "2022-09-05T15:08:52.138Z"
   },
   {
    "duration": 209,
    "start_time": "2022-09-05T15:08:59.449Z"
   },
   {
    "duration": 125,
    "start_time": "2022-09-05T15:09:02.803Z"
   },
   {
    "duration": 9,
    "start_time": "2022-09-05T15:10:23.564Z"
   },
   {
    "duration": 4,
    "start_time": "2022-09-05T15:10:24.518Z"
   },
   {
    "duration": 119,
    "start_time": "2022-09-05T15:10:43.403Z"
   },
   {
    "duration": 284,
    "start_time": "2022-09-05T15:10:49.082Z"
   },
   {
    "duration": 47,
    "start_time": "2022-09-05T15:11:34.205Z"
   },
   {
    "duration": 42,
    "start_time": "2022-09-05T15:11:47.417Z"
   },
   {
    "duration": 51,
    "start_time": "2022-09-05T15:12:33.355Z"
   },
   {
    "duration": 9,
    "start_time": "2022-09-05T15:12:43.248Z"
   },
   {
    "duration": 4,
    "start_time": "2022-09-05T15:12:53.012Z"
   },
   {
    "duration": 5,
    "start_time": "2022-09-05T15:15:53.094Z"
   },
   {
    "duration": 25,
    "start_time": "2022-09-05T15:15:54.253Z"
   },
   {
    "duration": 2,
    "start_time": "2022-09-05T15:29:04.838Z"
   },
   {
    "duration": 95,
    "start_time": "2022-09-05T15:29:05.710Z"
   },
   {
    "duration": 17,
    "start_time": "2022-09-05T15:29:06.329Z"
   },
   {
    "duration": 92,
    "start_time": "2022-09-05T15:29:07.329Z"
   },
   {
    "duration": 29,
    "start_time": "2022-09-05T15:29:08.191Z"
   },
   {
    "duration": 4,
    "start_time": "2022-09-05T15:29:08.596Z"
   },
   {
    "duration": 5,
    "start_time": "2022-09-05T15:29:09.283Z"
   },
   {
    "duration": 2128,
    "start_time": "2022-09-05T15:29:09.431Z"
   },
   {
    "duration": 12,
    "start_time": "2022-09-05T15:29:11.834Z"
   },
   {
    "duration": 17,
    "start_time": "2022-09-05T15:29:12.325Z"
   },
   {
    "duration": 59,
    "start_time": "2022-09-05T15:29:13.571Z"
   },
   {
    "duration": 5,
    "start_time": "2022-09-05T15:29:14.407Z"
   },
   {
    "duration": 9,
    "start_time": "2022-09-05T15:29:14.810Z"
   },
   {
    "duration": 9,
    "start_time": "2022-09-05T15:29:15.118Z"
   },
   {
    "duration": 139,
    "start_time": "2022-09-05T15:29:16.649Z"
   },
   {
    "duration": 10,
    "start_time": "2022-09-05T15:29:17.882Z"
   },
   {
    "duration": 140,
    "start_time": "2022-09-05T15:29:19.039Z"
   },
   {
    "duration": 14,
    "start_time": "2022-09-05T15:29:19.567Z"
   },
   {
    "duration": 7,
    "start_time": "2022-09-05T15:29:20.650Z"
   },
   {
    "duration": 8,
    "start_time": "2022-09-05T15:29:21.205Z"
   },
   {
    "duration": 8,
    "start_time": "2022-09-05T15:29:21.724Z"
   },
   {
    "duration": 7,
    "start_time": "2022-09-05T15:29:26.200Z"
   },
   {
    "duration": 146,
    "start_time": "2022-09-05T15:29:27.953Z"
   },
   {
    "duration": 13,
    "start_time": "2022-09-05T15:29:29.839Z"
   },
   {
    "duration": 136,
    "start_time": "2022-09-05T15:29:30.454Z"
   },
   {
    "duration": 13,
    "start_time": "2022-09-05T15:29:31.088Z"
   },
   {
    "duration": 12,
    "start_time": "2022-09-05T15:29:31.865Z"
   },
   {
    "duration": 33,
    "start_time": "2022-09-05T15:29:32.048Z"
   },
   {
    "duration": 9,
    "start_time": "2022-09-05T15:29:33.150Z"
   },
   {
    "duration": 146,
    "start_time": "2022-09-05T15:29:33.568Z"
   },
   {
    "duration": 11,
    "start_time": "2022-09-05T15:29:33.973Z"
   },
   {
    "duration": 9,
    "start_time": "2022-09-05T15:29:35.764Z"
   },
   {
    "duration": 11,
    "start_time": "2022-09-05T15:29:36.030Z"
   },
   {
    "duration": 131,
    "start_time": "2022-09-05T15:29:36.329Z"
   },
   {
    "duration": 237,
    "start_time": "2022-09-05T15:29:36.717Z"
   },
   {
    "duration": 11,
    "start_time": "2022-09-05T15:29:38.389Z"
   },
   {
    "duration": 3,
    "start_time": "2022-09-05T15:47:35.400Z"
   },
   {
    "duration": 91,
    "start_time": "2022-09-05T15:47:36.201Z"
   },
   {
    "duration": 21,
    "start_time": "2022-09-05T15:47:36.753Z"
   },
   {
    "duration": 84,
    "start_time": "2022-09-05T15:47:37.831Z"
   },
   {
    "duration": 28,
    "start_time": "2022-09-05T15:47:38.735Z"
   },
   {
    "duration": 4,
    "start_time": "2022-09-05T15:47:39.082Z"
   },
   {
    "duration": 5,
    "start_time": "2022-09-05T15:47:39.517Z"
   },
   {
    "duration": 2156,
    "start_time": "2022-09-05T15:47:39.969Z"
   },
   {
    "duration": 9,
    "start_time": "2022-09-05T15:47:42.127Z"
   },
   {
    "duration": 42,
    "start_time": "2022-09-05T15:47:42.138Z"
   },
   {
    "duration": 48,
    "start_time": "2022-09-05T15:47:42.393Z"
   },
   {
    "duration": 4,
    "start_time": "2022-09-05T15:47:43.077Z"
   },
   {
    "duration": 11,
    "start_time": "2022-09-05T15:47:43.214Z"
   },
   {
    "duration": 6,
    "start_time": "2022-09-05T15:47:43.472Z"
   },
   {
    "duration": 112,
    "start_time": "2022-09-05T15:47:44.206Z"
   },
   {
    "duration": 9,
    "start_time": "2022-09-05T15:47:45.196Z"
   },
   {
    "duration": 8,
    "start_time": "2022-09-05T15:47:46.199Z"
   },
   {
    "duration": 14,
    "start_time": "2022-09-05T15:47:47.131Z"
   },
   {
    "duration": 7,
    "start_time": "2022-09-05T15:47:47.964Z"
   },
   {
    "duration": 8,
    "start_time": "2022-09-05T15:47:48.362Z"
   },
   {
    "duration": 8,
    "start_time": "2022-09-05T15:47:48.850Z"
   },
   {
    "duration": 7,
    "start_time": "2022-09-05T15:47:55.480Z"
   },
   {
    "duration": 110,
    "start_time": "2022-09-05T15:47:56.004Z"
   },
   {
    "duration": 9,
    "start_time": "2022-09-05T15:47:56.408Z"
   },
   {
    "duration": 140,
    "start_time": "2022-09-05T15:47:56.650Z"
   },
   {
    "duration": 9,
    "start_time": "2022-09-05T15:47:57.031Z"
   },
   {
    "duration": 10,
    "start_time": "2022-09-05T15:47:57.309Z"
   },
   {
    "duration": 32,
    "start_time": "2022-09-05T15:47:58.082Z"
   },
   {
    "duration": 8,
    "start_time": "2022-09-05T15:47:58.923Z"
   },
   {
    "duration": 110,
    "start_time": "2022-09-05T15:48:06.202Z"
   },
   {
    "duration": 12,
    "start_time": "2022-09-05T15:48:06.881Z"
   },
   {
    "duration": 12,
    "start_time": "2022-09-05T15:48:09.629Z"
   },
   {
    "duration": 12,
    "start_time": "2022-09-05T15:48:10.329Z"
   },
   {
    "duration": 124,
    "start_time": "2022-09-05T15:48:10.876Z"
   },
   {
    "duration": 228,
    "start_time": "2022-09-05T15:48:11.477Z"
   },
   {
    "duration": 12,
    "start_time": "2022-09-05T15:48:15.363Z"
   },
   {
    "duration": 3,
    "start_time": "2022-09-05T15:48:18.472Z"
   },
   {
    "duration": 3,
    "start_time": "2022-09-05T15:48:34.962Z"
   },
   {
    "duration": 102,
    "start_time": "2022-09-05T15:48:35.470Z"
   },
   {
    "duration": 14,
    "start_time": "2022-09-05T15:48:36.112Z"
   },
   {
    "duration": 77,
    "start_time": "2022-09-05T15:48:37.762Z"
   },
   {
    "duration": 27,
    "start_time": "2022-09-05T15:48:39.718Z"
   },
   {
    "duration": 4,
    "start_time": "2022-09-05T15:48:41.082Z"
   },
   {
    "duration": 3,
    "start_time": "2022-09-05T15:48:41.803Z"
   },
   {
    "duration": 2124,
    "start_time": "2022-09-05T15:48:43.080Z"
   },
   {
    "duration": 9,
    "start_time": "2022-09-05T15:48:45.933Z"
   },
   {
    "duration": 25,
    "start_time": "2022-09-05T15:48:46.770Z"
   },
   {
    "duration": 39,
    "start_time": "2022-09-05T15:48:51.036Z"
   },
   {
    "duration": 2,
    "start_time": "2022-09-05T15:58:48.442Z"
   },
   {
    "duration": 94,
    "start_time": "2022-09-05T15:58:49.149Z"
   },
   {
    "duration": 15,
    "start_time": "2022-09-05T15:58:49.755Z"
   },
   {
    "duration": 75,
    "start_time": "2022-09-05T15:58:50.631Z"
   },
   {
    "duration": 24,
    "start_time": "2022-09-05T15:58:51.445Z"
   },
   {
    "duration": 4,
    "start_time": "2022-09-05T15:58:51.911Z"
   },
   {
    "duration": 4,
    "start_time": "2022-09-05T15:58:52.331Z"
   },
   {
    "duration": 2149,
    "start_time": "2022-09-05T15:58:55.080Z"
   },
   {
    "duration": 8,
    "start_time": "2022-09-05T15:58:57.829Z"
   },
   {
    "duration": 16,
    "start_time": "2022-09-05T15:58:58.631Z"
   },
   {
    "duration": 41,
    "start_time": "2022-09-05T15:59:00.361Z"
   },
   {
    "duration": 4,
    "start_time": "2022-09-05T15:59:01.516Z"
   },
   {
    "duration": 7,
    "start_time": "2022-09-05T15:59:02.837Z"
   },
   {
    "duration": 7,
    "start_time": "2022-09-05T15:59:03.916Z"
   },
   {
    "duration": 107,
    "start_time": "2022-09-05T15:59:12.962Z"
   },
   {
    "duration": 9,
    "start_time": "2022-09-05T15:59:13.797Z"
   },
   {
    "duration": 7,
    "start_time": "2022-09-05T15:59:14.587Z"
   },
   {
    "duration": 11,
    "start_time": "2022-09-05T15:59:14.922Z"
   },
   {
    "duration": 6,
    "start_time": "2022-09-05T15:59:15.398Z"
   },
   {
    "duration": 8,
    "start_time": "2022-09-05T15:59:15.686Z"
   },
   {
    "duration": 8,
    "start_time": "2022-09-05T15:59:16.126Z"
   },
   {
    "duration": 8,
    "start_time": "2022-09-05T15:59:16.433Z"
   },
   {
    "duration": 121,
    "start_time": "2022-09-05T15:59:17.187Z"
   },
   {
    "duration": 9,
    "start_time": "2022-09-05T15:59:18.086Z"
   },
   {
    "duration": 107,
    "start_time": "2022-09-05T15:59:18.666Z"
   },
   {
    "duration": 8,
    "start_time": "2022-09-05T15:59:19.646Z"
   },
   {
    "duration": 10,
    "start_time": "2022-09-05T15:59:20.126Z"
   },
   {
    "duration": 35,
    "start_time": "2022-09-05T15:59:21.647Z"
   },
   {
    "duration": 7,
    "start_time": "2022-09-05T15:59:25.459Z"
   },
   {
    "duration": 111,
    "start_time": "2022-09-05T15:59:26.921Z"
   },
   {
    "duration": 10,
    "start_time": "2022-09-05T15:59:27.605Z"
   },
   {
    "duration": 8,
    "start_time": "2022-09-05T15:59:28.708Z"
   },
   {
    "duration": 10,
    "start_time": "2022-09-05T15:59:29.123Z"
   },
   {
    "duration": 124,
    "start_time": "2022-09-05T15:59:31.188Z"
   },
   {
    "duration": 325,
    "start_time": "2022-09-05T15:59:33.326Z"
   },
   {
    "duration": 8,
    "start_time": "2022-09-05T15:59:35.691Z"
   },
   {
    "duration": 4,
    "start_time": "2022-09-05T15:59:38.876Z"
   },
   {
    "duration": 5,
    "start_time": "2022-09-05T16:00:03.667Z"
   },
   {
    "duration": 24,
    "start_time": "2022-09-05T16:00:04.439Z"
   },
   {
    "duration": 28,
    "start_time": "2022-09-05T16:00:05.997Z"
   },
   {
    "duration": 73,
    "start_time": "2022-09-05T16:00:57.706Z"
   },
   {
    "duration": 11,
    "start_time": "2022-09-05T16:01:25.399Z"
   },
   {
    "duration": 29,
    "start_time": "2022-09-05T16:01:29.757Z"
   },
   {
    "duration": 31,
    "start_time": "2022-09-05T16:05:40.839Z"
   },
   {
    "duration": 20,
    "start_time": "2022-09-05T16:06:12.820Z"
   },
   {
    "duration": 9,
    "start_time": "2022-09-05T16:06:58.633Z"
   },
   {
    "duration": 28,
    "start_time": "2022-09-05T16:07:00.869Z"
   },
   {
    "duration": 312,
    "start_time": "2022-09-05T16:07:06.291Z"
   },
   {
    "duration": 5,
    "start_time": "2022-09-05T16:07:06.820Z"
   },
   {
    "duration": 28,
    "start_time": "2022-09-05T16:07:08.356Z"
   },
   {
    "duration": 202,
    "start_time": "2022-09-05T16:07:33.232Z"
   },
   {
    "duration": 86,
    "start_time": "2022-09-05T16:07:51.867Z"
   },
   {
    "duration": 68,
    "start_time": "2022-09-05T16:08:03.602Z"
   },
   {
    "duration": 5,
    "start_time": "2022-09-05T16:08:11.761Z"
   },
   {
    "duration": 200,
    "start_time": "2022-09-05T16:08:25.627Z"
   },
   {
    "duration": 202,
    "start_time": "2022-09-05T16:08:34.248Z"
   },
   {
    "duration": 200,
    "start_time": "2022-09-05T16:09:17.843Z"
   },
   {
    "duration": 293,
    "start_time": "2022-09-05T16:09:29.099Z"
   },
   {
    "duration": 198,
    "start_time": "2022-09-05T16:09:45.969Z"
   },
   {
    "duration": 182,
    "start_time": "2022-09-05T16:09:50.398Z"
   },
   {
    "duration": 226,
    "start_time": "2022-09-05T16:10:44.873Z"
   },
   {
    "duration": 232,
    "start_time": "2022-09-05T16:10:50.638Z"
   },
   {
    "duration": 179,
    "start_time": "2022-09-05T16:10:57.191Z"
   },
   {
    "duration": 191,
    "start_time": "2022-09-05T16:11:03.291Z"
   },
   {
    "duration": 198,
    "start_time": "2022-09-05T16:11:13.441Z"
   },
   {
    "duration": 197,
    "start_time": "2022-09-05T16:11:37.005Z"
   },
   {
    "duration": 180,
    "start_time": "2022-09-05T16:11:42.834Z"
   },
   {
    "duration": 318,
    "start_time": "2022-09-05T16:11:47.604Z"
   },
   {
    "duration": 194,
    "start_time": "2022-09-05T16:11:53.813Z"
   },
   {
    "duration": 196,
    "start_time": "2022-09-05T16:12:14.514Z"
   },
   {
    "duration": 214,
    "start_time": "2022-09-05T16:12:21.365Z"
   },
   {
    "duration": 197,
    "start_time": "2022-09-05T16:12:25.392Z"
   },
   {
    "duration": 197,
    "start_time": "2022-09-05T16:12:34.534Z"
   },
   {
    "duration": 140,
    "start_time": "2022-09-05T16:12:42.753Z"
   },
   {
    "duration": 207,
    "start_time": "2022-09-05T16:13:03.874Z"
   },
   {
    "duration": 200,
    "start_time": "2022-09-05T16:13:09.703Z"
   },
   {
    "duration": 194,
    "start_time": "2022-09-05T16:13:19.876Z"
   },
   {
    "duration": 147,
    "start_time": "2022-09-05T16:14:21.652Z"
   },
   {
    "duration": 277,
    "start_time": "2022-09-05T16:14:38.167Z"
   },
   {
    "duration": 142,
    "start_time": "2022-09-05T16:14:44.598Z"
   },
   {
    "duration": 217,
    "start_time": "2022-09-05T16:15:10.554Z"
   },
   {
    "duration": 205,
    "start_time": "2022-09-05T16:15:25.375Z"
   },
   {
    "duration": 204,
    "start_time": "2022-09-05T16:15:32.207Z"
   },
   {
    "duration": 202,
    "start_time": "2022-09-05T16:15:41.562Z"
   },
   {
    "duration": 187,
    "start_time": "2022-09-05T16:15:45.755Z"
   },
   {
    "duration": 188,
    "start_time": "2022-09-05T16:15:49.087Z"
   },
   {
    "duration": 216,
    "start_time": "2022-09-05T16:15:52.854Z"
   },
   {
    "duration": 210,
    "start_time": "2022-09-05T16:16:01.414Z"
   },
   {
    "duration": 198,
    "start_time": "2022-09-05T16:16:04.695Z"
   },
   {
    "duration": 315,
    "start_time": "2022-09-05T16:16:08.837Z"
   },
   {
    "duration": 324,
    "start_time": "2022-09-05T16:16:15.135Z"
   },
   {
    "duration": 292,
    "start_time": "2022-09-05T16:16:36.334Z"
   },
   {
    "duration": 264,
    "start_time": "2022-09-05T16:16:43.476Z"
   },
   {
    "duration": 279,
    "start_time": "2022-09-05T16:16:47.888Z"
   },
   {
    "duration": 373,
    "start_time": "2022-09-05T16:17:25.574Z"
   },
   {
    "duration": 75,
    "start_time": "2022-09-05T16:17:56.290Z"
   },
   {
    "duration": 74,
    "start_time": "2022-09-05T16:18:00.682Z"
   },
   {
    "duration": 562,
    "start_time": "2022-09-05T16:18:06.375Z"
   },
   {
    "duration": 2409,
    "start_time": "2022-09-05T16:18:31.917Z"
   },
   {
    "duration": 1473,
    "start_time": "2022-09-05T16:19:49.255Z"
   },
   {
    "duration": 2559,
    "start_time": "2022-09-05T16:20:33.504Z"
   },
   {
    "duration": 1018,
    "start_time": "2022-09-05T16:21:24.250Z"
   },
   {
    "duration": 1101,
    "start_time": "2022-09-05T16:21:36.885Z"
   },
   {
    "duration": 503,
    "start_time": "2022-09-05T17:00:57.096Z"
   },
   {
    "duration": 1180,
    "start_time": "2022-09-05T17:02:27.774Z"
   },
   {
    "duration": 501,
    "start_time": "2022-09-05T17:04:21.764Z"
   },
   {
    "duration": 999,
    "start_time": "2022-09-05T17:04:35.902Z"
   },
   {
    "duration": 501,
    "start_time": "2022-09-05T17:05:37.934Z"
   },
   {
    "duration": 354,
    "start_time": "2022-09-05T17:08:33.222Z"
   },
   {
    "duration": 345,
    "start_time": "2022-09-05T17:10:34.224Z"
   },
   {
    "duration": 6,
    "start_time": "2022-09-05T17:13:11.496Z"
   },
   {
    "duration": 5,
    "start_time": "2022-09-05T17:13:12.687Z"
   },
   {
    "duration": 3,
    "start_time": "2022-09-05T17:13:27.336Z"
   },
   {
    "duration": 86,
    "start_time": "2022-09-05T17:13:27.722Z"
   },
   {
    "duration": 14,
    "start_time": "2022-09-05T17:13:28.021Z"
   },
   {
    "duration": 213,
    "start_time": "2022-09-05T17:13:28.860Z"
   },
   {
    "duration": 27,
    "start_time": "2022-09-05T17:13:35.565Z"
   },
   {
    "duration": 4,
    "start_time": "2022-09-05T17:13:36.407Z"
   },
   {
    "duration": 4,
    "start_time": "2022-09-05T17:13:37.776Z"
   },
   {
    "duration": 1918,
    "start_time": "2022-09-05T17:13:38.978Z"
   },
   {
    "duration": 12,
    "start_time": "2022-09-05T17:13:41.562Z"
   },
   {
    "duration": 17,
    "start_time": "2022-09-05T17:13:42.522Z"
   },
   {
    "duration": 55,
    "start_time": "2022-09-05T17:13:46.644Z"
   },
   {
    "duration": 4,
    "start_time": "2022-09-05T17:13:47.108Z"
   },
   {
    "duration": 8,
    "start_time": "2022-09-05T17:13:47.298Z"
   },
   {
    "duration": 7,
    "start_time": "2022-09-05T17:13:48.058Z"
   },
   {
    "duration": 96,
    "start_time": "2022-09-05T17:13:49.934Z"
   },
   {
    "duration": 12,
    "start_time": "2022-09-05T17:13:55.898Z"
   },
   {
    "duration": 4,
    "start_time": "2022-09-05T17:14:10.683Z"
   },
   {
    "duration": 8,
    "start_time": "2022-09-05T17:14:22.892Z"
   },
   {
    "duration": 12,
    "start_time": "2022-09-05T17:14:24.499Z"
   },
   {
    "duration": 7,
    "start_time": "2022-09-05T17:14:26.620Z"
   },
   {
    "duration": 8,
    "start_time": "2022-09-05T17:14:29.536Z"
   },
   {
    "duration": 7,
    "start_time": "2022-09-05T17:14:30.136Z"
   },
   {
    "duration": 7,
    "start_time": "2022-09-05T17:14:34.741Z"
   },
   {
    "duration": 121,
    "start_time": "2022-09-05T17:14:39.624Z"
   },
   {
    "duration": 10,
    "start_time": "2022-09-05T17:14:46.038Z"
   },
   {
    "duration": 3,
    "start_time": "2022-09-05T17:14:48.762Z"
   },
   {
    "duration": 116,
    "start_time": "2022-09-05T17:14:53.640Z"
   },
   {
    "duration": 11,
    "start_time": "2022-09-05T17:15:05.689Z"
   },
   {
    "duration": 5,
    "start_time": "2022-09-05T17:15:05.965Z"
   },
   {
    "duration": 10,
    "start_time": "2022-09-05T17:15:23.371Z"
   },
   {
    "duration": 29,
    "start_time": "2022-09-05T17:15:25.579Z"
   },
   {
    "duration": 7,
    "start_time": "2022-09-05T17:15:33.211Z"
   },
   {
    "duration": 4,
    "start_time": "2022-09-05T17:15:33.930Z"
   },
   {
    "duration": 281,
    "start_time": "2022-09-05T17:15:41.414Z"
   },
   {
    "duration": 10,
    "start_time": "2022-09-05T17:15:45.606Z"
   },
   {
    "duration": 10,
    "start_time": "2022-09-05T17:15:54.124Z"
   },
   {
    "duration": 4,
    "start_time": "2022-09-05T17:15:54.575Z"
   },
   {
    "duration": 16,
    "start_time": "2022-09-05T17:16:04.132Z"
   },
   {
    "duration": 139,
    "start_time": "2022-09-05T17:16:05.530Z"
   },
   {
    "duration": 199,
    "start_time": "2022-09-05T17:16:08.763Z"
   },
   {
    "duration": 9,
    "start_time": "2022-09-05T17:16:14.693Z"
   },
   {
    "duration": 4,
    "start_time": "2022-09-05T17:16:15.525Z"
   },
   {
    "duration": 4,
    "start_time": "2022-09-05T17:16:32.565Z"
   },
   {
    "duration": 5,
    "start_time": "2022-09-05T17:16:36.814Z"
   },
   {
    "duration": 4,
    "start_time": "2022-09-05T17:16:43.084Z"
   },
   {
    "duration": 19,
    "start_time": "2022-09-05T17:16:43.506Z"
   },
   {
    "duration": 10,
    "start_time": "2022-09-05T17:16:44.054Z"
   },
   {
    "duration": 31,
    "start_time": "2022-09-05T17:16:45.614Z"
   },
   {
    "duration": 274,
    "start_time": "2022-09-05T17:16:49.851Z"
   },
   {
    "duration": 5,
    "start_time": "2022-09-05T17:16:50.402Z"
   },
   {
    "duration": 27,
    "start_time": "2022-09-05T17:16:51.220Z"
   },
   {
    "duration": 195,
    "start_time": "2022-09-05T17:16:55.400Z"
   },
   {
    "duration": 194,
    "start_time": "2022-09-05T17:17:01.643Z"
   },
   {
    "duration": 183,
    "start_time": "2022-09-05T17:17:03.535Z"
   },
   {
    "duration": 129,
    "start_time": "2022-09-05T17:17:07.383Z"
   },
   {
    "duration": 346,
    "start_time": "2022-09-05T17:17:10.123Z"
   },
   {
    "duration": 186,
    "start_time": "2022-09-05T17:17:10.966Z"
   },
   {
    "duration": 200,
    "start_time": "2022-09-05T17:17:11.842Z"
   },
   {
    "duration": 180,
    "start_time": "2022-09-05T17:17:14.101Z"
   },
   {
    "duration": 205,
    "start_time": "2022-09-05T17:17:21.581Z"
   },
   {
    "duration": 178,
    "start_time": "2022-09-05T17:17:23.410Z"
   },
   {
    "duration": 214,
    "start_time": "2022-09-05T17:17:25.362Z"
   },
   {
    "duration": 187,
    "start_time": "2022-09-05T17:17:27.027Z"
   },
   {
    "duration": 268,
    "start_time": "2022-09-05T17:17:31.343Z"
   },
   {
    "duration": 2515,
    "start_time": "2022-09-05T17:17:34.295Z"
   },
   {
    "duration": 505,
    "start_time": "2022-09-05T17:17:40.976Z"
   },
   {
    "duration": 352,
    "start_time": "2022-09-05T17:17:42.328Z"
   },
   {
    "duration": 4,
    "start_time": "2022-09-05T17:17:46.095Z"
   },
   {
    "duration": 4,
    "start_time": "2022-09-05T17:17:48.809Z"
   },
   {
    "duration": 7,
    "start_time": "2022-09-05T17:18:48.209Z"
   },
   {
    "duration": 20,
    "start_time": "2022-09-05T17:18:48.764Z"
   },
   {
    "duration": 459,
    "start_time": "2022-09-05T17:19:03.492Z"
   },
   {
    "duration": 185,
    "start_time": "2022-09-05T17:19:07.762Z"
   },
   {
    "duration": 181,
    "start_time": "2022-09-05T17:19:27.721Z"
   },
   {
    "duration": 182,
    "start_time": "2022-09-05T17:19:31.011Z"
   },
   {
    "duration": 165,
    "start_time": "2022-09-05T17:19:33.815Z"
   },
   {
    "duration": 187,
    "start_time": "2022-09-05T17:19:43.121Z"
   },
   {
    "duration": 189,
    "start_time": "2022-09-05T17:19:46.329Z"
   },
   {
    "duration": 240,
    "start_time": "2022-09-05T17:19:53.971Z"
   },
   {
    "duration": 256,
    "start_time": "2022-09-05T17:20:13.483Z"
   },
   {
    "duration": 249,
    "start_time": "2022-09-05T17:20:24.538Z"
   },
   {
    "duration": 185,
    "start_time": "2022-09-05T17:20:33.098Z"
   },
   {
    "duration": 183,
    "start_time": "2022-09-05T17:20:37.811Z"
   },
   {
    "duration": 194,
    "start_time": "2022-09-05T17:20:41.369Z"
   },
   {
    "duration": 185,
    "start_time": "2022-09-05T17:20:44.258Z"
   },
   {
    "duration": 179,
    "start_time": "2022-09-05T17:21:01.094Z"
   },
   {
    "duration": 1555,
    "start_time": "2022-09-05T17:21:38.613Z"
   },
   {
    "duration": 1512,
    "start_time": "2022-09-05T17:21:57.333Z"
   },
   {
    "duration": 19,
    "start_time": "2022-09-05T17:22:20.772Z"
   },
   {
    "duration": 12,
    "start_time": "2022-09-05T17:22:39.772Z"
   },
   {
    "duration": 21,
    "start_time": "2022-09-05T17:22:47.975Z"
   },
   {
    "duration": 11,
    "start_time": "2022-09-05T17:22:48.997Z"
   },
   {
    "duration": 28,
    "start_time": "2022-09-05T17:23:03.859Z"
   },
   {
    "duration": 11,
    "start_time": "2022-09-05T17:23:05.163Z"
   },
   {
    "duration": 25,
    "start_time": "2022-09-05T17:23:27.487Z"
   },
   {
    "duration": 26,
    "start_time": "2022-09-05T17:23:52.961Z"
   },
   {
    "duration": 9,
    "start_time": "2022-09-05T17:24:06.570Z"
   },
   {
    "duration": 5,
    "start_time": "2022-09-05T17:24:50.878Z"
   },
   {
    "duration": 5,
    "start_time": "2022-09-05T17:24:51.597Z"
   },
   {
    "duration": 4,
    "start_time": "2022-09-05T17:26:42.367Z"
   },
   {
    "duration": 9,
    "start_time": "2022-09-05T17:28:18.526Z"
   },
   {
    "duration": 4,
    "start_time": "2022-09-05T17:28:21.361Z"
   },
   {
    "duration": 7,
    "start_time": "2022-09-05T17:28:21.980Z"
   },
   {
    "duration": 5,
    "start_time": "2022-09-05T17:28:22.544Z"
   },
   {
    "duration": 9,
    "start_time": "2022-09-05T17:28:23.011Z"
   },
   {
    "duration": 19,
    "start_time": "2022-09-05T17:28:29.500Z"
   },
   {
    "duration": 9,
    "start_time": "2022-09-05T17:29:27.297Z"
   },
   {
    "duration": 1219,
    "start_time": "2022-09-05T17:30:44.744Z"
   },
   {
    "duration": 161,
    "start_time": "2022-09-05T17:31:04.089Z"
   },
   {
    "duration": 260,
    "start_time": "2022-09-05T17:31:13.089Z"
   },
   {
    "duration": 162,
    "start_time": "2022-09-05T17:31:25.919Z"
   },
   {
    "duration": 6,
    "start_time": "2022-09-05T18:12:01.683Z"
   },
   {
    "duration": 19,
    "start_time": "2022-09-05T18:12:02.575Z"
   },
   {
    "duration": 7,
    "start_time": "2022-09-05T18:12:26.566Z"
   },
   {
    "duration": 18,
    "start_time": "2022-09-05T18:12:27.281Z"
   },
   {
    "duration": 431,
    "start_time": "2022-09-05T18:24:10.075Z"
   },
   {
    "duration": 354,
    "start_time": "2022-09-05T18:24:19.696Z"
   },
   {
    "duration": 354,
    "start_time": "2022-09-05T18:24:26.735Z"
   },
   {
    "duration": 321,
    "start_time": "2022-09-05T18:24:53.796Z"
   },
   {
    "duration": 313,
    "start_time": "2022-09-05T18:25:02.447Z"
   },
   {
    "duration": 3,
    "start_time": "2022-09-05T18:26:39.528Z"
   },
   {
    "duration": 437,
    "start_time": "2022-09-05T18:26:41.289Z"
   },
   {
    "duration": 619,
    "start_time": "2022-09-05T20:11:06.048Z"
   },
   {
    "duration": 96,
    "start_time": "2022-09-05T20:11:06.669Z"
   },
   {
    "duration": 14,
    "start_time": "2022-09-05T20:11:06.767Z"
   },
   {
    "duration": 80,
    "start_time": "2022-09-05T20:11:06.783Z"
   },
   {
    "duration": 22,
    "start_time": "2022-09-05T20:11:06.864Z"
   },
   {
    "duration": 3,
    "start_time": "2022-09-05T20:11:06.887Z"
   },
   {
    "duration": 38,
    "start_time": "2022-09-05T20:11:06.898Z"
   },
   {
    "duration": 1851,
    "start_time": "2022-09-05T20:11:06.937Z"
   },
   {
    "duration": 17,
    "start_time": "2022-09-05T20:11:08.789Z"
   },
   {
    "duration": 70,
    "start_time": "2022-09-05T20:11:08.809Z"
   },
   {
    "duration": 49,
    "start_time": "2022-09-05T20:11:08.880Z"
   },
   {
    "duration": 4,
    "start_time": "2022-09-05T20:11:08.930Z"
   },
   {
    "duration": 9,
    "start_time": "2022-09-05T20:11:08.935Z"
   },
   {
    "duration": 5,
    "start_time": "2022-09-05T20:11:08.946Z"
   },
   {
    "duration": 123,
    "start_time": "2022-09-05T20:11:08.952Z"
   },
   {
    "duration": 8,
    "start_time": "2022-09-05T20:11:09.076Z"
   },
   {
    "duration": 6,
    "start_time": "2022-09-05T20:11:09.086Z"
   },
   {
    "duration": 23,
    "start_time": "2022-09-05T20:11:09.093Z"
   },
   {
    "duration": 11,
    "start_time": "2022-09-05T20:11:09.121Z"
   },
   {
    "duration": 7,
    "start_time": "2022-09-05T20:11:09.133Z"
   },
   {
    "duration": 5,
    "start_time": "2022-09-05T20:11:09.141Z"
   },
   {
    "duration": 10,
    "start_time": "2022-09-05T20:11:09.147Z"
   },
   {
    "duration": 112,
    "start_time": "2022-09-05T20:11:09.158Z"
   },
   {
    "duration": 8,
    "start_time": "2022-09-05T20:11:09.271Z"
   },
   {
    "duration": 107,
    "start_time": "2022-09-05T20:11:09.281Z"
   },
   {
    "duration": 21,
    "start_time": "2022-09-05T20:11:09.390Z"
   },
   {
    "duration": 13,
    "start_time": "2022-09-05T20:11:09.421Z"
   },
   {
    "duration": 24,
    "start_time": "2022-09-05T20:11:09.437Z"
   },
   {
    "duration": 5,
    "start_time": "2022-09-05T20:11:09.463Z"
   },
   {
    "duration": 115,
    "start_time": "2022-09-05T20:11:09.469Z"
   },
   {
    "duration": 8,
    "start_time": "2022-09-05T20:11:09.585Z"
   },
   {
    "duration": 19,
    "start_time": "2022-09-05T20:11:09.594Z"
   },
   {
    "duration": 18,
    "start_time": "2022-09-05T20:11:09.621Z"
   },
   {
    "duration": 114,
    "start_time": "2022-09-05T20:11:09.640Z"
   },
   {
    "duration": 236,
    "start_time": "2022-09-05T20:11:09.755Z"
   },
   {
    "duration": 28,
    "start_time": "2022-09-05T20:11:09.992Z"
   },
   {
    "duration": 15,
    "start_time": "2022-09-05T20:11:10.022Z"
   },
   {
    "duration": 14,
    "start_time": "2022-09-05T20:11:10.039Z"
   },
   {
    "duration": 15,
    "start_time": "2022-09-05T20:11:10.055Z"
   },
   {
    "duration": 16,
    "start_time": "2022-09-05T20:11:10.072Z"
   },
   {
    "duration": 36,
    "start_time": "2022-09-05T20:11:10.089Z"
   },
   {
    "duration": 25,
    "start_time": "2022-09-05T20:11:10.129Z"
   },
   {
    "duration": 316,
    "start_time": "2022-09-05T20:11:10.156Z"
   },
   {
    "duration": 4,
    "start_time": "2022-09-05T20:11:10.474Z"
   },
   {
    "duration": 37,
    "start_time": "2022-09-05T20:11:10.479Z"
   },
   {
    "duration": 170,
    "start_time": "2022-09-05T20:11:10.518Z"
   },
   {
    "duration": 185,
    "start_time": "2022-09-05T20:11:10.690Z"
   },
   {
    "duration": 170,
    "start_time": "2022-09-05T20:11:10.876Z"
   },
   {
    "duration": 123,
    "start_time": "2022-09-05T20:11:11.048Z"
   },
   {
    "duration": 174,
    "start_time": "2022-09-05T20:11:11.173Z"
   },
   {
    "duration": 178,
    "start_time": "2022-09-05T20:11:11.349Z"
   },
   {
    "duration": 183,
    "start_time": "2022-09-05T20:11:11.529Z"
   },
   {
    "duration": 250,
    "start_time": "2022-09-05T20:11:11.719Z"
   },
   {
    "duration": 186,
    "start_time": "2022-09-05T20:11:11.972Z"
   },
   {
    "duration": 165,
    "start_time": "2022-09-05T20:11:12.159Z"
   },
   {
    "duration": 173,
    "start_time": "2022-09-05T20:11:12.325Z"
   },
   {
    "duration": 174,
    "start_time": "2022-09-05T20:11:12.500Z"
   },
   {
    "duration": 345,
    "start_time": "2022-09-05T20:11:12.675Z"
   },
   {
    "duration": 2089,
    "start_time": "2022-09-05T20:11:13.025Z"
   },
   {
    "duration": 479,
    "start_time": "2022-09-05T20:11:15.116Z"
   },
   {
    "duration": 12,
    "start_time": "2022-09-05T20:11:15.596Z"
   },
   {
    "duration": 316,
    "start_time": "2022-09-05T20:11:15.609Z"
   },
   {
    "duration": 5,
    "start_time": "2022-09-05T20:11:15.929Z"
   },
   {
    "duration": 9,
    "start_time": "2022-09-05T20:11:15.935Z"
   },
   {
    "duration": 8,
    "start_time": "2022-09-05T20:11:15.945Z"
   },
   {
    "duration": 22,
    "start_time": "2022-09-05T20:11:15.954Z"
   },
   {
    "duration": 312,
    "start_time": "2022-09-05T20:11:15.978Z"
   },
   {
    "duration": 187,
    "start_time": "2022-09-05T20:11:16.291Z"
   },
   {
    "duration": 186,
    "start_time": "2022-09-05T20:11:16.480Z"
   },
   {
    "duration": 178,
    "start_time": "2022-09-05T20:11:16.668Z"
   },
   {
    "duration": 184,
    "start_time": "2022-09-05T20:11:16.848Z"
   },
   {
    "duration": 159,
    "start_time": "2022-09-05T20:11:17.034Z"
   },
   {
    "duration": 1189,
    "start_time": "2022-09-05T20:11:17.205Z"
   },
   {
    "duration": 0,
    "start_time": "2022-09-05T20:11:18.396Z"
   },
   {
    "duration": 0,
    "start_time": "2022-09-05T20:11:18.397Z"
   },
   {
    "duration": 0,
    "start_time": "2022-09-05T20:11:18.404Z"
   },
   {
    "duration": 0,
    "start_time": "2022-09-05T20:11:18.405Z"
   },
   {
    "duration": 0,
    "start_time": "2022-09-05T20:11:18.405Z"
   },
   {
    "duration": 0,
    "start_time": "2022-09-05T20:11:18.406Z"
   },
   {
    "duration": 0,
    "start_time": "2022-09-05T20:11:18.406Z"
   },
   {
    "duration": 0,
    "start_time": "2022-09-05T20:11:18.409Z"
   },
   {
    "duration": 0,
    "start_time": "2022-09-05T20:11:18.409Z"
   },
   {
    "duration": 0,
    "start_time": "2022-09-05T20:11:18.410Z"
   },
   {
    "duration": 55,
    "start_time": "2022-09-05T20:11:50.554Z"
   },
   {
    "duration": 47,
    "start_time": "2022-09-05T20:11:57.233Z"
   },
   {
    "duration": 15,
    "start_time": "2022-09-05T20:12:19.469Z"
   },
   {
    "duration": 21,
    "start_time": "2022-09-05T20:13:35.642Z"
   },
   {
    "duration": 12,
    "start_time": "2022-09-05T20:13:49.371Z"
   },
   {
    "duration": 39,
    "start_time": "2022-09-05T20:14:02.216Z"
   },
   {
    "duration": 4,
    "start_time": "2022-09-05T20:14:11.675Z"
   },
   {
    "duration": 153,
    "start_time": "2022-09-05T20:14:18.382Z"
   },
   {
    "duration": 217,
    "start_time": "2022-09-05T20:14:21.268Z"
   },
   {
    "duration": 151,
    "start_time": "2022-09-05T20:14:21.487Z"
   },
   {
    "duration": 23,
    "start_time": "2022-09-05T20:14:22.010Z"
   },
   {
    "duration": 4,
    "start_time": "2022-09-05T20:14:22.271Z"
   },
   {
    "duration": 4,
    "start_time": "2022-09-05T20:14:22.433Z"
   },
   {
    "duration": 3,
    "start_time": "2022-09-05T20:14:22.710Z"
   },
   {
    "duration": 7,
    "start_time": "2022-09-05T20:14:22.851Z"
   },
   {
    "duration": 4,
    "start_time": "2022-09-05T20:14:23.005Z"
   },
   {
    "duration": 8,
    "start_time": "2022-09-05T20:14:23.130Z"
   },
   {
    "duration": 135,
    "start_time": "2022-09-05T20:14:23.432Z"
   },
   {
    "duration": 209,
    "start_time": "2022-09-05T20:15:40.510Z"
   }
  ],
  "kernelspec": {
   "display_name": "Python 3",
   "language": "python",
   "name": "python3"
  },
  "language_info": {
   "codemirror_mode": {
    "name": "ipython",
    "version": 3
   },
   "file_extension": ".py",
   "mimetype": "text/x-python",
   "name": "python",
   "nbconvert_exporter": "python",
   "pygments_lexer": "ipython3",
   "version": "3.8.8"
  },
  "toc": {
   "base_numbering": 1,
   "nav_menu": {},
   "number_sections": true,
   "sideBar": true,
   "skip_h1_title": true,
   "title_cell": "Table of Contents",
   "title_sidebar": "Contents",
   "toc_cell": false,
   "toc_position": {},
   "toc_section_display": true,
   "toc_window_display": true
  }
 },
 "nbformat": 4,
 "nbformat_minor": 2
}
